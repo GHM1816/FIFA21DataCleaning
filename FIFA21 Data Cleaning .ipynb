{
 "cells": [
  {
   "cell_type": "markdown",
   "id": "7eb9cdd7",
   "metadata": {},
   "source": [
    "# Import Libraries"
   ]
  },
  {
   "cell_type": "code",
   "execution_count": 1,
   "id": "3f5c8ef7",
   "metadata": {},
   "outputs": [],
   "source": [
    "import pandas as pd\n",
    "import numpy as np"
   ]
  },
  {
   "cell_type": "markdown",
   "id": "a63e064e",
   "metadata": {},
   "source": [
    "# Read in the dataset"
   ]
  },
  {
   "cell_type": "code",
   "execution_count": 2,
   "id": "35194d38",
   "metadata": {},
   "outputs": [
    {
     "data": {
      "text/html": [
       "<div>\n",
       "<style scoped>\n",
       "    .dataframe tbody tr th:only-of-type {\n",
       "        vertical-align: middle;\n",
       "    }\n",
       "\n",
       "    .dataframe tbody tr th {\n",
       "        vertical-align: top;\n",
       "    }\n",
       "\n",
       "    .dataframe thead th {\n",
       "        text-align: right;\n",
       "    }\n",
       "</style>\n",
       "<table border=\"1\" class=\"dataframe\">\n",
       "  <thead>\n",
       "    <tr style=\"text-align: right;\">\n",
       "      <th></th>\n",
       "      <th>ID</th>\n",
       "      <th>Name</th>\n",
       "      <th>LongName</th>\n",
       "      <th>photoUrl</th>\n",
       "      <th>playerUrl</th>\n",
       "      <th>Nationality</th>\n",
       "      <th>Age</th>\n",
       "      <th>↓OVA</th>\n",
       "      <th>POT</th>\n",
       "      <th>Club</th>\n",
       "      <th>...</th>\n",
       "      <th>A/W</th>\n",
       "      <th>D/W</th>\n",
       "      <th>IR</th>\n",
       "      <th>PAC</th>\n",
       "      <th>SHO</th>\n",
       "      <th>PAS</th>\n",
       "      <th>DRI</th>\n",
       "      <th>DEF</th>\n",
       "      <th>PHY</th>\n",
       "      <th>Hits</th>\n",
       "    </tr>\n",
       "  </thead>\n",
       "  <tbody>\n",
       "    <tr>\n",
       "      <th>17329</th>\n",
       "      <td>258152</td>\n",
       "      <td>N. Igbokwe</td>\n",
       "      <td>Nmadi-Morris Igbokwe</td>\n",
       "      <td>https://cdn.sofifa.com/players/258/152/21_60.png</td>\n",
       "      <td>http://sofifa.com/player/258152/nmadi-morris-i...</td>\n",
       "      <td>Germany</td>\n",
       "      <td>17</td>\n",
       "      <td>56</td>\n",
       "      <td>70</td>\n",
       "      <td>\\n\\n\\n\\nSV Sandhausen</td>\n",
       "      <td>...</td>\n",
       "      <td>Medium</td>\n",
       "      <td>High</td>\n",
       "      <td>1 ★</td>\n",
       "      <td>67</td>\n",
       "      <td>32</td>\n",
       "      <td>42</td>\n",
       "      <td>57</td>\n",
       "      <td>54</td>\n",
       "      <td>56</td>\n",
       "      <td>NaN</td>\n",
       "    </tr>\n",
       "    <tr>\n",
       "      <th>11181</th>\n",
       "      <td>199768</td>\n",
       "      <td>C. Gartner</td>\n",
       "      <td>Christian Gartner</td>\n",
       "      <td>https://cdn.sofifa.com/players/199/768/21_60.png</td>\n",
       "      <td>http://sofifa.com/player/199768/christian-gart...</td>\n",
       "      <td>Austria</td>\n",
       "      <td>26</td>\n",
       "      <td>64</td>\n",
       "      <td>66</td>\n",
       "      <td>\\n\\n\\n\\nFC Admira Wacker Mödling</td>\n",
       "      <td>...</td>\n",
       "      <td>Medium</td>\n",
       "      <td>Medium</td>\n",
       "      <td>1 ★</td>\n",
       "      <td>65</td>\n",
       "      <td>53</td>\n",
       "      <td>65</td>\n",
       "      <td>68</td>\n",
       "      <td>63</td>\n",
       "      <td>59</td>\n",
       "      <td>2</td>\n",
       "    </tr>\n",
       "    <tr>\n",
       "      <th>1488</th>\n",
       "      <td>202201</td>\n",
       "      <td>J. Gouweleeuw</td>\n",
       "      <td>Jeffrey Gouweleeuw</td>\n",
       "      <td>https://cdn.sofifa.com/players/202/201/21_60.png</td>\n",
       "      <td>http://sofifa.com/player/202201/jeffrey-gouwel...</td>\n",
       "      <td>Netherlands</td>\n",
       "      <td>28</td>\n",
       "      <td>76</td>\n",
       "      <td>76</td>\n",
       "      <td>\\n\\n\\n\\nFC Augsburg</td>\n",
       "      <td>...</td>\n",
       "      <td>High</td>\n",
       "      <td>Medium</td>\n",
       "      <td>1 ★</td>\n",
       "      <td>71</td>\n",
       "      <td>58</td>\n",
       "      <td>66</td>\n",
       "      <td>63</td>\n",
       "      <td>79</td>\n",
       "      <td>75</td>\n",
       "      <td>22</td>\n",
       "    </tr>\n",
       "    <tr>\n",
       "      <th>12170</th>\n",
       "      <td>244743</td>\n",
       "      <td>R. Prieto</td>\n",
       "      <td>Ronaldo Prieto</td>\n",
       "      <td>https://cdn.sofifa.com/players/244/743/21_60.png</td>\n",
       "      <td>http://sofifa.com/player/244743/ronaldo-prieto...</td>\n",
       "      <td>Mexico</td>\n",
       "      <td>23</td>\n",
       "      <td>63</td>\n",
       "      <td>70</td>\n",
       "      <td>\\n\\n\\n\\nSantos Laguna</td>\n",
       "      <td>...</td>\n",
       "      <td>High</td>\n",
       "      <td>Low</td>\n",
       "      <td>1 ★</td>\n",
       "      <td>79</td>\n",
       "      <td>58</td>\n",
       "      <td>61</td>\n",
       "      <td>67</td>\n",
       "      <td>34</td>\n",
       "      <td>51</td>\n",
       "      <td>4</td>\n",
       "    </tr>\n",
       "    <tr>\n",
       "      <th>3669</th>\n",
       "      <td>172233</td>\n",
       "      <td>P. Hetemaj</td>\n",
       "      <td>Perparim Hetemaj</td>\n",
       "      <td>https://cdn.sofifa.com/players/172/233/21_60.png</td>\n",
       "      <td>http://sofifa.com/player/172233/perparim-hetem...</td>\n",
       "      <td>Finland</td>\n",
       "      <td>33</td>\n",
       "      <td>72</td>\n",
       "      <td>72</td>\n",
       "      <td>\\n\\n\\n\\nBenevento</td>\n",
       "      <td>...</td>\n",
       "      <td>High</td>\n",
       "      <td>High</td>\n",
       "      <td>2 ★</td>\n",
       "      <td>73</td>\n",
       "      <td>64</td>\n",
       "      <td>72</td>\n",
       "      <td>73</td>\n",
       "      <td>70</td>\n",
       "      <td>76</td>\n",
       "      <td>8</td>\n",
       "    </tr>\n",
       "    <tr>\n",
       "      <th>10163</th>\n",
       "      <td>224633</td>\n",
       "      <td>He Guan</td>\n",
       "      <td>Guan He</td>\n",
       "      <td>https://cdn.sofifa.com/players/224/633/21_60.png</td>\n",
       "      <td>http://sofifa.com/player/224633/guan-he/210006/</td>\n",
       "      <td>China PR</td>\n",
       "      <td>27</td>\n",
       "      <td>65</td>\n",
       "      <td>68</td>\n",
       "      <td>\\n\\n\\n\\nShanghai SIPG FC</td>\n",
       "      <td>...</td>\n",
       "      <td>Medium</td>\n",
       "      <td>Medium</td>\n",
       "      <td>1 ★</td>\n",
       "      <td>71</td>\n",
       "      <td>32</td>\n",
       "      <td>51</td>\n",
       "      <td>52</td>\n",
       "      <td>65</td>\n",
       "      <td>71</td>\n",
       "      <td>1</td>\n",
       "    </tr>\n",
       "    <tr>\n",
       "      <th>7939</th>\n",
       "      <td>214411</td>\n",
       "      <td>N. Maturana</td>\n",
       "      <td>Nicolás Maturana</td>\n",
       "      <td>https://cdn.sofifa.com/players/214/411/21_60.png</td>\n",
       "      <td>http://sofifa.com/player/214411/nicolas-matura...</td>\n",
       "      <td>Chile</td>\n",
       "      <td>26</td>\n",
       "      <td>67</td>\n",
       "      <td>67</td>\n",
       "      <td>\\n\\n\\n\\nColo-Colo</td>\n",
       "      <td>...</td>\n",
       "      <td>High</td>\n",
       "      <td>Low</td>\n",
       "      <td>1 ★</td>\n",
       "      <td>75</td>\n",
       "      <td>60</td>\n",
       "      <td>65</td>\n",
       "      <td>69</td>\n",
       "      <td>45</td>\n",
       "      <td>57</td>\n",
       "      <td>6</td>\n",
       "    </tr>\n",
       "    <tr>\n",
       "      <th>18937</th>\n",
       "      <td>257372</td>\n",
       "      <td>A. Phelan</td>\n",
       "      <td>Alex Phelan</td>\n",
       "      <td>https://cdn.sofifa.com/players/257/372/21_60.png</td>\n",
       "      <td>http://sofifa.com/player/257372/alex-phelan/21...</td>\n",
       "      <td>Republic of Ireland</td>\n",
       "      <td>19</td>\n",
       "      <td>48</td>\n",
       "      <td>56</td>\n",
       "      <td>\\n\\n\\n\\nWaterford FC</td>\n",
       "      <td>...</td>\n",
       "      <td>Medium</td>\n",
       "      <td>Medium</td>\n",
       "      <td>1 ★</td>\n",
       "      <td>65</td>\n",
       "      <td>43</td>\n",
       "      <td>48</td>\n",
       "      <td>50</td>\n",
       "      <td>39</td>\n",
       "      <td>48</td>\n",
       "      <td>NaN</td>\n",
       "    </tr>\n",
       "    <tr>\n",
       "      <th>8718</th>\n",
       "      <td>206147</td>\n",
       "      <td>M. Antonsson</td>\n",
       "      <td>Marcus Antonsson</td>\n",
       "      <td>https://cdn.sofifa.com/players/206/147/21_60.png</td>\n",
       "      <td>http://sofifa.com/player/206147/marcus-antonss...</td>\n",
       "      <td>Sweden</td>\n",
       "      <td>29</td>\n",
       "      <td>66</td>\n",
       "      <td>66</td>\n",
       "      <td>\\n\\n\\n\\nStabæk Fotball</td>\n",
       "      <td>...</td>\n",
       "      <td>High</td>\n",
       "      <td>High</td>\n",
       "      <td>1 ★</td>\n",
       "      <td>78</td>\n",
       "      <td>65</td>\n",
       "      <td>57</td>\n",
       "      <td>64</td>\n",
       "      <td>42</td>\n",
       "      <td>75</td>\n",
       "      <td>1</td>\n",
       "    </tr>\n",
       "    <tr>\n",
       "      <th>6073</th>\n",
       "      <td>191153</td>\n",
       "      <td>M. Sandberg</td>\n",
       "      <td>Marcus Sandberg</td>\n",
       "      <td>https://cdn.sofifa.com/players/191/153/21_60.png</td>\n",
       "      <td>http://sofifa.com/player/191153/marcus-sandber...</td>\n",
       "      <td>Sweden</td>\n",
       "      <td>29</td>\n",
       "      <td>69</td>\n",
       "      <td>71</td>\n",
       "      <td>\\n\\n\\n\\nStabæk Fotball</td>\n",
       "      <td>...</td>\n",
       "      <td>Medium</td>\n",
       "      <td>Medium</td>\n",
       "      <td>1 ★</td>\n",
       "      <td>69</td>\n",
       "      <td>67</td>\n",
       "      <td>66</td>\n",
       "      <td>70</td>\n",
       "      <td>33</td>\n",
       "      <td>69</td>\n",
       "      <td>2</td>\n",
       "    </tr>\n",
       "  </tbody>\n",
       "</table>\n",
       "<p>10 rows × 77 columns</p>\n",
       "</div>"
      ],
      "text/plain": [
       "           ID           Name              LongName  \\\n",
       "17329  258152     N. Igbokwe  Nmadi-Morris Igbokwe   \n",
       "11181  199768     C. Gartner     Christian Gartner   \n",
       "1488   202201  J. Gouweleeuw    Jeffrey Gouweleeuw   \n",
       "12170  244743      R. Prieto        Ronaldo Prieto   \n",
       "3669   172233     P. Hetemaj      Perparim Hetemaj   \n",
       "10163  224633        He Guan               Guan He   \n",
       "7939   214411    N. Maturana      Nicolás Maturana   \n",
       "18937  257372      A. Phelan           Alex Phelan   \n",
       "8718   206147   M. Antonsson      Marcus Antonsson   \n",
       "6073   191153    M. Sandberg       Marcus Sandberg   \n",
       "\n",
       "                                               photoUrl  \\\n",
       "17329  https://cdn.sofifa.com/players/258/152/21_60.png   \n",
       "11181  https://cdn.sofifa.com/players/199/768/21_60.png   \n",
       "1488   https://cdn.sofifa.com/players/202/201/21_60.png   \n",
       "12170  https://cdn.sofifa.com/players/244/743/21_60.png   \n",
       "3669   https://cdn.sofifa.com/players/172/233/21_60.png   \n",
       "10163  https://cdn.sofifa.com/players/224/633/21_60.png   \n",
       "7939   https://cdn.sofifa.com/players/214/411/21_60.png   \n",
       "18937  https://cdn.sofifa.com/players/257/372/21_60.png   \n",
       "8718   https://cdn.sofifa.com/players/206/147/21_60.png   \n",
       "6073   https://cdn.sofifa.com/players/191/153/21_60.png   \n",
       "\n",
       "                                               playerUrl          Nationality  \\\n",
       "17329  http://sofifa.com/player/258152/nmadi-morris-i...              Germany   \n",
       "11181  http://sofifa.com/player/199768/christian-gart...              Austria   \n",
       "1488   http://sofifa.com/player/202201/jeffrey-gouwel...          Netherlands   \n",
       "12170  http://sofifa.com/player/244743/ronaldo-prieto...               Mexico   \n",
       "3669   http://sofifa.com/player/172233/perparim-hetem...              Finland   \n",
       "10163    http://sofifa.com/player/224633/guan-he/210006/             China PR   \n",
       "7939   http://sofifa.com/player/214411/nicolas-matura...                Chile   \n",
       "18937  http://sofifa.com/player/257372/alex-phelan/21...  Republic of Ireland   \n",
       "8718   http://sofifa.com/player/206147/marcus-antonss...               Sweden   \n",
       "6073   http://sofifa.com/player/191153/marcus-sandber...               Sweden   \n",
       "\n",
       "       Age  ↓OVA  POT                              Club  ...     A/W     D/W  \\\n",
       "17329   17    56   70             \\n\\n\\n\\nSV Sandhausen  ...  Medium    High   \n",
       "11181   26    64   66  \\n\\n\\n\\nFC Admira Wacker Mödling  ...  Medium  Medium   \n",
       "1488    28    76   76               \\n\\n\\n\\nFC Augsburg  ...    High  Medium   \n",
       "12170   23    63   70             \\n\\n\\n\\nSantos Laguna  ...    High     Low   \n",
       "3669    33    72   72                 \\n\\n\\n\\nBenevento  ...    High    High   \n",
       "10163   27    65   68          \\n\\n\\n\\nShanghai SIPG FC  ...  Medium  Medium   \n",
       "7939    26    67   67                 \\n\\n\\n\\nColo-Colo  ...    High     Low   \n",
       "18937   19    48   56              \\n\\n\\n\\nWaterford FC  ...  Medium  Medium   \n",
       "8718    29    66   66            \\n\\n\\n\\nStabæk Fotball  ...    High    High   \n",
       "6073    29    69   71            \\n\\n\\n\\nStabæk Fotball  ...  Medium  Medium   \n",
       "\n",
       "        IR PAC SHO  PAS DRI DEF PHY Hits  \n",
       "17329  1 ★  67  32   42  57  54  56  NaN  \n",
       "11181  1 ★  65  53   65  68  63  59    2  \n",
       "1488   1 ★  71  58   66  63  79  75   22  \n",
       "12170  1 ★  79  58   61  67  34  51    4  \n",
       "3669   2 ★  73  64   72  73  70  76    8  \n",
       "10163  1 ★  71  32   51  52  65  71    1  \n",
       "7939   1 ★  75  60   65  69  45  57    6  \n",
       "18937  1 ★  65  43   48  50  39  48  NaN  \n",
       "8718   1 ★  78  65   57  64  42  75    1  \n",
       "6073   1 ★  69  67   66  70  33  69    2  \n",
       "\n",
       "[10 rows x 77 columns]"
      ]
     },
     "execution_count": 2,
     "metadata": {},
     "output_type": "execute_result"
    }
   ],
   "source": [
    "df = pd.read_csv(\"./fifa21 raw data v2.csv\", low_memory=False)\n",
    "\n",
    "df.sample(10)"
   ]
  },
  {
   "cell_type": "code",
   "execution_count": 3,
   "id": "6d6c8500",
   "metadata": {},
   "outputs": [
    {
     "data": {
      "text/plain": [
       "(18979, 77)"
      ]
     },
     "execution_count": 3,
     "metadata": {},
     "output_type": "execute_result"
    }
   ],
   "source": [
    "df.shape"
   ]
  },
  {
   "cell_type": "markdown",
   "id": "120af102",
   "metadata": {},
   "source": [
    "# Data Cleaning"
   ]
  },
  {
   "cell_type": "markdown",
   "id": "493e2690",
   "metadata": {},
   "source": [
    "### Create a copy of DataFrame"
   ]
  },
  {
   "cell_type": "code",
   "execution_count": 4,
   "id": "7f3cbb16",
   "metadata": {},
   "outputs": [
    {
     "name": "stdout",
     "output_type": "stream",
     "text": [
      "<class 'pandas.core.frame.DataFrame'>\n",
      "RangeIndex: 18979 entries, 0 to 18978\n",
      "Data columns (total 77 columns):\n",
      " #   Column            Non-Null Count  Dtype \n",
      "---  ------            --------------  ----- \n",
      " 0   ID                18979 non-null  int64 \n",
      " 1   Name              18979 non-null  object\n",
      " 2   LongName          18979 non-null  object\n",
      " 3   photoUrl          18979 non-null  object\n",
      " 4   playerUrl         18979 non-null  object\n",
      " 5   Nationality       18979 non-null  object\n",
      " 6   Age               18979 non-null  int64 \n",
      " 7   ↓OVA              18979 non-null  int64 \n",
      " 8   POT               18979 non-null  int64 \n",
      " 9   Club              18979 non-null  object\n",
      " 10  Contract          18979 non-null  object\n",
      " 11  Positions         18979 non-null  object\n",
      " 12  Height            18979 non-null  object\n",
      " 13  Weight            18979 non-null  object\n",
      " 14  Preferred Foot    18979 non-null  object\n",
      " 15  BOV               18979 non-null  int64 \n",
      " 16  Best Position     18979 non-null  object\n",
      " 17  Joined            18979 non-null  object\n",
      " 18  Loan Date End     1013 non-null   object\n",
      " 19  Value             18979 non-null  object\n",
      " 20  Wage              18979 non-null  object\n",
      " 21  Release Clause    18979 non-null  object\n",
      " 22  Attacking         18979 non-null  int64 \n",
      " 23  Crossing          18979 non-null  int64 \n",
      " 24  Finishing         18979 non-null  int64 \n",
      " 25  Heading Accuracy  18979 non-null  int64 \n",
      " 26  Short Passing     18979 non-null  int64 \n",
      " 27  Volleys           18979 non-null  int64 \n",
      " 28  Skill             18979 non-null  int64 \n",
      " 29  Dribbling         18979 non-null  int64 \n",
      " 30  Curve             18979 non-null  int64 \n",
      " 31  FK Accuracy       18979 non-null  int64 \n",
      " 32  Long Passing      18979 non-null  int64 \n",
      " 33  Ball Control      18979 non-null  int64 \n",
      " 34  Movement          18979 non-null  int64 \n",
      " 35  Acceleration      18979 non-null  int64 \n",
      " 36  Sprint Speed      18979 non-null  int64 \n",
      " 37  Agility           18979 non-null  int64 \n",
      " 38  Reactions         18979 non-null  int64 \n",
      " 39  Balance           18979 non-null  int64 \n",
      " 40  Power             18979 non-null  int64 \n",
      " 41  Shot Power        18979 non-null  int64 \n",
      " 42  Jumping           18979 non-null  int64 \n",
      " 43  Stamina           18979 non-null  int64 \n",
      " 44  Strength          18979 non-null  int64 \n",
      " 45  Long Shots        18979 non-null  int64 \n",
      " 46  Mentality         18979 non-null  int64 \n",
      " 47  Aggression        18979 non-null  int64 \n",
      " 48  Interceptions     18979 non-null  int64 \n",
      " 49  Positioning       18979 non-null  int64 \n",
      " 50  Vision            18979 non-null  int64 \n",
      " 51  Penalties         18979 non-null  int64 \n",
      " 52  Composure         18979 non-null  int64 \n",
      " 53  Defending         18979 non-null  int64 \n",
      " 54  Marking           18979 non-null  int64 \n",
      " 55  Standing Tackle   18979 non-null  int64 \n",
      " 56  Sliding Tackle    18979 non-null  int64 \n",
      " 57  Goalkeeping       18979 non-null  int64 \n",
      " 58  GK Diving         18979 non-null  int64 \n",
      " 59  GK Handling       18979 non-null  int64 \n",
      " 60  GK Kicking        18979 non-null  int64 \n",
      " 61  GK Positioning    18979 non-null  int64 \n",
      " 62  GK Reflexes       18979 non-null  int64 \n",
      " 63  Total Stats       18979 non-null  int64 \n",
      " 64  Base Stats        18979 non-null  int64 \n",
      " 65  W/F               18979 non-null  object\n",
      " 66  SM                18979 non-null  object\n",
      " 67  A/W               18979 non-null  object\n",
      " 68  D/W               18979 non-null  object\n",
      " 69  IR                18979 non-null  object\n",
      " 70  PAC               18979 non-null  int64 \n",
      " 71  SHO               18979 non-null  int64 \n",
      " 72  PAS               18979 non-null  int64 \n",
      " 73  DRI               18979 non-null  int64 \n",
      " 74  DEF               18979 non-null  int64 \n",
      " 75  PHY               18979 non-null  int64 \n",
      " 76  Hits              16384 non-null  object\n",
      "dtypes: int64(54), object(23)\n",
      "memory usage: 11.1+ MB\n"
     ]
    }
   ],
   "source": [
    "df.info()"
   ]
  },
  {
   "cell_type": "code",
   "execution_count": 5,
   "id": "0d5e2f2b",
   "metadata": {},
   "outputs": [
    {
     "data": {
      "text/html": [
       "<div>\n",
       "<style scoped>\n",
       "    .dataframe tbody tr th:only-of-type {\n",
       "        vertical-align: middle;\n",
       "    }\n",
       "\n",
       "    .dataframe tbody tr th {\n",
       "        vertical-align: top;\n",
       "    }\n",
       "\n",
       "    .dataframe thead th {\n",
       "        text-align: right;\n",
       "    }\n",
       "</style>\n",
       "<table border=\"1\" class=\"dataframe\">\n",
       "  <thead>\n",
       "    <tr style=\"text-align: right;\">\n",
       "      <th></th>\n",
       "      <th>ID</th>\n",
       "      <th>Name</th>\n",
       "      <th>LongName</th>\n",
       "      <th>photoUrl</th>\n",
       "      <th>playerUrl</th>\n",
       "      <th>Nationality</th>\n",
       "      <th>Age</th>\n",
       "      <th>↓OVA</th>\n",
       "      <th>POT</th>\n",
       "      <th>Club</th>\n",
       "      <th>...</th>\n",
       "      <th>A/W</th>\n",
       "      <th>D/W</th>\n",
       "      <th>IR</th>\n",
       "      <th>PAC</th>\n",
       "      <th>SHO</th>\n",
       "      <th>PAS</th>\n",
       "      <th>DRI</th>\n",
       "      <th>DEF</th>\n",
       "      <th>PHY</th>\n",
       "      <th>Hits</th>\n",
       "    </tr>\n",
       "  </thead>\n",
       "  <tbody>\n",
       "    <tr>\n",
       "      <th>10210</th>\n",
       "      <td>140423</td>\n",
       "      <td>J. Buxton</td>\n",
       "      <td>Jake Buxton</td>\n",
       "      <td>https://cdn.sofifa.com/players/140/423/21_60.png</td>\n",
       "      <td>http://sofifa.com/player/140423/jake-buxton/21...</td>\n",
       "      <td>England</td>\n",
       "      <td>35</td>\n",
       "      <td>65</td>\n",
       "      <td>65</td>\n",
       "      <td>\\n\\n\\n\\nBurton Albion</td>\n",
       "      <td>...</td>\n",
       "      <td>Low</td>\n",
       "      <td>High</td>\n",
       "      <td>1 ★</td>\n",
       "      <td>36</td>\n",
       "      <td>36</td>\n",
       "      <td>45</td>\n",
       "      <td>36</td>\n",
       "      <td>65</td>\n",
       "      <td>71</td>\n",
       "      <td>1</td>\n",
       "    </tr>\n",
       "    <tr>\n",
       "      <th>13318</th>\n",
       "      <td>246863</td>\n",
       "      <td>F. Nmecha</td>\n",
       "      <td>Felix Nmecha</td>\n",
       "      <td>https://cdn.sofifa.com/players/246/863/21_60.png</td>\n",
       "      <td>http://sofifa.com/player/246863/felix-nmecha/2...</td>\n",
       "      <td>England</td>\n",
       "      <td>19</td>\n",
       "      <td>62</td>\n",
       "      <td>82</td>\n",
       "      <td>\\n\\n\\n\\nManchester City</td>\n",
       "      <td>...</td>\n",
       "      <td>High</td>\n",
       "      <td>Medium</td>\n",
       "      <td>1 ★</td>\n",
       "      <td>74</td>\n",
       "      <td>54</td>\n",
       "      <td>61</td>\n",
       "      <td>62</td>\n",
       "      <td>45</td>\n",
       "      <td>55</td>\n",
       "      <td>136</td>\n",
       "    </tr>\n",
       "    <tr>\n",
       "      <th>11546</th>\n",
       "      <td>211881</td>\n",
       "      <td>Q. Moll</td>\n",
       "      <td>Quirin Moll</td>\n",
       "      <td>https://cdn.sofifa.com/players/211/881/21_60.png</td>\n",
       "      <td>http://sofifa.com/player/211881/quirin-moll/21...</td>\n",
       "      <td>Germany</td>\n",
       "      <td>29</td>\n",
       "      <td>64</td>\n",
       "      <td>64</td>\n",
       "      <td>\\n\\n\\n\\nTSV 1860 München</td>\n",
       "      <td>...</td>\n",
       "      <td>Medium</td>\n",
       "      <td>Medium</td>\n",
       "      <td>1 ★</td>\n",
       "      <td>59</td>\n",
       "      <td>50</td>\n",
       "      <td>59</td>\n",
       "      <td>57</td>\n",
       "      <td>64</td>\n",
       "      <td>70</td>\n",
       "      <td>6</td>\n",
       "    </tr>\n",
       "  </tbody>\n",
       "</table>\n",
       "<p>3 rows × 77 columns</p>\n",
       "</div>"
      ],
      "text/plain": [
       "           ID       Name      LongName  \\\n",
       "10210  140423  J. Buxton   Jake Buxton   \n",
       "13318  246863  F. Nmecha  Felix Nmecha   \n",
       "11546  211881    Q. Moll   Quirin Moll   \n",
       "\n",
       "                                               photoUrl  \\\n",
       "10210  https://cdn.sofifa.com/players/140/423/21_60.png   \n",
       "13318  https://cdn.sofifa.com/players/246/863/21_60.png   \n",
       "11546  https://cdn.sofifa.com/players/211/881/21_60.png   \n",
       "\n",
       "                                               playerUrl Nationality  Age  \\\n",
       "10210  http://sofifa.com/player/140423/jake-buxton/21...     England   35   \n",
       "13318  http://sofifa.com/player/246863/felix-nmecha/2...     England   19   \n",
       "11546  http://sofifa.com/player/211881/quirin-moll/21...     Germany   29   \n",
       "\n",
       "       ↓OVA  POT                      Club  ...     A/W     D/W   IR PAC SHO  \\\n",
       "10210    65   65     \\n\\n\\n\\nBurton Albion  ...     Low    High  1 ★  36  36   \n",
       "13318    62   82   \\n\\n\\n\\nManchester City  ...    High  Medium  1 ★  74  54   \n",
       "11546    64   64  \\n\\n\\n\\nTSV 1860 München  ...  Medium  Medium  1 ★  59  50   \n",
       "\n",
       "       PAS DRI DEF PHY Hits  \n",
       "10210   45  36  65  71    1  \n",
       "13318   61  62  45  55  136  \n",
       "11546   59  57  64  70    6  \n",
       "\n",
       "[3 rows x 77 columns]"
      ]
     },
     "execution_count": 5,
     "metadata": {},
     "output_type": "execute_result"
    }
   ],
   "source": [
    "fifa = df.copy()\n",
    "\n",
    "fifa.sample(3)"
   ]
  },
  {
   "cell_type": "markdown",
   "id": "11ff7887",
   "metadata": {},
   "source": [
    "## 1. ID"
   ]
  },
  {
   "cell_type": "markdown",
   "id": "54a1263f",
   "metadata": {},
   "source": [
    "#### Unique identifier for each player "
   ]
  },
  {
   "cell_type": "code",
   "execution_count": 6,
   "id": "0e1d5c46",
   "metadata": {},
   "outputs": [
    {
     "data": {
      "text/plain": [
       "dtype('int64')"
      ]
     },
     "execution_count": 6,
     "metadata": {},
     "output_type": "execute_result"
    }
   ],
   "source": [
    "fifa['ID'].dtype"
   ]
  },
  {
   "cell_type": "code",
   "execution_count": 7,
   "id": "48ff8a3f",
   "metadata": {},
   "outputs": [
    {
     "data": {
      "text/plain": [
       "array([158023,  20801, 200389, ..., 252757, 243790, 252520])"
      ]
     },
     "execution_count": 7,
     "metadata": {},
     "output_type": "execute_result"
    }
   ],
   "source": [
    "fifa['ID'].unique()"
   ]
  },
  {
   "cell_type": "code",
   "execution_count": 8,
   "id": "7e1cd57d",
   "metadata": {},
   "outputs": [
    {
     "data": {
      "text/plain": [
       "array([False])"
      ]
     },
     "execution_count": 8,
     "metadata": {},
     "output_type": "execute_result"
    }
   ],
   "source": [
    "fifa['ID'].duplicated().unique()"
   ]
  },
  {
   "cell_type": "code",
   "execution_count": 9,
   "id": "70bf9879",
   "metadata": {},
   "outputs": [
    {
     "data": {
      "text/html": [
       "<div>\n",
       "<style scoped>\n",
       "    .dataframe tbody tr th:only-of-type {\n",
       "        vertical-align: middle;\n",
       "    }\n",
       "\n",
       "    .dataframe tbody tr th {\n",
       "        vertical-align: top;\n",
       "    }\n",
       "\n",
       "    .dataframe thead th {\n",
       "        text-align: right;\n",
       "    }\n",
       "</style>\n",
       "<table border=\"1\" class=\"dataframe\">\n",
       "  <thead>\n",
       "    <tr style=\"text-align: right;\">\n",
       "      <th></th>\n",
       "      <th>Name</th>\n",
       "      <th>LongName</th>\n",
       "      <th>photoUrl</th>\n",
       "      <th>playerUrl</th>\n",
       "      <th>Nationality</th>\n",
       "      <th>Age</th>\n",
       "      <th>↓OVA</th>\n",
       "      <th>POT</th>\n",
       "      <th>Club</th>\n",
       "      <th>Contract</th>\n",
       "      <th>...</th>\n",
       "      <th>A/W</th>\n",
       "      <th>D/W</th>\n",
       "      <th>IR</th>\n",
       "      <th>PAC</th>\n",
       "      <th>SHO</th>\n",
       "      <th>PAS</th>\n",
       "      <th>DRI</th>\n",
       "      <th>DEF</th>\n",
       "      <th>PHY</th>\n",
       "      <th>Hits</th>\n",
       "    </tr>\n",
       "    <tr>\n",
       "      <th>ID</th>\n",
       "      <th></th>\n",
       "      <th></th>\n",
       "      <th></th>\n",
       "      <th></th>\n",
       "      <th></th>\n",
       "      <th></th>\n",
       "      <th></th>\n",
       "      <th></th>\n",
       "      <th></th>\n",
       "      <th></th>\n",
       "      <th></th>\n",
       "      <th></th>\n",
       "      <th></th>\n",
       "      <th></th>\n",
       "      <th></th>\n",
       "      <th></th>\n",
       "      <th></th>\n",
       "      <th></th>\n",
       "      <th></th>\n",
       "      <th></th>\n",
       "      <th></th>\n",
       "    </tr>\n",
       "  </thead>\n",
       "  <tbody>\n",
       "    <tr>\n",
       "      <th>236830</th>\n",
       "      <td>Z. Youssouf</td>\n",
       "      <td>Zaydou Youssouf</td>\n",
       "      <td>https://cdn.sofifa.com/players/236/830/21_60.png</td>\n",
       "      <td>http://sofifa.com/player/236830/zaydou-youssou...</td>\n",
       "      <td>France</td>\n",
       "      <td>20</td>\n",
       "      <td>71</td>\n",
       "      <td>82</td>\n",
       "      <td>\\n\\n\\n\\nAS Saint-Étienne</td>\n",
       "      <td>2019 ~ 2023</td>\n",
       "      <td>...</td>\n",
       "      <td>Medium</td>\n",
       "      <td>Medium</td>\n",
       "      <td>1 ★</td>\n",
       "      <td>66</td>\n",
       "      <td>57</td>\n",
       "      <td>71</td>\n",
       "      <td>74</td>\n",
       "      <td>64</td>\n",
       "      <td>70</td>\n",
       "      <td>50</td>\n",
       "    </tr>\n",
       "  </tbody>\n",
       "</table>\n",
       "<p>1 rows × 76 columns</p>\n",
       "</div>"
      ],
      "text/plain": [
       "               Name         LongName  \\\n",
       "ID                                     \n",
       "236830  Z. Youssouf  Zaydou Youssouf   \n",
       "\n",
       "                                                photoUrl  \\\n",
       "ID                                                         \n",
       "236830  https://cdn.sofifa.com/players/236/830/21_60.png   \n",
       "\n",
       "                                                playerUrl Nationality  Age  \\\n",
       "ID                                                                           \n",
       "236830  http://sofifa.com/player/236830/zaydou-youssou...      France   20   \n",
       "\n",
       "        ↓OVA  POT                      Club     Contract  ...     A/W     D/W  \\\n",
       "ID                                                        ...                   \n",
       "236830    71   82  \\n\\n\\n\\nAS Saint-Étienne  2019 ~ 2023  ...  Medium  Medium   \n",
       "\n",
       "         IR PAC  SHO PAS DRI DEF PHY Hits  \n",
       "ID                                         \n",
       "236830  1 ★  66   57  71  74  64  70   50  \n",
       "\n",
       "[1 rows x 76 columns]"
      ]
     },
     "execution_count": 9,
     "metadata": {},
     "output_type": "execute_result"
    }
   ],
   "source": [
    "fifa = fifa.set_index('ID')\n",
    "\n",
    "fifa.sample(1)"
   ]
  },
  {
   "cell_type": "markdown",
   "id": "ad9822f7",
   "metadata": {},
   "source": [
    "# 2. Name"
   ]
  },
  {
   "cell_type": "markdown",
   "id": "a2ba3070",
   "metadata": {},
   "source": [
    "Player's name"
   ]
  },
  {
   "cell_type": "code",
   "execution_count": 10,
   "id": "d806d24c",
   "metadata": {},
   "outputs": [
    {
     "data": {
      "text/plain": [
       "dtype('O')"
      ]
     },
     "execution_count": 10,
     "metadata": {},
     "output_type": "execute_result"
    }
   ],
   "source": [
    "fifa['Name'].dtype"
   ]
  },
  {
   "cell_type": "code",
   "execution_count": 11,
   "id": "33121362",
   "metadata": {},
   "outputs": [
    {
     "data": {
      "text/plain": [
       "array(['L. Messi', 'Cristiano Ronaldo', 'J. Oblak', ..., 'R. McKinley',\n",
       "       \"Wang Zhen'ao\", 'Zhou Xiao'], dtype=object)"
      ]
     },
     "execution_count": 11,
     "metadata": {},
     "output_type": "execute_result"
    }
   ],
   "source": [
    "fifa['Name'].unique()"
   ]
  },
  {
   "cell_type": "markdown",
   "id": "869e656d",
   "metadata": {},
   "source": [
    "## 3. Long Name of player"
   ]
  },
  {
   "cell_type": "markdown",
   "id": "2bafeb7a",
   "metadata": {},
   "source": [
    "Player's full name"
   ]
  },
  {
   "cell_type": "code",
   "execution_count": 12,
   "id": "a8116dad",
   "metadata": {},
   "outputs": [
    {
     "data": {
      "text/plain": [
       "dtype('O')"
      ]
     },
     "execution_count": 12,
     "metadata": {},
     "output_type": "execute_result"
    }
   ],
   "source": [
    "fifa['LongName'].dtype"
   ]
  },
  {
   "cell_type": "code",
   "execution_count": 13,
   "id": "47b3efa8",
   "metadata": {},
   "outputs": [
    {
     "data": {
      "text/plain": [
       "array(['Lionel Messi', 'C. Ronaldo dos Santos Aveiro', 'Jan Oblak', ...,\n",
       "       'Ronan McKinley', \"Zhen'ao Wang\", 'Xiao Zhou'], dtype=object)"
      ]
     },
     "execution_count": 13,
     "metadata": {},
     "output_type": "execute_result"
    }
   ],
   "source": [
    "fifa['LongName'].unique()"
   ]
  },
  {
   "cell_type": "markdown",
   "id": "9c6ca912",
   "metadata": {},
   "source": [
    "# 4. photoURL"
   ]
  },
  {
   "cell_type": "markdown",
   "id": "d100aed8",
   "metadata": {},
   "source": [
    "URL to player's photo"
   ]
  },
  {
   "cell_type": "code",
   "execution_count": 14,
   "id": "e1e1f71d",
   "metadata": {},
   "outputs": [
    {
     "data": {
      "text/plain": [
       "dtype('O')"
      ]
     },
     "execution_count": 14,
     "metadata": {},
     "output_type": "execute_result"
    }
   ],
   "source": [
    "fifa['photoUrl'].dtype"
   ]
  },
  {
   "cell_type": "code",
   "execution_count": 15,
   "id": "f73fb42b",
   "metadata": {},
   "outputs": [
    {
     "data": {
      "text/plain": [
       "array(['https://cdn.sofifa.com/players/158/023/21_60.png',\n",
       "       'https://cdn.sofifa.com/players/020/801/21_60.png',\n",
       "       'https://cdn.sofifa.com/players/200/389/21_60.png', ...,\n",
       "       'https://cdn.sofifa.com/players/252/757/21_60.png',\n",
       "       'https://cdn.sofifa.com/players/243/790/21_60.png',\n",
       "       'https://cdn.sofifa.com/players/252/520/21_60.png'], dtype=object)"
      ]
     },
     "execution_count": 15,
     "metadata": {},
     "output_type": "execute_result"
    }
   ],
   "source": [
    "fifa['photoUrl'].unique()"
   ]
  },
  {
   "cell_type": "markdown",
   "id": "e99d09e7",
   "metadata": {},
   "source": [
    "# 5. playerURL"
   ]
  },
  {
   "cell_type": "markdown",
   "id": "4bafff20",
   "metadata": {},
   "source": [
    "URL to player's profile"
   ]
  },
  {
   "cell_type": "code",
   "execution_count": 16,
   "id": "ef7d9831",
   "metadata": {},
   "outputs": [
    {
     "data": {
      "text/plain": [
       "dtype('O')"
      ]
     },
     "execution_count": 16,
     "metadata": {},
     "output_type": "execute_result"
    }
   ],
   "source": [
    "fifa['playerUrl'].dtype"
   ]
  },
  {
   "cell_type": "code",
   "execution_count": 17,
   "id": "c09a010c",
   "metadata": {},
   "outputs": [
    {
     "data": {
      "text/plain": [
       "array(['http://sofifa.com/player/158023/lionel-messi/210006/',\n",
       "       'http://sofifa.com/player/20801/c-ronaldo-dos-santos-aveiro/210006/',\n",
       "       'http://sofifa.com/player/200389/jan-oblak/210006/', ...,\n",
       "       'http://sofifa.com/player/252757/ronan-mckinley/210006/',\n",
       "       'http://sofifa.com/player/243790/zhenao-wang/210006/',\n",
       "       'http://sofifa.com/player/252520/xiao-zhou/210006/'], dtype=object)"
      ]
     },
     "execution_count": 17,
     "metadata": {},
     "output_type": "execute_result"
    }
   ],
   "source": [
    "fifa['playerUrl'].unique()"
   ]
  },
  {
   "cell_type": "markdown",
   "id": "d7c6dd1b",
   "metadata": {},
   "source": [
    "# 6. Nationality"
   ]
  },
  {
   "cell_type": "markdown",
   "id": "e5ca459c",
   "metadata": {},
   "source": [
    "Player's nationality"
   ]
  },
  {
   "cell_type": "code",
   "execution_count": 18,
   "id": "06c086cf",
   "metadata": {},
   "outputs": [
    {
     "data": {
      "text/plain": [
       "dtype('O')"
      ]
     },
     "execution_count": 18,
     "metadata": {},
     "output_type": "execute_result"
    }
   ],
   "source": [
    "fifa['Nationality'].dtype"
   ]
  },
  {
   "cell_type": "code",
   "execution_count": 19,
   "id": "57c6a7f7",
   "metadata": {},
   "outputs": [
    {
     "data": {
      "text/plain": [
       "array(['Argentina', 'Portugal', 'Slovenia', 'Belgium', 'Brazil', 'Poland',\n",
       "       'Egypt', 'France', 'Germany', 'Netherlands', 'Senegal', 'Spain',\n",
       "       'England', 'Scotland', 'Korea Republic', 'Costa Rica', 'Italy',\n",
       "       'Gabon', 'Croatia', 'Uruguay', 'Switzerland', 'Serbia', 'Slovakia',\n",
       "       'Morocco', 'Algeria', 'Denmark', 'Hungary', 'Bosnia Herzegovina',\n",
       "       'Nigeria', 'Cameroon', 'Norway', 'Ghana', 'Mexico', 'Austria',\n",
       "       'Albania', 'Colombia', 'Chile', 'Ivory Coast', 'Greece', 'Finland',\n",
       "       'Wales', 'Sweden', 'Togo', 'Czech Republic', 'Russia', 'Venezuela',\n",
       "       'Canada', 'United States', 'Guinea', 'Montenegro', 'Israel',\n",
       "       'Republic of Ireland', 'Ukraine', 'Turkey', 'Ecuador', 'Jamaica',\n",
       "       'DR Congo', 'Australia', 'China PR', 'Armenia', 'Northern Ireland',\n",
       "       'North Macedonia', 'Kosovo', 'Mali', 'Peru',\n",
       "       'Central African Republic', 'Iceland', 'Burkina Faso', 'Paraguay',\n",
       "       'Japan', 'Romania', 'New Zealand', 'Iran', 'Angola', 'Tunisia',\n",
       "       'Syria', 'Dominican Republic', 'Cape Verde', 'Equatorial Guinea',\n",
       "       'Kenya', 'Georgia', 'Panama', 'Zambia', 'Tanzania', 'Zimbabwe',\n",
       "       'Congo', 'South Africa', 'Moldova', 'Mozambique', 'Iraq',\n",
       "       'Guinea Bissau', 'Honduras', 'Cuba', 'Cyprus', 'Lithuania',\n",
       "       'Estonia', 'Madagascar', 'Benin', 'Curacao', 'Saudi Arabia',\n",
       "       'Gambia', 'Uzbekistan', 'Chad', 'United Arab Emirates',\n",
       "       'Saint Kitts and Nevis', 'Libya', 'Sierra Leone', 'Philippines',\n",
       "       'Liberia', 'Bulgaria', 'Comoros', 'Namibia', 'Luxembourg',\n",
       "       'Trinidad & Tobago', 'Bermuda', 'Thailand', 'Burundi',\n",
       "       'New Caledonia', 'Puerto Rico', 'Bolivia', 'Kazakhstan',\n",
       "       'Antigua & Barbuda', 'Latvia', 'Malawi', 'Montserrat',\n",
       "       'São Tomé & Príncipe', 'El Salvador', 'Mauritania', 'Jordan',\n",
       "       'Eritrea', 'Aruba', 'Uganda', 'Chinese Taipei', 'Azerbaijan',\n",
       "       'Afghanistan', 'Faroe Islands', 'Haiti', 'Sudan', 'Grenada',\n",
       "       'Lebanon', 'Guam', 'Palestine', 'Belarus', 'Guyana', 'Rwanda',\n",
       "       'Liechtenstein', 'Saint Lucia', 'Papua New Guinea', 'India',\n",
       "       'Ethiopia', 'Belize', 'Andorra', 'Guatemala', 'Malta', 'Niger',\n",
       "       'Korea DPR', 'Barbados', 'Macau', 'South Sudan', 'Singapore',\n",
       "       'Hong Kong', 'Nicaragua', 'Malaysia', 'Indonesia'], dtype=object)"
      ]
     },
     "execution_count": 19,
     "metadata": {},
     "output_type": "execute_result"
    }
   ],
   "source": [
    "fifa['Nationality'].unique()"
   ]
  },
  {
   "cell_type": "markdown",
   "id": "579b8187",
   "metadata": {},
   "source": [
    "# 7. Age"
   ]
  },
  {
   "cell_type": "markdown",
   "id": "9beb289e",
   "metadata": {},
   "source": [
    "Player's age in years"
   ]
  },
  {
   "cell_type": "code",
   "execution_count": 20,
   "id": "ef4519ea",
   "metadata": {},
   "outputs": [
    {
     "data": {
      "text/plain": [
       "dtype('int64')"
      ]
     },
     "execution_count": 20,
     "metadata": {},
     "output_type": "execute_result"
    }
   ],
   "source": [
    "fifa['Age'].dtype"
   ]
  },
  {
   "cell_type": "code",
   "execution_count": 21,
   "id": "2fc20361",
   "metadata": {},
   "outputs": [
    {
     "data": {
      "text/plain": [
       "array([33, 35, 27, 29, 28, 31, 21, 34, 32, 25, 26, 30, 20, 24, 22, 23, 19,\n",
       "       38, 42, 36, 37, 18, 17, 39, 40, 41, 16, 43, 53])"
      ]
     },
     "execution_count": 21,
     "metadata": {},
     "output_type": "execute_result"
    }
   ],
   "source": [
    "fifa['Age'].unique()"
   ]
  },
  {
   "cell_type": "markdown",
   "id": "0e9d776e",
   "metadata": {},
   "source": [
    "# 8. OVA - Overall Rating (0-100)"
   ]
  },
  {
   "cell_type": "markdown",
   "id": "65c204de",
   "metadata": {},
   "source": [
    "It is a rating system used to represent a player's overall abilities and skills in the game. "
   ]
  },
  {
   "cell_type": "code",
   "execution_count": 22,
   "id": "c184cc2c",
   "metadata": {},
   "outputs": [
    {
     "data": {
      "text/plain": [
       "dtype('int64')"
      ]
     },
     "execution_count": 22,
     "metadata": {},
     "output_type": "execute_result"
    }
   ],
   "source": [
    "fifa['↓OVA'].dtype"
   ]
  },
  {
   "cell_type": "code",
   "execution_count": 23,
   "id": "544f87ac",
   "metadata": {},
   "outputs": [
    {
     "data": {
      "text/plain": [
       "array([93, 92, 91, 90, 89, 88, 87, 86, 85, 84, 83, 82, 81, 80, 79, 78, 77,\n",
       "       76, 75, 74, 73, 72, 71, 70, 69, 68, 67, 66, 65, 64, 63, 62, 61, 60,\n",
       "       59, 58, 57, 56, 55, 54, 53, 52, 51, 50, 49, 48, 47])"
      ]
     },
     "execution_count": 23,
     "metadata": {},
     "output_type": "execute_result"
    }
   ],
   "source": [
    "fifa['↓OVA'].unique()"
   ]
  },
  {
   "cell_type": "markdown",
   "id": "4ad92178",
   "metadata": {},
   "source": [
    "# 9. POT - Potential Rating(0 - 100)"
   ]
  },
  {
   "cell_type": "markdown",
   "id": "29124b73",
   "metadata": {},
   "source": [
    "Represent a player's potential to develop and improve their abilities and skills over time"
   ]
  },
  {
   "cell_type": "code",
   "execution_count": 24,
   "id": "2c8aec1f",
   "metadata": {},
   "outputs": [
    {
     "data": {
      "text/plain": [
       "dtype('int64')"
      ]
     },
     "execution_count": 24,
     "metadata": {},
     "output_type": "execute_result"
    }
   ],
   "source": [
    "fifa['POT'].dtype"
   ]
  },
  {
   "cell_type": "code",
   "execution_count": 25,
   "id": "960dfcf5",
   "metadata": {},
   "outputs": [
    {
     "data": {
      "text/plain": [
       "array([93, 92, 91, 90, 95, 89, 88, 87, 86, 85, 84, 83, 82, 81, 80, 79, 78,\n",
       "       77, 76, 75, 74, 73, 72, 71, 70, 69, 68, 67, 66, 65, 64, 63, 62, 61,\n",
       "       60, 59, 58, 57, 56, 55, 54, 53, 52, 51, 50, 49, 48, 47])"
      ]
     },
     "execution_count": 25,
     "metadata": {},
     "output_type": "execute_result"
    }
   ],
   "source": [
    "fifa['POT'].unique()"
   ]
  },
  {
   "cell_type": "markdown",
   "id": "78186e8f",
   "metadata": {},
   "source": [
    "## 10. Club"
   ]
  },
  {
   "cell_type": "markdown",
   "id": "e2e88186",
   "metadata": {},
   "source": [
    "Current Club of the player"
   ]
  },
  {
   "cell_type": "code",
   "execution_count": 26,
   "id": "5c1bcb71",
   "metadata": {},
   "outputs": [
    {
     "data": {
      "text/plain": [
       "dtype('O')"
      ]
     },
     "execution_count": 26,
     "metadata": {},
     "output_type": "execute_result"
    }
   ],
   "source": [
    "fifa['Club'].dtype"
   ]
  },
  {
   "cell_type": "code",
   "execution_count": 27,
   "id": "160d0109",
   "metadata": {},
   "outputs": [
    {
     "data": {
      "text/plain": [
       "array(['\\n\\n\\n\\nFC Barcelona', '\\n\\n\\n\\nJuventus',\n",
       "       '\\n\\n\\n\\nAtlético Madrid', '\\n\\n\\n\\nManchester City',\n",
       "       '\\n\\n\\n\\nParis Saint-Germain', '\\n\\n\\n\\nFC Bayern München',\n",
       "       '\\n\\n\\n\\nLiverpool', '\\n\\n\\n\\nReal Madrid', '\\n\\n\\n\\nChelsea',\n",
       "       '\\n\\n\\n\\nTottenham Hotspur', '\\n\\n\\n\\nInter', '\\n\\n\\n\\nNapoli',\n",
       "       '\\n\\n\\n\\nBorussia Dortmund', '\\n\\n\\n\\nManchester United',\n",
       "       '\\n\\n\\n\\nArsenal', '\\n\\n\\n\\nLazio', '\\n\\n\\n\\nLeicester City',\n",
       "       '\\n\\n\\n\\nBorussia Mönchengladbach', '\\n\\n\\n\\nReal Sociedad',\n",
       "       '\\n\\n\\n\\nAtalanta', '\\n\\n\\n\\nOlympique Lyonnais', '\\n\\n\\n\\nMilan',\n",
       "       '\\n\\n\\n\\nVillarreal CF', '\\n\\n\\n\\nRB Leipzig', '\\n\\n\\n\\nCagliari',\n",
       "       '\\n\\n\\n\\nAjax', '\\n\\n\\n\\nSL Benfica', '\\n\\n\\n\\nAS Monaco',\n",
       "       '\\n\\n\\n\\nWolverhampton Wanderers', '\\n\\n\\n\\nEverton',\n",
       "       '\\n\\n\\n\\nFiorentina', '\\n\\n\\n\\nFC Porto', '\\n\\n\\n\\nRC Celta',\n",
       "       '\\n\\n\\n\\nTorino', '\\n\\n\\n\\nSevilla FC', '\\n\\n\\n\\nGrêmio',\n",
       "       '\\n\\n\\n\\nReal Betis', '\\n\\n\\n\\nRoma', '\\n\\n\\n\\nNewcastle United',\n",
       "       '\\n\\n\\n\\nEintracht Frankfurt', '\\n\\n\\n\\nValencia CF',\n",
       "       '\\n\\n\\n\\nMedipol Başakşehir FK', '\\n\\n\\n\\nInter Miami',\n",
       "       '\\n\\n\\n\\nBayer 04 Leverkusen', '\\n\\n\\n\\nLevante UD',\n",
       "       '\\n\\n\\n\\nCrystal Palace', '\\n\\n\\n\\nAthletic Club de Bilbao',\n",
       "       '\\n\\n\\n\\nShanghai SIPG FC', '\\n\\n\\n\\nVfL Wolfsburg',\n",
       "       '\\n\\n\\n\\nGuangzhou Evergrande Taobao FC', '\\n\\n\\n\\nAl Shabab',\n",
       "       '\\n\\n\\n\\nOlympique de Marseille', '\\n\\n\\n\\nLos Angeles FC',\n",
       "       '\\n\\n\\n\\nBeijing Sinobo Guoan FC', '\\n\\n\\n\\nGetafe CF',\n",
       "       '\\n\\n\\n\\nSV Werder Bremen', '\\n\\n\\n\\nTSG 1899 Hoffenheim',\n",
       "       '\\n\\n\\n\\nLOSC Lille', '\\n\\n\\n\\nDeportivo Alavés',\n",
       "       '\\n\\n\\n\\nBurnley', '\\n\\n\\n\\nLeeds United', '\\n\\n\\n\\nFulham',\n",
       "       '\\n\\n\\n\\nPFC CSKA Moscow', '\\n\\n\\n\\nGenoa',\n",
       "       '\\n\\n\\n\\nGalatasaray SK', '\\n\\n\\n\\nAtlanta United',\n",
       "       '\\n\\n\\n\\nAtlético Mineiro', '\\n\\n\\n\\nFlamengo',\n",
       "       '\\n\\n\\n\\nPalmeiras', 'No Club', '\\n\\n\\n\\nSão Paulo',\n",
       "       '\\n\\n\\n\\nWest Ham United', '\\n\\n\\n\\nSD Eibar',\n",
       "       '\\n\\n\\n\\nRiver Plate', '\\n\\n\\n\\nOGC Nice',\n",
       "       '\\n\\n\\n\\nReal Valladolid CF', '\\n\\n\\n\\nSporting CP', '\\n\\n\\n\\nPSV',\n",
       "       '\\n\\n\\n\\nFeyenoord', '\\n\\n\\n\\nClub Brugge KV',\n",
       "       '\\n\\n\\n\\nShakhtar Donetsk', '\\n\\n\\n\\nVissel Kobe',\n",
       "       '\\n\\n\\n\\nBoca Juniors', '\\n\\n\\n\\n1. FC Union Berlin',\n",
       "       '\\n\\n\\n\\nDalian YiFang FC', '\\n\\n\\n\\nAS Saint-Étienne',\n",
       "       '\\n\\n\\n\\nSassuolo', '\\n\\n\\n\\nTigres U.A.N.L.',\n",
       "       '\\n\\n\\n\\nDinamo Zagreb', '\\n\\n\\n\\nDynamo Kyiv',\n",
       "       '\\n\\n\\n\\nFluminense', '\\n\\n\\n\\nUdinese', '\\n\\n\\n\\nAston Villa',\n",
       "       '\\n\\n\\n\\nStade Rennais FC', '\\n\\n\\n\\nBeşiktaş JK',\n",
       "       '\\n\\n\\n\\nBrighton & Hove Albion', '\\n\\n\\n\\nHebei China Fortune FC',\n",
       "       '\\n\\n\\n\\nSouthampton', '\\n\\n\\n\\nLokomotiv Moscow',\n",
       "       '\\n\\n\\n\\nJiangsu Suning FC', '\\n\\n\\n\\nAl Hilal',\n",
       "       '\\n\\n\\n\\nWest Bromwich Albion', '\\n\\n\\n\\nFenerbahçe SK',\n",
       "       '\\n\\n\\n\\nFC Groningen', '\\n\\n\\n\\nGuangzhou R&F FC',\n",
       "       '\\n\\n\\n\\nOrlando City SC', '\\n\\n\\n\\nSampdoria',\n",
       "       '\\n\\n\\n\\nStade de Reims', '\\n\\n\\n\\nSheffield United',\n",
       "       '\\n\\n\\n\\nSantos', '\\n\\n\\n\\nInternacional', '\\n\\n\\n\\nCoritiba',\n",
       "       '\\n\\n\\n\\nCA Osasuna', '\\n\\n\\n\\nLA Galaxy', '\\n\\n\\n\\nAl Nassr',\n",
       "       '\\n\\n\\n\\nSC Freiburg', '\\n\\n\\n\\nSC Braga',\n",
       "       '\\n\\n\\n\\nOlympiacos CFP', '\\n\\n\\n\\nToronto FC',\n",
       "       '\\n\\n\\n\\nGranada CF', '\\n\\n\\n\\nFC Schalke 04',\n",
       "       '\\n\\n\\n\\nRC Strasbourg Alsace', '\\n\\n\\n\\nHertha BSC',\n",
       "       '\\n\\n\\n\\nAZ Alkmaar', '\\n\\n\\n\\nSeattle Sounders FC',\n",
       "       '\\n\\n\\n\\nMontpellier HSC', '\\n\\n\\n\\nShanghai Greenland Shenhua FC',\n",
       "       '\\n\\n\\n\\nHamburger SV', '\\n\\n\\n\\nGirona FC', '\\n\\n\\n\\nRacing Club',\n",
       "       '\\n\\n\\n\\nPortland Timbers', '\\n\\n\\n\\nFC Girondins de Bordeaux',\n",
       "       '\\n\\n\\n\\nWatford', '\\n\\n\\n\\nEstudiantes de La Plata',\n",
       "       '\\n\\n\\n\\nClub América', '\\n\\n\\n\\nVitória Guimarães',\n",
       "       '\\n\\n\\n\\nSK Slavia Praha', '\\n\\n\\n\\nTrabzonspor',\n",
       "       '\\n\\n\\n\\nRCD Espanyol', '\\n\\n\\n\\nFC Nantes', '\\n\\n\\n\\nAngers SCO',\n",
       "       '\\n\\n\\n\\nCruz Azul', '\\n\\n\\n\\nBSC Young Boys', '\\n\\n\\n\\nClub León',\n",
       "       '\\n\\n\\n\\nSpartak Moscow', '\\n\\n\\n\\nSivasspor', '\\n\\n\\n\\nElche CF',\n",
       "       '\\n\\n\\n\\nFC Augsburg', '\\n\\n\\n\\nWuhan Zall', '\\n\\n\\n\\nParma',\n",
       "       '\\n\\n\\n\\nRoyal Antwerp FC', '\\n\\n\\n\\nMonterrey',\n",
       "       '\\n\\n\\n\\nSan Lorenzo de Almagro', '\\n\\n\\n\\nAC Monza',\n",
       "       '\\n\\n\\n\\nClub Atlético Lanús', '\\n\\n\\n\\nSD Huesca',\n",
       "       '\\n\\n\\n\\nDerby County', '\\n\\n\\n\\nKayserispor',\n",
       "       '\\n\\n\\n\\nRSC Anderlecht', '\\n\\n\\n\\nCD Leganés',\n",
       "       '\\n\\n\\n\\nVélez Sarsfield', '\\n\\n\\n\\nStade Brestois 29',\n",
       "       '\\n\\n\\n\\nTianjin TEDA FC', '\\n\\n\\n\\nBirmingham City',\n",
       "       '\\n\\n\\n\\nHellas Verona', '\\n\\n\\n\\n1. FC Köln', '\\n\\n\\n\\nAl Wehda',\n",
       "       '\\n\\n\\n\\nBournemouth', '\\n\\n\\n\\nAlanyaspor', '\\n\\n\\n\\nBologna',\n",
       "       '\\n\\n\\n\\nAmiens SC', '\\n\\n\\n\\nCeltic',\n",
       "       '\\n\\n\\n\\nShijiazhuang Ever Bright F.C.', '\\n\\n\\n\\nClub Atlas',\n",
       "       '\\n\\n\\n\\nAl Ahli', '\\n\\n\\n\\nNorwich City',\n",
       "       '\\n\\n\\n\\nFatih Karagümrük S.K.', '\\n\\n\\n\\nClub Tijuana',\n",
       "       '\\n\\n\\n\\nUniversidad Católica', '\\n\\n\\n\\nGoiás',\n",
       "       '\\n\\n\\n\\nBenevento', '\\n\\n\\n\\nIndependiente',\n",
       "       '\\n\\n\\n\\nQingdao Huanghai F.C.', '\\n\\n\\n\\nBrentford',\n",
       "       '\\n\\n\\n\\nAEK Athens', '\\n\\n\\n\\nRacing Club de Lens',\n",
       "       '\\n\\n\\n\\nOlimpia Asunción', '\\n\\n\\n\\nShenzhen FC',\n",
       "       '\\n\\n\\n\\nÇaykur Rizespor', '\\n\\n\\n\\nKAA Gent',\n",
       "       '\\n\\n\\n\\nNew England Revolution', '\\n\\n\\n\\nCádiz CF',\n",
       "       '\\n\\n\\n\\n1. FSV Mainz 05', '\\n\\n\\n\\nVasco da Gama',\n",
       "       '\\n\\n\\n\\nFC Midtjylland', '\\n\\n\\n\\nAl Ain FC',\n",
       "       '\\n\\n\\n\\nSantos Laguna', '\\n\\n\\n\\nSPAL', '\\n\\n\\n\\nPerth Glory',\n",
       "       '\\n\\n\\n\\nFC Utrecht', '\\n\\n\\n\\nMontreal Impact',\n",
       "       '\\n\\n\\n\\nUD Almería', '\\n\\n\\n\\nFortaleza', '\\n\\n\\n\\nSpezia',\n",
       "       '\\n\\n\\n\\nFC Basel 1893', '\\n\\n\\n\\nFC København',\n",
       "       '\\n\\n\\n\\nGodoy Cruz', '\\n\\n\\n\\nDeportivo Toluca',\n",
       "       '\\n\\n\\n\\nNacional de Montevideo', '\\n\\n\\n\\nAalborg BK',\n",
       "       '\\n\\n\\n\\nRio Ave FC', '\\n\\n\\n\\nFC Metz',\n",
       "       '\\n\\n\\n\\nChongqing Dangdai Lifan FC SWM Team',\n",
       "       '\\n\\n\\n\\nRosenborg BK', '\\n\\n\\n\\nFC Red Bull Salzburg',\n",
       "       '\\n\\n\\n\\nBotafogo', '\\n\\n\\n\\nDSC Arminia Bielefeld',\n",
       "       '\\n\\n\\n\\nClub Athletico Paranaense', '\\n\\n\\n\\nRCD Mallorca',\n",
       "       '\\n\\n\\n\\nPachuca', '\\n\\n\\n\\nSwansea City', '\\n\\n\\n\\nKRC Genk',\n",
       "       '\\n\\n\\n\\nEn Avant de Guingamp', '\\n\\n\\n\\nLecce',\n",
       "       '\\n\\n\\n\\nNîmes Olympique', '\\n\\n\\n\\nColo-Colo',\n",
       "       '\\n\\n\\n\\nStade Malherbe Caen', '\\n\\n\\n\\nColumbus Crew SC',\n",
       "       '\\n\\n\\n\\nJunior FC', '\\n\\n\\n\\nVfB Stuttgart',\n",
       "       '\\n\\n\\n\\nMoreirense FC', '\\n\\n\\n\\nRangers FC', '\\n\\n\\n\\nMalmö FF',\n",
       "       '\\n\\n\\n\\nShandong Luneng TaiShan FC', '\\n\\n\\n\\nSparta Praha',\n",
       "       '\\n\\n\\n\\nHatayspor', '\\n\\n\\n\\nChicago Fire',\n",
       "       '\\n\\n\\n\\nToulouse Football Club', '\\n\\n\\n\\nFC Seoul',\n",
       "       '\\n\\n\\n\\nAntalyaspor', '\\n\\n\\n\\nDeportivo Cali',\n",
       "       '\\n\\n\\n\\nKaizer Chiefs', '\\n\\n\\n\\nReal Zaragoza',\n",
       "       '\\n\\n\\n\\nAtlético Clube Goianiense', '\\n\\n\\n\\nPuebla FC',\n",
       "       '\\n\\n\\n\\nFortuna Düsseldorf', '\\n\\n\\n\\nWestern United FC',\n",
       "       '\\n\\n\\n\\nAstra Giurgiu', '\\n\\n\\n\\nHenan Jianye FC',\n",
       "       '\\n\\n\\n\\nBahia', '\\n\\n\\n\\nFamalicão', '\\n\\n\\n\\nAtiker Konyaspor',\n",
       "       '\\n\\n\\n\\nPeñarol', '\\n\\n\\n\\nDC United', '\\n\\n\\n\\nNew York City FC',\n",
       "       '\\n\\n\\n\\nArgentinos Juniors', '\\n\\n\\n\\nU.N.A.M.',\n",
       "       '\\n\\n\\n\\nMinnesota United FC', '\\n\\n\\n\\nNottingham Forest',\n",
       "       '\\n\\n\\n\\nIndependiente del Valle', '\\n\\n\\n\\nDefensa y Justicia',\n",
       "       '\\n\\n\\n\\nPhiladelphia Union', \"\\n\\n\\n\\nNewell's Old Boys\",\n",
       "       '\\n\\n\\n\\nRosario Central', '\\n\\n\\n\\nAtlético de San Luis',\n",
       "       '\\n\\n\\n\\nFC Dallas', '\\n\\n\\n\\nDenizlispor',\n",
       "       '\\n\\n\\n\\nYeni Malatyaspor', '\\n\\n\\n\\nClub Atlético Colón',\n",
       "       '\\n\\n\\n\\nHouston Dynamo', '\\n\\n\\n\\nMillwall',\n",
       "       '\\n\\n\\n\\nClube Sport Marítimo', '\\n\\n\\n\\nMKE Ankaragücü',\n",
       "       '\\n\\n\\n\\nGuadalajara', '\\n\\n\\n\\nBoavista FC',\n",
       "       '\\n\\n\\n\\nSporting Kansas City', '\\n\\n\\n\\nAtlético Nacional',\n",
       "       '\\n\\n\\n\\nCD Lugo', '\\n\\n\\n\\nNew York Red Bulls', '\\n\\n\\n\\nPAOK',\n",
       "       '\\n\\n\\n\\nSC Heerenveen', '\\n\\n\\n\\nDaegu FC',\n",
       "       '\\n\\n\\n\\nPreston North End', '\\n\\n\\n\\nDamac FC', '\\n\\n\\n\\nBrescia',\n",
       "       '\\n\\n\\n\\nVfL Bochum 1848', '\\n\\n\\n\\nVancouver Whitecaps FC',\n",
       "       '\\n\\n\\n\\nSV Sandhausen', '\\n\\n\\n\\nRoyal Excel Mouscron',\n",
       "       '\\n\\n\\n\\nDijon FCO', '\\n\\n\\n\\nMolde FK',\n",
       "       '\\n\\n\\n\\nPanathinaikos FC', '\\n\\n\\n\\nLASK Linz',\n",
       "       '\\n\\n\\n\\nUlsan Hyundai FC', '\\n\\n\\n\\nReal Salt Lake',\n",
       "       '\\n\\n\\n\\nFC Luzern', '\\n\\n\\n\\nViktoria Plzeň',\n",
       "       '\\n\\n\\n\\nOrlando Pirates', '\\n\\n\\n\\nAl Ittihad',\n",
       "       '\\n\\n\\n\\n1. FC Nürnberg', '\\n\\n\\n\\nStandard de Liège',\n",
       "       '\\n\\n\\n\\nRayo Vallecano', '\\n\\n\\n\\nClub Libertad',\n",
       "       '\\n\\n\\n\\nJeonbuk Hyundai Motors',\n",
       "       '\\n\\n\\n\\nWestern Sydney Wanderers', '\\n\\n\\n\\nUnión de Santa Fe',\n",
       "       '\\n\\n\\n\\nFC Sion', '\\n\\n\\n\\nSydney FC', '\\n\\n\\n\\nHannover 96',\n",
       "       '\\n\\n\\n\\nReal Sporting de Gijón', '\\n\\n\\n\\nFC Cincinnati',\n",
       "       '\\n\\n\\n\\nESTAC Troyes', '\\n\\n\\n\\nSan Jose Earthquakes',\n",
       "       '\\n\\n\\n\\nClub Guaraní', '\\n\\n\\n\\nFC Lorient',\n",
       "       '\\n\\n\\n\\nGençlerbirliği SK', '\\n\\n\\n\\nSporting de Charleroi',\n",
       "       '\\n\\n\\n\\nWisła Kraków', '\\n\\n\\n\\nAl Taawoun', '\\n\\n\\n\\nReading',\n",
       "       '\\n\\n\\n\\nGazişehir Gaziantep F.K.', '\\n\\n\\n\\nBlackburn Rovers',\n",
       "       '\\n\\n\\n\\nKashiwa Reysol', '\\n\\n\\n\\nFK Bodø/Glimt',\n",
       "       '\\n\\n\\n\\nWillem II', '\\n\\n\\n\\nVitesse', '\\n\\n\\n\\nGil Vicente FC',\n",
       "       '\\n\\n\\n\\nSønderjyskE', '\\n\\n\\n\\nYokohama F. Marinos',\n",
       "       '\\n\\n\\n\\nFC St. Gallen', '\\n\\n\\n\\nClub Atlético Aldosivi',\n",
       "       '\\n\\n\\n\\nGöztepe SK', '\\n\\n\\n\\nHolstein Kiel', '\\n\\n\\n\\nFC Juárez',\n",
       "       '\\n\\n\\n\\nFCSB (Steaua)', '\\n\\n\\n\\nEttifaq FC', '\\n\\n\\n\\nKAS Eupen',\n",
       "       '\\n\\n\\n\\nFC Tokyo', '\\n\\n\\n\\nMelbourne City FC',\n",
       "       '\\n\\n\\n\\nUniversitatea Craiova', '\\n\\n\\n\\nCD Tondela',\n",
       "       '\\n\\n\\n\\nWolfsberger AC', '\\n\\n\\n\\nCeará Sporting Club',\n",
       "       '\\n\\n\\n\\nRiver Plate Asunción', '\\n\\n\\n\\nStoke City',\n",
       "       '\\n\\n\\n\\nParis FC', '\\n\\n\\n\\nIFK Norrköping', '\\n\\n\\n\\nCrotone',\n",
       "       '\\n\\n\\n\\nCardiff City', '\\n\\n\\n\\nAmérica de Cali',\n",
       "       '\\n\\n\\n\\nAl Faisaly', '\\n\\n\\n\\nIndependiente Medellín',\n",
       "       '\\n\\n\\n\\nPortimonense SC', '\\n\\n\\n\\nCD Tenerife',\n",
       "       '\\n\\n\\n\\nHeracles Almelo', '\\n\\n\\n\\nNashville SC',\n",
       "       '\\n\\n\\n\\nSK Rapid Wien', '\\n\\n\\n\\nKawasaki Frontale',\n",
       "       '\\n\\n\\n\\nClub Necaxa', '\\n\\n\\n\\nChievo Verona',\n",
       "       '\\n\\n\\n\\nLech Poznań', '\\n\\n\\n\\nAIK', '\\n\\n\\n\\nFK Austria Wien',\n",
       "       '\\n\\n\\n\\nQuerétaro', '\\n\\n\\n\\n1. FC Heidenheim 1846',\n",
       "       '\\n\\n\\n\\nLegia Warszawa', '\\n\\n\\n\\nClub Atlético Banfield',\n",
       "       '\\n\\n\\n\\nOs Belenenses', '\\n\\n\\n\\nHuddersfield Town',\n",
       "       '\\n\\n\\n\\nKSV Cercle Brugge', '\\n\\n\\n\\nLDU Quito',\n",
       "       '\\n\\n\\n\\nGimnasia y Esgrima La Plata', '\\n\\n\\n\\nGamba Osaka',\n",
       "       '\\n\\n\\n\\nMiddlesbrough', '\\n\\n\\n\\nServette FC', '\\n\\n\\n\\nEmpoli',\n",
       "       '\\n\\n\\n\\nReal Oviedo', '\\n\\n\\n\\nKasimpaşa SK', '\\n\\n\\n\\nCFR Cluj',\n",
       "       '\\n\\n\\n\\nMillonarios FC', '\\n\\n\\n\\nFC Paços de Ferreira',\n",
       "       '\\n\\n\\n\\nSint-Truidense VV', '\\n\\n\\n\\nAD Alcorcón',\n",
       "       '\\n\\n\\n\\nColorado Rapids', '\\n\\n\\n\\nDinamo Bucureşti',\n",
       "       '\\n\\n\\n\\nCerezo Osaka', '\\n\\n\\n\\nFC Emmen',\n",
       "       '\\n\\n\\n\\nSheffield Wednesday', '\\n\\n\\n\\nFC Erzgebirge Aue',\n",
       "       '\\n\\n\\n\\nRaków Częstochowa', '\\n\\n\\n\\nAtlético Tucumán',\n",
       "       '\\n\\n\\n\\nSV Darmstadt 98', '\\n\\n\\n\\nBristol City',\n",
       "       '\\n\\n\\n\\nOud-Heverlee Leuven', '\\n\\n\\n\\nBarnsley',\n",
       "       '\\n\\n\\n\\nQueens Park Rangers', '\\n\\n\\n\\nSangju Sangmu FC',\n",
       "       '\\n\\n\\n\\nHelsingborgs IF', '\\n\\n\\n\\nAC Ajaccio',\n",
       "       '\\n\\n\\n\\nOceânico FC', '\\n\\n\\n\\nClub Atlético Talleres',\n",
       "       '\\n\\n\\n\\nAl Hazem', '\\n\\n\\n\\nSC Paderborn 07',\n",
       "       '\\n\\n\\n\\nClub Atlético Huracán', '\\n\\n\\n\\nKV Kortrijk',\n",
       "       '\\n\\n\\n\\nEl Nacional', '\\n\\n\\n\\nMazatlán FC', '\\n\\n\\n\\nAberdeen',\n",
       "       '\\n\\n\\n\\nCD Mirandés', '\\n\\n\\n\\nSV Zulte-Waregem',\n",
       "       '\\n\\n\\n\\nPiast Gliwice', '\\n\\n\\n\\nDjurgårdens IF',\n",
       "       '\\n\\n\\n\\nCentral Córdoba', '\\n\\n\\n\\nWellington Phoenix',\n",
       "       '\\n\\n\\n\\nDeportivo Binacional', '\\n\\n\\n\\nPatronato',\n",
       "       '\\n\\n\\n\\nSpVgg Greuther Fürth', '\\n\\n\\n\\nIFK Göteborg',\n",
       "       '\\n\\n\\n\\nFC Cartagena', '\\n\\n\\n\\nSanta Clara', '\\n\\n\\n\\nFC Twente',\n",
       "       '\\n\\n\\n\\nFarense', '\\n\\n\\n\\nADO Den Haag', '\\n\\n\\n\\nAJ Auxerre',\n",
       "       '\\n\\n\\n\\nAl Fateh', '\\n\\n\\n\\nValenciennes FC',\n",
       "       '\\n\\n\\n\\nHokkaido Consadole Sapporo', '\\n\\n\\n\\nFC St. Pauli',\n",
       "       '\\n\\n\\n\\nAlbacete BP', '\\n\\n\\n\\n1. FC Kaiserslautern',\n",
       "       '\\n\\n\\n\\nAl Fayha', '\\n\\n\\n\\nIncheon United FC',\n",
       "       '\\n\\n\\n\\nKV Mechelen', '\\n\\n\\n\\nPohang Steelers',\n",
       "       '\\n\\n\\n\\nCD Nacional', '\\n\\n\\n\\nUnión La Calera',\n",
       "       '\\n\\n\\n\\nBB Erzurumspor', '\\n\\n\\n\\nKashima Antlers',\n",
       "       '\\n\\n\\n\\nArsenal de Sarandí', '\\n\\n\\n\\nHJK Helsinki',\n",
       "       '\\n\\n\\n\\nKarlsruher SC', '\\n\\n\\n\\nAarhus GF', '\\n\\n\\n\\nFC Zürich',\n",
       "       '\\n\\n\\n\\nBarcelona Sporting Club', '\\n\\n\\n\\nSG Dynamo Dresden',\n",
       "       '\\n\\n\\n\\nSanfrecce Hiroshima', '\\n\\n\\n\\nAl Raed',\n",
       "       '\\n\\n\\n\\nSD Ponferradina', '\\n\\n\\n\\nBrøndby IF',\n",
       "       '\\n\\n\\n\\nLechia Gdańsk', '\\n\\n\\n\\nFC Viitorul',\n",
       "       '\\n\\n\\n\\nSK Sturm Graz', '\\n\\n\\n\\nIF Elfsborg',\n",
       "       '\\n\\n\\n\\nGangwon FC', '\\n\\n\\n\\nMelgar FBC',\n",
       "       '\\n\\n\\n\\nClub Atlético Grau', '\\n\\n\\n\\nJagiellonia Białystok',\n",
       "       '\\n\\n\\n\\nWaasland-Beveren', '\\n\\n\\n\\nVfL Osnabrück',\n",
       "       '\\n\\n\\n\\nNagoya Grampus', '\\n\\n\\n\\nCF Fuenlabrada',\n",
       "       '\\n\\n\\n\\nShamrock Rovers', '\\n\\n\\n\\nShimizu S-Pulse',\n",
       "       '\\n\\n\\n\\nRKC Waalwijk', '\\n\\n\\n\\nVålerenga Fotball',\n",
       "       '\\n\\n\\n\\nClermont Foot 63', '\\n\\n\\n\\nFC Ingolstadt 04',\n",
       "       '\\n\\n\\n\\nFC Würzburger Kickers', '\\n\\n\\n\\nGórnik Zabrze',\n",
       "       '\\n\\n\\n\\nCharlton Athletic', '\\n\\n\\n\\nBeerschot AC',\n",
       "       '\\n\\n\\n\\nCoquimbo Unido', '\\n\\n\\n\\nViktoria Köln',\n",
       "       '\\n\\n\\n\\nHull City', '\\n\\n\\n\\nMálaga CF',\n",
       "       '\\n\\n\\n\\nFC Nordsjælland', '\\n\\n\\n\\nUD Las Palmas',\n",
       "       '\\n\\n\\n\\nVVV-Venlo', '\\n\\n\\n\\nGwangJu FC',\n",
       "       '\\n\\n\\n\\nChamois Niortais Football Club', '\\n\\n\\n\\nFC Lugano',\n",
       "       '\\n\\n\\n\\nCusco FC', '\\n\\n\\n\\nSparta Rotterdam',\n",
       "       '\\n\\n\\n\\nSol de América', '\\n\\n\\n\\nPEC Zwolle',\n",
       "       '\\n\\n\\n\\nPogoń Szczecin', '\\n\\n\\n\\nDoncaster Rovers',\n",
       "       '\\n\\n\\n\\nKristiansund BK', '\\n\\n\\n\\nLiverpool Fútbol Club',\n",
       "       '\\n\\n\\n\\nClub Bolívar', '\\n\\n\\n\\nUrawa Red Diamonds',\n",
       "       '\\n\\n\\n\\nSK Brann', '\\n\\n\\n\\nEintracht Braunschweig',\n",
       "       '\\n\\n\\n\\nNacional Asunción', '\\n\\n\\n\\nMelbourne Victory',\n",
       "       '\\n\\n\\n\\nKilmarnock', '\\n\\n\\n\\nDundalk',\n",
       "       '\\n\\n\\n\\nSSV Jahn Regensburg', '\\n\\n\\n\\nAbha Club',\n",
       "       '\\n\\n\\n\\nClub Atlético Tigre', '\\n\\n\\n\\nSuwon Samsung Bluewings',\n",
       "       '\\n\\n\\n\\nShonan Bellmare', '\\n\\n\\n\\nSD Aucas', '\\n\\n\\n\\nEmelec',\n",
       "       '\\n\\n\\n\\nFortuna Sittard', '\\n\\n\\n\\nLa Berrichonne de Châteauroux',\n",
       "       '\\n\\n\\n\\nŚląsk Wrocław', '\\n\\n\\n\\nCoventry City',\n",
       "       '\\n\\n\\n\\nSunderland', '\\n\\n\\n\\nAlianza Lima',\n",
       "       '\\n\\n\\n\\nHammarby IF', '\\n\\n\\n\\nCracovia',\n",
       "       '\\n\\n\\n\\nCE Sabadell FC', '\\n\\n\\n\\nOita Trinita',\n",
       "       '\\n\\n\\n\\nBK Häcken', '\\n\\n\\n\\nLuton Town', '\\n\\n\\n\\nLe Havre AC',\n",
       "       '\\n\\n\\n\\nIK Sirius', '\\n\\n\\n\\nZagłębie Lubin',\n",
       "       '\\n\\n\\n\\nGrenoble Foot 38', '\\n\\n\\n\\nMacarthur FC',\n",
       "       '\\n\\n\\n\\nRodez Aveyron Football', '\\n\\n\\n\\nVegalta Sendai',\n",
       "       '\\n\\n\\n\\nMotherwell', '\\n\\n\\n\\nSV Wehen Wiesbaden',\n",
       "       '\\n\\n\\n\\nAudax Italiano', '\\n\\n\\n\\nGaz Metan Mediaş',\n",
       "       '\\n\\n\\n\\nPortsmouth', '\\n\\n\\n\\nHibernian', '\\n\\n\\n\\nAlways Ready',\n",
       "       '\\n\\n\\n\\nUD Logroñés', '\\n\\n\\n\\nFC Voluntari',\n",
       "       '\\n\\n\\n\\nFC Hermannstadt', '\\n\\n\\n\\nAS Nancy Lorraine',\n",
       "       '\\n\\n\\n\\nRotherham United', '\\n\\n\\n\\nFleetwood Town',\n",
       "       '\\n\\n\\n\\nJorge Wilstermann', '\\n\\n\\n\\nOdense Boldklub',\n",
       "       '\\n\\n\\n\\nMSV Duisburg', '\\n\\n\\n\\nFC Sochaux-Montbéliard',\n",
       "       '\\n\\n\\n\\nMilton Keynes Dons', '\\n\\n\\n\\nRiver Plate Montevideo',\n",
       "       '\\n\\n\\n\\nDelfín SC', '\\n\\n\\n\\nUniversidad Católica del Ecuador',\n",
       "       '\\n\\n\\n\\nDeportivo Pasto', '\\n\\n\\n\\nKV Oostende',\n",
       "       '\\n\\n\\n\\nClub Plaza Colonia', '\\n\\n\\n\\nWigan Athletic',\n",
       "       '\\n\\n\\n\\nFC Botoşani', '\\n\\n\\n\\nC.D. Castellón',\n",
       "       '\\n\\n\\n\\nSCR Altach', '\\n\\n\\n\\nÖrebro SK', '\\n\\n\\n\\nTSV Hartberg',\n",
       "       '\\n\\n\\n\\nStabæk Fotball', '\\n\\n\\n\\nWycombe Wanderers',\n",
       "       '\\n\\n\\n\\nSt. Johnstone FC', '\\n\\n\\n\\nOxford United',\n",
       "       '\\n\\n\\n\\nLincoln City', '\\n\\n\\n\\nRanders FC', '\\n\\n\\n\\nViking FK',\n",
       "       '\\n\\n\\n\\nFC Chambly Oise', '\\n\\n\\n\\nDundee United',\n",
       "       '\\n\\n\\n\\nOriente Petrolero', '\\n\\n\\n\\nOdds BK',\n",
       "       '\\n\\n\\n\\nNacional Potosí', '\\n\\n\\n\\nSepsi OSK',\n",
       "       '\\n\\n\\n\\nFC Hansa Rostock', '\\n\\n\\n\\nLyngby BK',\n",
       "       '\\n\\n\\n\\nSpVgg Unterhaching', '\\n\\n\\n\\nBrisbane Roar',\n",
       "       '\\n\\n\\n\\nSeongnam FC', '\\n\\n\\n\\nSV Ried', '\\n\\n\\n\\nCD Huachipato',\n",
       "       '\\n\\n\\n\\nWSG Tirol', '\\n\\n\\n\\nPodbeskidzie Bielsko-Biała',\n",
       "       '\\n\\n\\n\\nPeterborough United', '\\n\\n\\n\\nClub Blooming',\n",
       "       '\\n\\n\\n\\nWisła Płock', '\\n\\n\\n\\nBusan IPark',\n",
       "       '\\n\\n\\n\\nFSV Zwickau', '\\n\\n\\n\\nMjøndalen IF',\n",
       "       '\\n\\n\\n\\nVejle Boldklub', '\\n\\n\\n\\nPau FC',\n",
       "       '\\n\\n\\n\\nFC Lausanne-Sport', '\\n\\n\\n\\nEstudiantes de Mérida',\n",
       "       '\\n\\n\\n\\nSagan Tosu', '\\n\\n\\n\\nSV Waldhof Mannheim',\n",
       "       '\\n\\n\\n\\nSport Huancayo', '\\n\\n\\n\\nHallescher FC',\n",
       "       '\\n\\n\\n\\nKalmar FF', '\\n\\n\\n\\nSt. Mirren',\n",
       "       '\\n\\n\\n\\nSKN St. Pölten', '\\n\\n\\n\\nSarpsborg 08 FF',\n",
       "       '\\n\\n\\n\\nShrewsbury', '\\n\\n\\n\\nTSV 1860 München',\n",
       "       '\\n\\n\\n\\nSV Meppen', '\\n\\n\\n\\nIpswich Town', '\\n\\n\\n\\nIK Start',\n",
       "       '\\n\\n\\n\\nAdelaide United', '\\n\\n\\n\\nStal Mielec',\n",
       "       '\\n\\n\\n\\nCentro Atlético Fénix', '\\n\\n\\n\\nNewcastle Jets',\n",
       "       '\\n\\n\\n\\nLivingston FC', '\\n\\n\\n\\nAC Mineros de Guayana',\n",
       "       '\\n\\n\\n\\nAFC Wimbledon', '\\n\\n\\n\\nBurton Albion',\n",
       "       '\\n\\n\\n\\nAl Adalah', '\\n\\n\\n\\nWarta Poznań',\n",
       "       '\\n\\n\\n\\nUSL Dunkerque', '\\n\\n\\n\\nBristol Rovers',\n",
       "       '\\n\\n\\n\\nUTA Arad', '\\n\\n\\n\\nÖstersunds FK',\n",
       "       '\\n\\n\\n\\nSportivo Luqueño', '\\n\\n\\n\\nPolitehnica Iaşi',\n",
       "       '\\n\\n\\n\\nSalford City', '\\n\\n\\n\\nCentral Coast Mariners',\n",
       "       '\\n\\n\\n\\nCaracas FC', '\\n\\n\\n\\nAC Horsens',\n",
       "       '\\n\\n\\n\\nPlymouth Argyle', '\\n\\n\\n\\nAalesunds FK',\n",
       "       '\\n\\n\\n\\nCrewe Alexandra', '\\n\\n\\n\\nChindia Târgovişte',\n",
       "       '\\n\\n\\n\\nOldham Athletic', '\\n\\n\\n\\nYokohama FC',\n",
       "       '\\n\\n\\n\\nBlackpool', '\\n\\n\\n\\nNorthampton Town',\n",
       "       '\\n\\n\\n\\nBayern München II', '\\n\\n\\n\\nFK Haugesund',\n",
       "       '\\n\\n\\n\\nKFC Uerdingen 05', '\\n\\n\\n\\nForest Green Rovers',\n",
       "       '\\n\\n\\n\\nCheltenham Town', '\\n\\n\\n\\nStrømsgodset IF',\n",
       "       '\\n\\n\\n\\nMjällby AIF', '\\n\\n\\n\\nExeter City',\n",
       "       '\\n\\n\\n\\nCambridge United', '\\n\\n\\n\\nGrimsby Town',\n",
       "       '\\n\\n\\n\\nFC Vaduz', '\\n\\n\\n\\nTürkgücü München',\n",
       "       '\\n\\n\\n\\nVfB Lübeck', '\\n\\n\\n\\nBolton Wanderers',\n",
       "       '\\n\\n\\n\\nBradford City', '\\n\\n\\n\\n1. FC Magdeburg',\n",
       "       '\\n\\n\\n\\nFC Admira Wacker Mödling',\n",
       "       '\\n\\n\\n\\nHamilton Academical FC', '\\n\\n\\n\\nAragua FC',\n",
       "       '\\n\\n\\n\\nAccrington Stanley', '\\n\\n\\n\\nSwindon Town',\n",
       "       '\\n\\n\\n\\nCarlisle United', '\\n\\n\\n\\nFC Argeș', '\\n\\n\\n\\nPort Vale',\n",
       "       '\\n\\n\\n\\nAcademica Clinceni', '\\n\\n\\n\\nRochdale',\n",
       "       '\\n\\n\\n\\nGillingham', '\\n\\n\\n\\nTranmere Rovers',\n",
       "       '\\n\\n\\n\\nSouthend United', '\\n\\n\\n\\n1. FC Saarbrücken',\n",
       "       '\\n\\n\\n\\nColchester United', '\\n\\n\\n\\nMansfield Town',\n",
       "       '\\n\\n\\n\\nFalkenbergs FF', '\\n\\n\\n\\nSC Verl',\n",
       "       '\\n\\n\\n\\nVarbergs BoIS', '\\n\\n\\n\\nCrawley Town',\n",
       "       '\\n\\n\\n\\nSandefjord Fotball', '\\n\\n\\n\\nNewport County',\n",
       "       '\\n\\n\\n\\nBohemian FC', '\\n\\n\\n\\nRoss County FC',\n",
       "       '\\n\\n\\n\\nScunthorpe United', '\\n\\n\\n\\nMorecambe',\n",
       "       '\\n\\n\\n\\nWalsall', '\\n\\n\\n\\nLeyton Orient', '\\n\\n\\n\\nStevenage',\n",
       "       '\\n\\n\\n\\nBarrow', '\\n\\n\\n\\nDerry City',\n",
       "       '\\n\\n\\n\\nLlaneros de Guanare', '\\n\\n\\n\\nSligo Rovers',\n",
       "       '\\n\\n\\n\\nZamora FC', \"\\n\\n\\n\\nSt. Patrick's Athletic\",\n",
       "       '\\n\\n\\n\\nCork City', '\\n\\n\\n\\nShelbourne FC',\n",
       "       '\\n\\n\\n\\nHarrogate Town', '\\n\\n\\n\\nWaterford FC',\n",
       "       '\\n\\n\\n\\nFinn Harps'], dtype=object)"
      ]
     },
     "execution_count": 27,
     "metadata": {},
     "output_type": "execute_result"
    }
   ],
   "source": [
    "fifa['Club'].unique()"
   ]
  },
  {
   "cell_type": "code",
   "execution_count": 28,
   "id": "18cb2863",
   "metadata": {},
   "outputs": [],
   "source": [
    "fifa['Club'] = fifa['Club'].str.strip()"
   ]
  },
  {
   "cell_type": "code",
   "execution_count": 29,
   "id": "18bc3073",
   "metadata": {},
   "outputs": [
    {
     "data": {
      "text/plain": [
       "array(['FC Barcelona', 'Juventus', 'Atlético Madrid', 'Manchester City',\n",
       "       'Paris Saint-Germain', 'FC Bayern München', 'Liverpool',\n",
       "       'Real Madrid', 'Chelsea', 'Tottenham Hotspur', 'Inter', 'Napoli',\n",
       "       'Borussia Dortmund', 'Manchester United', 'Arsenal', 'Lazio',\n",
       "       'Leicester City', 'Borussia Mönchengladbach', 'Real Sociedad',\n",
       "       'Atalanta', 'Olympique Lyonnais', 'Milan', 'Villarreal CF',\n",
       "       'RB Leipzig', 'Cagliari', 'Ajax', 'SL Benfica', 'AS Monaco',\n",
       "       'Wolverhampton Wanderers', 'Everton', 'Fiorentina', 'FC Porto',\n",
       "       'RC Celta', 'Torino', 'Sevilla FC', 'Grêmio', 'Real Betis', 'Roma',\n",
       "       'Newcastle United', 'Eintracht Frankfurt', 'Valencia CF',\n",
       "       'Medipol Başakşehir FK', 'Inter Miami', 'Bayer 04 Leverkusen',\n",
       "       'Levante UD', 'Crystal Palace', 'Athletic Club de Bilbao',\n",
       "       'Shanghai SIPG FC', 'VfL Wolfsburg',\n",
       "       'Guangzhou Evergrande Taobao FC', 'Al Shabab',\n",
       "       'Olympique de Marseille', 'Los Angeles FC',\n",
       "       'Beijing Sinobo Guoan FC', 'Getafe CF', 'SV Werder Bremen',\n",
       "       'TSG 1899 Hoffenheim', 'LOSC Lille', 'Deportivo Alavés', 'Burnley',\n",
       "       'Leeds United', 'Fulham', 'PFC CSKA Moscow', 'Genoa',\n",
       "       'Galatasaray SK', 'Atlanta United', 'Atlético Mineiro', 'Flamengo',\n",
       "       'Palmeiras', 'No Club', 'São Paulo', 'West Ham United', 'SD Eibar',\n",
       "       'River Plate', 'OGC Nice', 'Real Valladolid CF', 'Sporting CP',\n",
       "       'PSV', 'Feyenoord', 'Club Brugge KV', 'Shakhtar Donetsk',\n",
       "       'Vissel Kobe', 'Boca Juniors', '1. FC Union Berlin',\n",
       "       'Dalian YiFang FC', 'AS Saint-Étienne', 'Sassuolo',\n",
       "       'Tigres U.A.N.L.', 'Dinamo Zagreb', 'Dynamo Kyiv', 'Fluminense',\n",
       "       'Udinese', 'Aston Villa', 'Stade Rennais FC', 'Beşiktaş JK',\n",
       "       'Brighton & Hove Albion', 'Hebei China Fortune FC', 'Southampton',\n",
       "       'Lokomotiv Moscow', 'Jiangsu Suning FC', 'Al Hilal',\n",
       "       'West Bromwich Albion', 'Fenerbahçe SK', 'FC Groningen',\n",
       "       'Guangzhou R&F FC', 'Orlando City SC', 'Sampdoria',\n",
       "       'Stade de Reims', 'Sheffield United', 'Santos', 'Internacional',\n",
       "       'Coritiba', 'CA Osasuna', 'LA Galaxy', 'Al Nassr', 'SC Freiburg',\n",
       "       'SC Braga', 'Olympiacos CFP', 'Toronto FC', 'Granada CF',\n",
       "       'FC Schalke 04', 'RC Strasbourg Alsace', 'Hertha BSC',\n",
       "       'AZ Alkmaar', 'Seattle Sounders FC', 'Montpellier HSC',\n",
       "       'Shanghai Greenland Shenhua FC', 'Hamburger SV', 'Girona FC',\n",
       "       'Racing Club', 'Portland Timbers', 'FC Girondins de Bordeaux',\n",
       "       'Watford', 'Estudiantes de La Plata', 'Club América',\n",
       "       'Vitória Guimarães', 'SK Slavia Praha', 'Trabzonspor',\n",
       "       'RCD Espanyol', 'FC Nantes', 'Angers SCO', 'Cruz Azul',\n",
       "       'BSC Young Boys', 'Club León', 'Spartak Moscow', 'Sivasspor',\n",
       "       'Elche CF', 'FC Augsburg', 'Wuhan Zall', 'Parma',\n",
       "       'Royal Antwerp FC', 'Monterrey', 'San Lorenzo de Almagro',\n",
       "       'AC Monza', 'Club Atlético Lanús', 'SD Huesca', 'Derby County',\n",
       "       'Kayserispor', 'RSC Anderlecht', 'CD Leganés', 'Vélez Sarsfield',\n",
       "       'Stade Brestois 29', 'Tianjin TEDA FC', 'Birmingham City',\n",
       "       'Hellas Verona', '1. FC Köln', 'Al Wehda', 'Bournemouth',\n",
       "       'Alanyaspor', 'Bologna', 'Amiens SC', 'Celtic',\n",
       "       'Shijiazhuang Ever Bright F.C.', 'Club Atlas', 'Al Ahli',\n",
       "       'Norwich City', 'Fatih Karagümrük S.K.', 'Club Tijuana',\n",
       "       'Universidad Católica', 'Goiás', 'Benevento', 'Independiente',\n",
       "       'Qingdao Huanghai F.C.', 'Brentford', 'AEK Athens',\n",
       "       'Racing Club de Lens', 'Olimpia Asunción', 'Shenzhen FC',\n",
       "       'Çaykur Rizespor', 'KAA Gent', 'New England Revolution',\n",
       "       'Cádiz CF', '1. FSV Mainz 05', 'Vasco da Gama', 'FC Midtjylland',\n",
       "       'Al Ain FC', 'Santos Laguna', 'SPAL', 'Perth Glory', 'FC Utrecht',\n",
       "       'Montreal Impact', 'UD Almería', 'Fortaleza', 'Spezia',\n",
       "       'FC Basel 1893', 'FC København', 'Godoy Cruz', 'Deportivo Toluca',\n",
       "       'Nacional de Montevideo', 'Aalborg BK', 'Rio Ave FC', 'FC Metz',\n",
       "       'Chongqing Dangdai Lifan FC SWM Team', 'Rosenborg BK',\n",
       "       'FC Red Bull Salzburg', 'Botafogo', 'DSC Arminia Bielefeld',\n",
       "       'Club Athletico Paranaense', 'RCD Mallorca', 'Pachuca',\n",
       "       'Swansea City', 'KRC Genk', 'En Avant de Guingamp', 'Lecce',\n",
       "       'Nîmes Olympique', 'Colo-Colo', 'Stade Malherbe Caen',\n",
       "       'Columbus Crew SC', 'Junior FC', 'VfB Stuttgart', 'Moreirense FC',\n",
       "       'Rangers FC', 'Malmö FF', 'Shandong Luneng TaiShan FC',\n",
       "       'Sparta Praha', 'Hatayspor', 'Chicago Fire',\n",
       "       'Toulouse Football Club', 'FC Seoul', 'Antalyaspor',\n",
       "       'Deportivo Cali', 'Kaizer Chiefs', 'Real Zaragoza',\n",
       "       'Atlético Clube Goianiense', 'Puebla FC', 'Fortuna Düsseldorf',\n",
       "       'Western United FC', 'Astra Giurgiu', 'Henan Jianye FC', 'Bahia',\n",
       "       'Famalicão', 'Atiker Konyaspor', 'Peñarol', 'DC United',\n",
       "       'New York City FC', 'Argentinos Juniors', 'U.N.A.M.',\n",
       "       'Minnesota United FC', 'Nottingham Forest',\n",
       "       'Independiente del Valle', 'Defensa y Justicia',\n",
       "       'Philadelphia Union', \"Newell's Old Boys\", 'Rosario Central',\n",
       "       'Atlético de San Luis', 'FC Dallas', 'Denizlispor',\n",
       "       'Yeni Malatyaspor', 'Club Atlético Colón', 'Houston Dynamo',\n",
       "       'Millwall', 'Clube Sport Marítimo', 'MKE Ankaragücü',\n",
       "       'Guadalajara', 'Boavista FC', 'Sporting Kansas City',\n",
       "       'Atlético Nacional', 'CD Lugo', 'New York Red Bulls', 'PAOK',\n",
       "       'SC Heerenveen', 'Daegu FC', 'Preston North End', 'Damac FC',\n",
       "       'Brescia', 'VfL Bochum 1848', 'Vancouver Whitecaps FC',\n",
       "       'SV Sandhausen', 'Royal Excel Mouscron', 'Dijon FCO', 'Molde FK',\n",
       "       'Panathinaikos FC', 'LASK Linz', 'Ulsan Hyundai FC',\n",
       "       'Real Salt Lake', 'FC Luzern', 'Viktoria Plzeň', 'Orlando Pirates',\n",
       "       'Al Ittihad', '1. FC Nürnberg', 'Standard de Liège',\n",
       "       'Rayo Vallecano', 'Club Libertad', 'Jeonbuk Hyundai Motors',\n",
       "       'Western Sydney Wanderers', 'Unión de Santa Fe', 'FC Sion',\n",
       "       'Sydney FC', 'Hannover 96', 'Real Sporting de Gijón',\n",
       "       'FC Cincinnati', 'ESTAC Troyes', 'San Jose Earthquakes',\n",
       "       'Club Guaraní', 'FC Lorient', 'Gençlerbirliği SK',\n",
       "       'Sporting de Charleroi', 'Wisła Kraków', 'Al Taawoun', 'Reading',\n",
       "       'Gazişehir Gaziantep F.K.', 'Blackburn Rovers', 'Kashiwa Reysol',\n",
       "       'FK Bodø/Glimt', 'Willem II', 'Vitesse', 'Gil Vicente FC',\n",
       "       'SønderjyskE', 'Yokohama F. Marinos', 'FC St. Gallen',\n",
       "       'Club Atlético Aldosivi', 'Göztepe SK', 'Holstein Kiel',\n",
       "       'FC Juárez', 'FCSB (Steaua)', 'Ettifaq FC', 'KAS Eupen',\n",
       "       'FC Tokyo', 'Melbourne City FC', 'Universitatea Craiova',\n",
       "       'CD Tondela', 'Wolfsberger AC', 'Ceará Sporting Club',\n",
       "       'River Plate Asunción', 'Stoke City', 'Paris FC', 'IFK Norrköping',\n",
       "       'Crotone', 'Cardiff City', 'América de Cali', 'Al Faisaly',\n",
       "       'Independiente Medellín', 'Portimonense SC', 'CD Tenerife',\n",
       "       'Heracles Almelo', 'Nashville SC', 'SK Rapid Wien',\n",
       "       'Kawasaki Frontale', 'Club Necaxa', 'Chievo Verona', 'Lech Poznań',\n",
       "       'AIK', 'FK Austria Wien', 'Querétaro', '1. FC Heidenheim 1846',\n",
       "       'Legia Warszawa', 'Club Atlético Banfield', 'Os Belenenses',\n",
       "       'Huddersfield Town', 'KSV Cercle Brugge', 'LDU Quito',\n",
       "       'Gimnasia y Esgrima La Plata', 'Gamba Osaka', 'Middlesbrough',\n",
       "       'Servette FC', 'Empoli', 'Real Oviedo', 'Kasimpaşa SK', 'CFR Cluj',\n",
       "       'Millonarios FC', 'FC Paços de Ferreira', 'Sint-Truidense VV',\n",
       "       'AD Alcorcón', 'Colorado Rapids', 'Dinamo Bucureşti',\n",
       "       'Cerezo Osaka', 'FC Emmen', 'Sheffield Wednesday',\n",
       "       'FC Erzgebirge Aue', 'Raków Częstochowa', 'Atlético Tucumán',\n",
       "       'SV Darmstadt 98', 'Bristol City', 'Oud-Heverlee Leuven',\n",
       "       'Barnsley', 'Queens Park Rangers', 'Sangju Sangmu FC',\n",
       "       'Helsingborgs IF', 'AC Ajaccio', 'Oceânico FC',\n",
       "       'Club Atlético Talleres', 'Al Hazem', 'SC Paderborn 07',\n",
       "       'Club Atlético Huracán', 'KV Kortrijk', 'El Nacional',\n",
       "       'Mazatlán FC', 'Aberdeen', 'CD Mirandés', 'SV Zulte-Waregem',\n",
       "       'Piast Gliwice', 'Djurgårdens IF', 'Central Córdoba',\n",
       "       'Wellington Phoenix', 'Deportivo Binacional', 'Patronato',\n",
       "       'SpVgg Greuther Fürth', 'IFK Göteborg', 'FC Cartagena',\n",
       "       'Santa Clara', 'FC Twente', 'Farense', 'ADO Den Haag',\n",
       "       'AJ Auxerre', 'Al Fateh', 'Valenciennes FC',\n",
       "       'Hokkaido Consadole Sapporo', 'FC St. Pauli', 'Albacete BP',\n",
       "       '1. FC Kaiserslautern', 'Al Fayha', 'Incheon United FC',\n",
       "       'KV Mechelen', 'Pohang Steelers', 'CD Nacional', 'Unión La Calera',\n",
       "       'BB Erzurumspor', 'Kashima Antlers', 'Arsenal de Sarandí',\n",
       "       'HJK Helsinki', 'Karlsruher SC', 'Aarhus GF', 'FC Zürich',\n",
       "       'Barcelona Sporting Club', 'SG Dynamo Dresden',\n",
       "       'Sanfrecce Hiroshima', 'Al Raed', 'SD Ponferradina', 'Brøndby IF',\n",
       "       'Lechia Gdańsk', 'FC Viitorul', 'SK Sturm Graz', 'IF Elfsborg',\n",
       "       'Gangwon FC', 'Melgar FBC', 'Club Atlético Grau',\n",
       "       'Jagiellonia Białystok', 'Waasland-Beveren', 'VfL Osnabrück',\n",
       "       'Nagoya Grampus', 'CF Fuenlabrada', 'Shamrock Rovers',\n",
       "       'Shimizu S-Pulse', 'RKC Waalwijk', 'Vålerenga Fotball',\n",
       "       'Clermont Foot 63', 'FC Ingolstadt 04', 'FC Würzburger Kickers',\n",
       "       'Górnik Zabrze', 'Charlton Athletic', 'Beerschot AC',\n",
       "       'Coquimbo Unido', 'Viktoria Köln', 'Hull City', 'Málaga CF',\n",
       "       'FC Nordsjælland', 'UD Las Palmas', 'VVV-Venlo', 'GwangJu FC',\n",
       "       'Chamois Niortais Football Club', 'FC Lugano', 'Cusco FC',\n",
       "       'Sparta Rotterdam', 'Sol de América', 'PEC Zwolle',\n",
       "       'Pogoń Szczecin', 'Doncaster Rovers', 'Kristiansund BK',\n",
       "       'Liverpool Fútbol Club', 'Club Bolívar', 'Urawa Red Diamonds',\n",
       "       'SK Brann', 'Eintracht Braunschweig', 'Nacional Asunción',\n",
       "       'Melbourne Victory', 'Kilmarnock', 'Dundalk',\n",
       "       'SSV Jahn Regensburg', 'Abha Club', 'Club Atlético Tigre',\n",
       "       'Suwon Samsung Bluewings', 'Shonan Bellmare', 'SD Aucas', 'Emelec',\n",
       "       'Fortuna Sittard', 'La Berrichonne de Châteauroux',\n",
       "       'Śląsk Wrocław', 'Coventry City', 'Sunderland', 'Alianza Lima',\n",
       "       'Hammarby IF', 'Cracovia', 'CE Sabadell FC', 'Oita Trinita',\n",
       "       'BK Häcken', 'Luton Town', 'Le Havre AC', 'IK Sirius',\n",
       "       'Zagłębie Lubin', 'Grenoble Foot 38', 'Macarthur FC',\n",
       "       'Rodez Aveyron Football', 'Vegalta Sendai', 'Motherwell',\n",
       "       'SV Wehen Wiesbaden', 'Audax Italiano', 'Gaz Metan Mediaş',\n",
       "       'Portsmouth', 'Hibernian', 'Always Ready', 'UD Logroñés',\n",
       "       'FC Voluntari', 'FC Hermannstadt', 'AS Nancy Lorraine',\n",
       "       'Rotherham United', 'Fleetwood Town', 'Jorge Wilstermann',\n",
       "       'Odense Boldklub', 'MSV Duisburg', 'FC Sochaux-Montbéliard',\n",
       "       'Milton Keynes Dons', 'River Plate Montevideo', 'Delfín SC',\n",
       "       'Universidad Católica del Ecuador', 'Deportivo Pasto',\n",
       "       'KV Oostende', 'Club Plaza Colonia', 'Wigan Athletic',\n",
       "       'FC Botoşani', 'C.D. Castellón', 'SCR Altach', 'Örebro SK',\n",
       "       'TSV Hartberg', 'Stabæk Fotball', 'Wycombe Wanderers',\n",
       "       'St. Johnstone FC', 'Oxford United', 'Lincoln City', 'Randers FC',\n",
       "       'Viking FK', 'FC Chambly Oise', 'Dundee United',\n",
       "       'Oriente Petrolero', 'Odds BK', 'Nacional Potosí', 'Sepsi OSK',\n",
       "       'FC Hansa Rostock', 'Lyngby BK', 'SpVgg Unterhaching',\n",
       "       'Brisbane Roar', 'Seongnam FC', 'SV Ried', 'CD Huachipato',\n",
       "       'WSG Tirol', 'Podbeskidzie Bielsko-Biała', 'Peterborough United',\n",
       "       'Club Blooming', 'Wisła Płock', 'Busan IPark', 'FSV Zwickau',\n",
       "       'Mjøndalen IF', 'Vejle Boldklub', 'Pau FC', 'FC Lausanne-Sport',\n",
       "       'Estudiantes de Mérida', 'Sagan Tosu', 'SV Waldhof Mannheim',\n",
       "       'Sport Huancayo', 'Hallescher FC', 'Kalmar FF', 'St. Mirren',\n",
       "       'SKN St. Pölten', 'Sarpsborg 08 FF', 'Shrewsbury',\n",
       "       'TSV 1860 München', 'SV Meppen', 'Ipswich Town', 'IK Start',\n",
       "       'Adelaide United', 'Stal Mielec', 'Centro Atlético Fénix',\n",
       "       'Newcastle Jets', 'Livingston FC', 'AC Mineros de Guayana',\n",
       "       'AFC Wimbledon', 'Burton Albion', 'Al Adalah', 'Warta Poznań',\n",
       "       'USL Dunkerque', 'Bristol Rovers', 'UTA Arad', 'Östersunds FK',\n",
       "       'Sportivo Luqueño', 'Politehnica Iaşi', 'Salford City',\n",
       "       'Central Coast Mariners', 'Caracas FC', 'AC Horsens',\n",
       "       'Plymouth Argyle', 'Aalesunds FK', 'Crewe Alexandra',\n",
       "       'Chindia Târgovişte', 'Oldham Athletic', 'Yokohama FC',\n",
       "       'Blackpool', 'Northampton Town', 'Bayern München II',\n",
       "       'FK Haugesund', 'KFC Uerdingen 05', 'Forest Green Rovers',\n",
       "       'Cheltenham Town', 'Strømsgodset IF', 'Mjällby AIF', 'Exeter City',\n",
       "       'Cambridge United', 'Grimsby Town', 'FC Vaduz', 'Türkgücü München',\n",
       "       'VfB Lübeck', 'Bolton Wanderers', 'Bradford City',\n",
       "       '1. FC Magdeburg', 'FC Admira Wacker Mödling',\n",
       "       'Hamilton Academical FC', 'Aragua FC', 'Accrington Stanley',\n",
       "       'Swindon Town', 'Carlisle United', 'FC Argeș', 'Port Vale',\n",
       "       'Academica Clinceni', 'Rochdale', 'Gillingham', 'Tranmere Rovers',\n",
       "       'Southend United', '1. FC Saarbrücken', 'Colchester United',\n",
       "       'Mansfield Town', 'Falkenbergs FF', 'SC Verl', 'Varbergs BoIS',\n",
       "       'Crawley Town', 'Sandefjord Fotball', 'Newport County',\n",
       "       'Bohemian FC', 'Ross County FC', 'Scunthorpe United', 'Morecambe',\n",
       "       'Walsall', 'Leyton Orient', 'Stevenage', 'Barrow', 'Derry City',\n",
       "       'Llaneros de Guanare', 'Sligo Rovers', 'Zamora FC',\n",
       "       \"St. Patrick's Athletic\", 'Cork City', 'Shelbourne FC',\n",
       "       'Harrogate Town', 'Waterford FC', 'Finn Harps'], dtype=object)"
      ]
     },
     "execution_count": 29,
     "metadata": {},
     "output_type": "execute_result"
    }
   ],
   "source": [
    "fifa['Club'].unique()"
   ]
  },
  {
   "cell_type": "markdown",
   "id": "be6093df",
   "metadata": {},
   "source": [
    "## 11. Contract"
   ]
  },
  {
   "cell_type": "markdown",
   "id": "4a9868c1",
   "metadata": {},
   "source": [
    "Player's contract details"
   ]
  },
  {
   "cell_type": "code",
   "execution_count": 30,
   "id": "5313134f",
   "metadata": {},
   "outputs": [
    {
     "data": {
      "text/plain": [
       "dtype('O')"
      ]
     },
     "execution_count": 30,
     "metadata": {},
     "output_type": "execute_result"
    }
   ],
   "source": [
    "fifa['Contract'].dtype"
   ]
  },
  {
   "cell_type": "code",
   "execution_count": 31,
   "id": "ed93595e",
   "metadata": {},
   "outputs": [
    {
     "data": {
      "text/plain": [
       "array(['2004 ~ 2021', '2018 ~ 2022', '2014 ~ 2023', '2015 ~ 2023',\n",
       "       '2017 ~ 2022', '2017 ~ 2023', '2018 ~ 2024', '2014 ~ 2022',\n",
       "       '2018 ~ 2023', '2016 ~ 2023', '2013 ~ 2023', '2011 ~ 2023',\n",
       "       '2009 ~ 2022', '2005 ~ 2021', '2011 ~ 2021', '2015 ~ 2022',\n",
       "       '2017 ~ 2024', '2010 ~ 2024', '2012 ~ 2021', '2019 ~ 2024',\n",
       "       '2015 ~ 2024', '2017 ~ 2025', '2020 ~ 2025', '2019 ~ 2023',\n",
       "       '2008 ~ 2023', '2015 ~ 2021', '2020 ~ 2022', '2012 ~ 2022',\n",
       "       '2016 ~ 2025', '2013 ~ 2022', '2011 ~ 2022', '2012 ~ 2024',\n",
       "       '2016 ~ 2021', '2012 ~ 2023', '2008 ~ 2022', '2019 ~ 2022',\n",
       "       '2017 ~ 2021', '2013 ~ 2024', '2020 ~ 2024', '2010 ~ 2022',\n",
       "       '2020 ~ 2021', '2011 ~ 2024', '2020 ~ 2023', '2014 ~ 2024',\n",
       "       '2013 ~ 2026', '2016 ~ 2022', '2010 ~ 2021', '2013 ~ 2021',\n",
       "       '2019 ~ 2025', '2018 ~ 2025', '2016 ~ 2024', '2018 ~ 2021',\n",
       "       '2009 ~ 2024', '2007 ~ 2022', 'Jun 30, 2021 On Loan',\n",
       "       '2009 ~ 2021', '2019 ~ 2021', '2019 ~ 2026', 'Free', '2012 ~ 2028',\n",
       "       '2010 ~ 2023', '2014 ~ 2021', '2015 ~ 2025', '2014 ~ 2026',\n",
       "       '2012 ~ 2025', '2017 ~ 2020', '2002 ~ 2022', '2020 ~ 2027',\n",
       "       '2013 ~ 2025', 'Dec 31, 2020 On Loan', '2019 ~ 2020',\n",
       "       '2011 ~ 2025', '2016 ~ 2020', '2007 ~ 2021', '2020 ~ 2026',\n",
       "       '2010 ~ 2025', '2009 ~ 2023', '2008 ~ 2021', '2020 ~ 2020',\n",
       "       '2016 ~ 2026', 'Jan 30, 2021 On Loan', '2012 ~ 2020',\n",
       "       '2014 ~ 2025', 'Jun 30, 2022 On Loan', '2015 ~ 2020',\n",
       "       'May 31, 2021 On Loan', '2018 ~ 2020', '2014 ~ 2020',\n",
       "       '2013 ~ 2020', '2006 ~ 2024', 'Jul 5, 2021 On Loan',\n",
       "       'Dec 31, 2021 On Loan', '2004 ~ 2025', '2011 ~ 2020',\n",
       "       'Jul 1, 2021 On Loan', 'Jan 1, 2021 On Loan', '2006 ~ 2023',\n",
       "       'Aug 31, 2021 On Loan', '2006 ~ 2021', '2005 ~ 2023',\n",
       "       '2003 ~ 2020', '2009 ~ 2020', '2002 ~ 2020', '2005 ~ 2020',\n",
       "       '2005 ~ 2022', 'Jan 31, 2021 On Loan', '2010 ~ 2020',\n",
       "       'Dec 30, 2021 On Loan', '2008 ~ 2020', '2007 ~ 2020',\n",
       "       '2003 ~ 2021', 'Jun 23, 2021 On Loan', 'Jan 3, 2021 On Loan',\n",
       "       'Nov 27, 2021 On Loan', '2002 ~ 2021', 'Jan 17, 2021 On Loan',\n",
       "       'Jun 30, 2023 On Loan', '1998 ~ 2021', '2003 ~ 2022',\n",
       "       '2007 ~ 2023', 'Jul 31, 2021 On Loan', 'Nov 22, 2020 On Loan',\n",
       "       'May 31, 2022 On Loan', '2006 ~ 2020', 'Dec 30, 2020 On Loan',\n",
       "       '2007 ~ 2025', 'Jan 4, 2021 On Loan', 'Nov 30, 2020 On Loan',\n",
       "       '2004 ~ 2020', '2009 ~ 2025', 'Aug 1, 2021 On Loan'], dtype=object)"
      ]
     },
     "execution_count": 31,
     "metadata": {},
     "output_type": "execute_result"
    }
   ],
   "source": [
    "fifa['Contract'].unique()"
   ]
  },
  {
   "cell_type": "code",
   "execution_count": 32,
   "id": "f32a0802",
   "metadata": {},
   "outputs": [
    {
     "name": "stdout",
     "output_type": "stream",
     "text": [
      "Jun 30, 2021 On Loan\n",
      "Jun 30, 2021 On Loan\n",
      "Jun 30, 2021 On Loan\n",
      "Free\n",
      "Free\n",
      "Jun 30, 2021 On Loan\n",
      "Jun 30, 2021 On Loan\n",
      "Jun 30, 2021 On Loan\n",
      "Jun 30, 2021 On Loan\n",
      "Free\n",
      "Free\n",
      "Free\n",
      "Free\n",
      "Free\n",
      "Free\n",
      "Free\n",
      "Free\n",
      "Free\n",
      "Jun 30, 2021 On Loan\n",
      "Jun 30, 2021 On Loan\n",
      "Jun 30, 2021 On Loan\n",
      "Jun 30, 2021 On Loan\n",
      "Jun 30, 2021 On Loan\n",
      "Free\n",
      "Free\n",
      "Free\n",
      "Free\n",
      "Jun 30, 2021 On Loan\n",
      "Dec 31, 2020 On Loan\n",
      "Jun 30, 2021 On Loan\n",
      "Free\n",
      "Jun 30, 2021 On Loan\n",
      "Free\n",
      "Free\n",
      "Free\n",
      "Free\n",
      "Jun 30, 2021 On Loan\n",
      "Jun 30, 2021 On Loan\n",
      "Jun 30, 2021 On Loan\n",
      "Jun 30, 2021 On Loan\n",
      "Jun 30, 2021 On Loan\n",
      "Jun 30, 2021 On Loan\n",
      "Jun 30, 2021 On Loan\n",
      "Jun 30, 2021 On Loan\n",
      "Jun 30, 2021 On Loan\n",
      "Jun 30, 2021 On Loan\n",
      "Jun 30, 2021 On Loan\n",
      "Jun 30, 2021 On Loan\n",
      "Jun 30, 2021 On Loan\n",
      "Free\n",
      "Jun 30, 2021 On Loan\n",
      "Free\n",
      "Jun 30, 2021 On Loan\n",
      "Jan 30, 2021 On Loan\n",
      "Jun 30, 2021 On Loan\n",
      "Jun 30, 2021 On Loan\n",
      "Free\n",
      "Dec 31, 2020 On Loan\n",
      "Jun 30, 2021 On Loan\n",
      "Jun 30, 2021 On Loan\n",
      "Free\n",
      "Jun 30, 2021 On Loan\n",
      "Jun 30, 2021 On Loan\n",
      "Jun 30, 2021 On Loan\n",
      "Free\n",
      "Jun 30, 2021 On Loan\n",
      "Free\n",
      "Free\n",
      "Free\n",
      "Free\n",
      "Jun 30, 2021 On Loan\n",
      "Jun 30, 2022 On Loan\n",
      "Free\n",
      "Jun 30, 2021 On Loan\n",
      "Jun 30, 2021 On Loan\n",
      "Jun 30, 2021 On Loan\n",
      "Jun 30, 2021 On Loan\n",
      "Jun 30, 2021 On Loan\n",
      "Free\n",
      "Jun 30, 2021 On Loan\n",
      "Jun 30, 2021 On Loan\n",
      "Free\n",
      "Jun 30, 2021 On Loan\n",
      "Free\n",
      "Free\n",
      "Jun 30, 2021 On Loan\n",
      "Jun 30, 2021 On Loan\n",
      "Jun 30, 2021 On Loan\n",
      "Jun 30, 2021 On Loan\n",
      "Jun 30, 2021 On Loan\n",
      "Free\n",
      "Jun 30, 2021 On Loan\n",
      "Free\n",
      "Jun 30, 2022 On Loan\n",
      "Jun 30, 2021 On Loan\n",
      "Jun 30, 2021 On Loan\n",
      "Free\n",
      "Free\n",
      "Free\n",
      "Jun 30, 2021 On Loan\n",
      "Jun 30, 2021 On Loan\n",
      "May 31, 2021 On Loan\n",
      "Jun 30, 2021 On Loan\n",
      "Jun 30, 2021 On Loan\n",
      "Jun 30, 2021 On Loan\n",
      "Jun 30, 2021 On Loan\n",
      "Free\n",
      "Dec 31, 2020 On Loan\n",
      "Jun 30, 2021 On Loan\n",
      "Free\n",
      "Free\n",
      "Jun 30, 2021 On Loan\n",
      "Free\n",
      "Jun 30, 2021 On Loan\n",
      "Free\n",
      "Free\n",
      "Jun 30, 2021 On Loan\n",
      "May 31, 2021 On Loan\n",
      "Jun 30, 2021 On Loan\n",
      "Jun 30, 2021 On Loan\n",
      "Jun 30, 2021 On Loan\n",
      "Jun 30, 2021 On Loan\n",
      "Jun 30, 2021 On Loan\n",
      "Jun 30, 2021 On Loan\n",
      "Jun 30, 2022 On Loan\n",
      "Jun 30, 2021 On Loan\n",
      "Free\n",
      "Jun 30, 2021 On Loan\n",
      "Jun 30, 2021 On Loan\n",
      "Dec 31, 2020 On Loan\n",
      "Jun 30, 2021 On Loan\n",
      "Jun 30, 2021 On Loan\n",
      "Jun 30, 2021 On Loan\n",
      "Jun 30, 2021 On Loan\n",
      "Jun 30, 2021 On Loan\n",
      "Jun 30, 2021 On Loan\n",
      "Jun 30, 2021 On Loan\n",
      "Jun 30, 2021 On Loan\n",
      "Free\n",
      "Jun 30, 2021 On Loan\n",
      "May 31, 2021 On Loan\n",
      "Jun 30, 2021 On Loan\n",
      "Jun 30, 2021 On Loan\n",
      "Jun 30, 2021 On Loan\n",
      "Jun 30, 2021 On Loan\n",
      "May 31, 2021 On Loan\n",
      "Jun 30, 2021 On Loan\n",
      "May 31, 2021 On Loan\n",
      "Jun 30, 2021 On Loan\n",
      "Jun 30, 2021 On Loan\n",
      "Jun 30, 2021 On Loan\n",
      "Jun 30, 2021 On Loan\n",
      "Jun 30, 2021 On Loan\n",
      "Free\n",
      "Jun 30, 2021 On Loan\n",
      "Free\n",
      "Jun 30, 2021 On Loan\n",
      "Dec 31, 2020 On Loan\n",
      "Jul 5, 2021 On Loan\n",
      "Jun 30, 2021 On Loan\n",
      "Free\n",
      "Jun 30, 2021 On Loan\n",
      "Jun 30, 2021 On Loan\n",
      "Jun 30, 2021 On Loan\n",
      "Jun 30, 2022 On Loan\n",
      "Free\n",
      "Jun 30, 2021 On Loan\n",
      "Jun 30, 2021 On Loan\n",
      "Jun 30, 2021 On Loan\n",
      "Jun 30, 2021 On Loan\n",
      "Jun 30, 2021 On Loan\n",
      "Jun 30, 2021 On Loan\n",
      "Jun 30, 2021 On Loan\n",
      "Dec 31, 2020 On Loan\n",
      "Jun 30, 2021 On Loan\n",
      "Jun 30, 2021 On Loan\n",
      "Free\n",
      "Jun 30, 2021 On Loan\n",
      "Jun 30, 2021 On Loan\n",
      "Jun 30, 2021 On Loan\n",
      "Dec 31, 2020 On Loan\n",
      "Jun 30, 2021 On Loan\n",
      "Jun 30, 2021 On Loan\n",
      "Jun 30, 2021 On Loan\n",
      "Jun 30, 2021 On Loan\n",
      "Jun 30, 2021 On Loan\n",
      "Jun 30, 2021 On Loan\n",
      "Jun 30, 2021 On Loan\n",
      "Free\n",
      "Jun 30, 2021 On Loan\n",
      "Jun 30, 2021 On Loan\n",
      "Jun 30, 2021 On Loan\n",
      "Jun 30, 2021 On Loan\n",
      "Jun 30, 2021 On Loan\n",
      "Dec 31, 2021 On Loan\n",
      "Free\n",
      "Jun 30, 2021 On Loan\n",
      "Jun 30, 2021 On Loan\n",
      "Free\n",
      "Jun 30, 2021 On Loan\n",
      "Dec 31, 2020 On Loan\n",
      "Jun 30, 2021 On Loan\n",
      "Jun 30, 2021 On Loan\n",
      "Jun 30, 2021 On Loan\n",
      "Free\n",
      "Jun 30, 2021 On Loan\n",
      "Dec 31, 2021 On Loan\n",
      "Free\n",
      "Dec 31, 2020 On Loan\n",
      "Dec 31, 2020 On Loan\n",
      "May 31, 2021 On Loan\n",
      "Free\n",
      "Jun 30, 2021 On Loan\n",
      "Free\n",
      "Jun 30, 2021 On Loan\n",
      "Free\n",
      "Dec 31, 2020 On Loan\n",
      "Free\n",
      "Jun 30, 2021 On Loan\n",
      "Free\n",
      "Free\n",
      "Jun 30, 2021 On Loan\n",
      "May 31, 2021 On Loan\n",
      "Free\n",
      "Free\n",
      "Jun 30, 2021 On Loan\n",
      "Jun 30, 2021 On Loan\n",
      "Free\n",
      "Dec 31, 2020 On Loan\n",
      "Jun 30, 2021 On Loan\n",
      "Jun 30, 2021 On Loan\n",
      "Jun 30, 2021 On Loan\n",
      "Jun 30, 2021 On Loan\n",
      "Free\n",
      "Jun 30, 2021 On Loan\n",
      "May 31, 2021 On Loan\n",
      "Dec 31, 2020 On Loan\n",
      "Jun 30, 2021 On Loan\n",
      "Jun 30, 2021 On Loan\n",
      "Jul 1, 2021 On Loan\n",
      "Free\n",
      "Jun 30, 2021 On Loan\n",
      "Jun 30, 2021 On Loan\n",
      "Jun 30, 2021 On Loan\n",
      "Free\n",
      "Dec 31, 2021 On Loan\n",
      "Free\n",
      "May 31, 2021 On Loan\n",
      "Jun 30, 2021 On Loan\n",
      "Jun 30, 2021 On Loan\n",
      "Dec 31, 2021 On Loan\n",
      "Jun 30, 2021 On Loan\n",
      "Free\n",
      "Jun 30, 2021 On Loan\n",
      "Jun 30, 2021 On Loan\n",
      "Jun 30, 2021 On Loan\n",
      "May 31, 2021 On Loan\n",
      "Jun 30, 2021 On Loan\n",
      "Jan 1, 2021 On Loan\n",
      "Jun 30, 2021 On Loan\n",
      "Jun 30, 2021 On Loan\n",
      "Free\n",
      "Free\n",
      "Jun 30, 2021 On Loan\n",
      "Free\n",
      "Jun 30, 2021 On Loan\n",
      "Jun 30, 2021 On Loan\n",
      "Aug 31, 2021 On Loan\n",
      "Jun 30, 2021 On Loan\n",
      "Jun 30, 2021 On Loan\n",
      "May 31, 2021 On Loan\n",
      "Free\n",
      "Dec 31, 2020 On Loan\n",
      "Jun 30, 2021 On Loan\n",
      "Jun 30, 2021 On Loan\n",
      "Jun 30, 2021 On Loan\n",
      "Jun 30, 2021 On Loan\n",
      "Dec 31, 2020 On Loan\n",
      "Free\n",
      "Free\n",
      "Jun 30, 2021 On Loan\n",
      "Jun 30, 2021 On Loan\n",
      "Dec 31, 2020 On Loan\n",
      "Jun 30, 2021 On Loan\n",
      "Jun 30, 2021 On Loan\n",
      "Free\n",
      "Jun 30, 2021 On Loan\n",
      "Jun 30, 2021 On Loan\n",
      "Free\n",
      "May 31, 2021 On Loan\n",
      "Jun 30, 2021 On Loan\n",
      "Free\n",
      "Free\n",
      "Dec 31, 2021 On Loan\n",
      "Jun 30, 2021 On Loan\n",
      "Dec 31, 2020 On Loan\n",
      "Jun 30, 2021 On Loan\n",
      "Jun 30, 2021 On Loan\n",
      "May 31, 2021 On Loan\n",
      "Jun 30, 2021 On Loan\n",
      "Dec 31, 2020 On Loan\n",
      "Jun 30, 2021 On Loan\n",
      "Jun 30, 2021 On Loan\n",
      "Jun 30, 2021 On Loan\n",
      "Jun 30, 2021 On Loan\n",
      "May 31, 2021 On Loan\n",
      "Jun 30, 2021 On Loan\n",
      "Dec 31, 2020 On Loan\n",
      "Dec 31, 2020 On Loan\n",
      "Jun 30, 2021 On Loan\n",
      "Free\n",
      "Jun 30, 2021 On Loan\n",
      "Jun 30, 2021 On Loan\n",
      "Free\n",
      "Jun 30, 2022 On Loan\n",
      "Jun 30, 2021 On Loan\n",
      "Jun 30, 2021 On Loan\n",
      "Free\n",
      "Jun 30, 2021 On Loan\n",
      "Jun 30, 2021 On Loan\n",
      "Jun 30, 2021 On Loan\n",
      "Jun 30, 2021 On Loan\n",
      "Free\n",
      "Jun 30, 2021 On Loan\n",
      "Jun 30, 2021 On Loan\n",
      "Dec 31, 2020 On Loan\n",
      "Jun 30, 2021 On Loan\n",
      "Jun 30, 2021 On Loan\n",
      "Free\n",
      "Jun 30, 2021 On Loan\n",
      "Jun 30, 2021 On Loan\n",
      "Free\n",
      "Jun 30, 2021 On Loan\n",
      "Jun 30, 2021 On Loan\n",
      "Jun 30, 2021 On Loan\n",
      "Jun 30, 2021 On Loan\n",
      "Jun 30, 2021 On Loan\n",
      "Jun 30, 2021 On Loan\n",
      "May 31, 2021 On Loan\n",
      "Jun 30, 2021 On Loan\n",
      "Jun 30, 2021 On Loan\n",
      "Free\n",
      "Jun 30, 2021 On Loan\n",
      "Jun 30, 2021 On Loan\n",
      "Jun 30, 2021 On Loan\n",
      "Jun 30, 2021 On Loan\n",
      "Free\n",
      "Free\n",
      "Free\n",
      "Jun 30, 2021 On Loan\n",
      "Jun 30, 2021 On Loan\n",
      "Jun 30, 2021 On Loan\n",
      "Jun 30, 2021 On Loan\n",
      "Dec 31, 2020 On Loan\n",
      "Jun 30, 2021 On Loan\n",
      "Jun 30, 2021 On Loan\n",
      "Jun 30, 2021 On Loan\n",
      "Jun 30, 2021 On Loan\n",
      "Jun 30, 2021 On Loan\n",
      "Free\n",
      "Jun 30, 2021 On Loan\n",
      "Jun 30, 2021 On Loan\n",
      "Jun 30, 2021 On Loan\n",
      "Jun 30, 2021 On Loan\n",
      "Free\n",
      "Free\n",
      "Jun 30, 2021 On Loan\n",
      "Jun 30, 2021 On Loan\n",
      "Jun 30, 2021 On Loan\n",
      "Jun 30, 2021 On Loan\n",
      "Jun 30, 2021 On Loan\n",
      "May 31, 2021 On Loan\n",
      "Jun 30, 2021 On Loan\n",
      "May 31, 2021 On Loan\n",
      "Free\n",
      "Jun 30, 2021 On Loan\n",
      "Dec 31, 2020 On Loan\n",
      "Free\n",
      "Free\n",
      "Jun 30, 2021 On Loan\n",
      "Free\n",
      "Jun 30, 2021 On Loan\n",
      "Jun 30, 2021 On Loan\n",
      "Jun 30, 2022 On Loan\n",
      "Jun 30, 2021 On Loan\n",
      "Jun 30, 2021 On Loan\n",
      "Dec 31, 2020 On Loan\n",
      "Free\n",
      "Free\n",
      "Free\n",
      "Jun 30, 2021 On Loan\n",
      "Jun 30, 2021 On Loan\n",
      "Jun 30, 2021 On Loan\n",
      "Jun 30, 2021 On Loan\n",
      "Free\n",
      "Jun 30, 2021 On Loan\n",
      "Dec 31, 2020 On Loan\n",
      "Jun 30, 2021 On Loan\n",
      "Free\n",
      "May 31, 2021 On Loan\n",
      "Jun 30, 2021 On Loan\n",
      "Jun 30, 2021 On Loan\n",
      "Jun 30, 2021 On Loan\n",
      "Jun 30, 2021 On Loan\n",
      "May 31, 2021 On Loan\n",
      "Dec 31, 2020 On Loan\n",
      "Jun 30, 2021 On Loan\n",
      "Jun 30, 2021 On Loan\n",
      "Jun 30, 2021 On Loan\n",
      "Jun 30, 2021 On Loan\n",
      "Free\n",
      "Free\n",
      "Jun 30, 2021 On Loan\n",
      "Jan 31, 2021 On Loan\n",
      "Jun 30, 2021 On Loan\n",
      "Jun 30, 2021 On Loan\n",
      "Jun 30, 2021 On Loan\n",
      "Jun 30, 2021 On Loan\n",
      "Jun 30, 2021 On Loan\n",
      "May 31, 2021 On Loan\n",
      "Jun 30, 2021 On Loan\n",
      "Jun 30, 2021 On Loan\n",
      "Jun 30, 2021 On Loan\n",
      "Jun 30, 2021 On Loan\n",
      "Jun 30, 2021 On Loan\n",
      "Free\n",
      "Free\n",
      "Jun 30, 2021 On Loan\n",
      "Jun 30, 2021 On Loan\n",
      "Jun 30, 2021 On Loan\n",
      "Jun 30, 2021 On Loan\n",
      "Free\n",
      "Free\n",
      "Free\n",
      "Jun 30, 2021 On Loan\n",
      "May 31, 2021 On Loan\n",
      "Jun 30, 2021 On Loan\n",
      "Jun 30, 2021 On Loan\n",
      "Dec 30, 2021 On Loan\n",
      "Free\n",
      "Jun 30, 2021 On Loan\n",
      "Dec 31, 2020 On Loan\n",
      "Free\n",
      "Jun 30, 2021 On Loan\n",
      "Free\n",
      "Dec 31, 2021 On Loan\n",
      "Free\n",
      "Jun 30, 2021 On Loan\n",
      "Free\n",
      "Dec 31, 2020 On Loan\n",
      "Jun 30, 2021 On Loan\n",
      "Jun 30, 2021 On Loan\n",
      "Jun 30, 2021 On Loan\n",
      "Dec 31, 2020 On Loan\n",
      "Free\n",
      "Jun 30, 2021 On Loan\n",
      "Jun 30, 2021 On Loan\n",
      "Jun 30, 2021 On Loan\n",
      "Jan 31, 2021 On Loan\n",
      "Free\n",
      "Free\n",
      "Jun 30, 2021 On Loan\n",
      "Free\n",
      "Free\n",
      "Jun 30, 2021 On Loan\n",
      "Jun 30, 2021 On Loan\n",
      "Jun 30, 2021 On Loan\n",
      "Free\n",
      "Dec 31, 2021 On Loan\n",
      "Jun 30, 2021 On Loan\n",
      "Free\n",
      "Jun 30, 2022 On Loan\n",
      "Dec 31, 2021 On Loan\n",
      "Free\n",
      "Jun 30, 2021 On Loan\n",
      "Jun 30, 2021 On Loan\n",
      "Jun 30, 2021 On Loan\n",
      "Jun 30, 2021 On Loan\n",
      "Jun 30, 2021 On Loan\n",
      "Free\n",
      "Free\n",
      "Jun 30, 2021 On Loan\n",
      "Jun 30, 2021 On Loan\n",
      "Jun 30, 2021 On Loan\n",
      "Jun 30, 2021 On Loan\n",
      "May 31, 2021 On Loan\n",
      "Dec 31, 2021 On Loan\n",
      "Jun 30, 2021 On Loan\n",
      "Jun 30, 2021 On Loan\n",
      "Jun 30, 2021 On Loan\n",
      "Jun 30, 2021 On Loan\n",
      "Jun 30, 2021 On Loan\n",
      "Jun 30, 2021 On Loan\n",
      "Jan 1, 2021 On Loan\n",
      "Dec 31, 2021 On Loan\n",
      "Jun 30, 2021 On Loan\n",
      "Jun 30, 2021 On Loan\n",
      "Dec 31, 2020 On Loan\n",
      "Free\n",
      "Jun 30, 2021 On Loan\n",
      "Free\n",
      "Jun 30, 2021 On Loan\n",
      "Jun 30, 2021 On Loan\n",
      "Free\n",
      "Dec 31, 2020 On Loan\n",
      "Free\n",
      "Free\n",
      "Jun 30, 2021 On Loan\n",
      "Jun 30, 2021 On Loan\n",
      "Jun 30, 2021 On Loan\n",
      "Jun 30, 2021 On Loan\n",
      "Free\n",
      "Dec 31, 2020 On Loan\n",
      "Free\n",
      "Dec 31, 2020 On Loan\n",
      "Jun 30, 2021 On Loan\n",
      "Jun 30, 2021 On Loan\n",
      "Jun 30, 2021 On Loan\n",
      "Free\n",
      "Jun 30, 2021 On Loan\n",
      "Free\n",
      "Jun 30, 2021 On Loan\n",
      "Jun 30, 2021 On Loan\n",
      "Jun 30, 2021 On Loan\n",
      "Jun 30, 2021 On Loan\n",
      "Free\n",
      "Jan 1, 2021 On Loan\n",
      "Jun 30, 2021 On Loan\n",
      "Jan 31, 2021 On Loan\n",
      "Jun 30, 2021 On Loan\n",
      "Jun 30, 2021 On Loan\n",
      "Jun 23, 2021 On Loan\n",
      "Jun 30, 2021 On Loan\n",
      "Jun 30, 2021 On Loan\n",
      "Jun 30, 2021 On Loan\n",
      "Free\n",
      "Jun 30, 2021 On Loan\n",
      "Jan 31, 2021 On Loan\n",
      "Jun 30, 2021 On Loan\n",
      "Dec 31, 2020 On Loan\n",
      "Jun 30, 2021 On Loan\n",
      "Jun 30, 2021 On Loan\n",
      "Jun 30, 2021 On Loan\n",
      "Jun 30, 2021 On Loan\n",
      "Jun 30, 2021 On Loan\n",
      "Jun 30, 2021 On Loan\n",
      "Jun 30, 2021 On Loan\n",
      "Free\n",
      "Jun 30, 2021 On Loan\n",
      "May 31, 2021 On Loan\n",
      "Dec 31, 2020 On Loan\n",
      "Dec 31, 2020 On Loan\n",
      "Jun 30, 2021 On Loan\n",
      "Jun 30, 2021 On Loan\n",
      "Jan 1, 2021 On Loan\n",
      "Free\n",
      "Jun 30, 2021 On Loan\n",
      "Free\n",
      "Jun 30, 2021 On Loan\n",
      "Jun 30, 2021 On Loan\n",
      "Jun 30, 2021 On Loan\n",
      "Jun 30, 2021 On Loan\n",
      "Dec 31, 2020 On Loan\n",
      "Jun 30, 2021 On Loan\n",
      "Free\n",
      "Free\n",
      "Jun 30, 2021 On Loan\n",
      "Dec 31, 2020 On Loan\n",
      "Jun 30, 2021 On Loan\n",
      "Jun 30, 2021 On Loan\n",
      "Jun 30, 2021 On Loan\n",
      "Free\n",
      "Jun 30, 2021 On Loan\n",
      "Jun 30, 2021 On Loan\n",
      "Jun 30, 2021 On Loan\n",
      "Dec 31, 2021 On Loan\n",
      "Jun 30, 2021 On Loan\n",
      "Jun 30, 2021 On Loan\n",
      "Jun 30, 2021 On Loan\n",
      "Jun 30, 2021 On Loan\n",
      "Jun 30, 2021 On Loan\n",
      "Jun 30, 2021 On Loan\n",
      "Dec 31, 2020 On Loan\n",
      "Free\n",
      "Free\n",
      "Jun 30, 2021 On Loan\n",
      "Jun 30, 2021 On Loan\n",
      "Jun 30, 2021 On Loan\n",
      "Jun 30, 2021 On Loan\n",
      "Jun 30, 2022 On Loan\n",
      "Free\n",
      "Dec 31, 2020 On Loan\n",
      "Jun 30, 2021 On Loan\n",
      "Free\n",
      "Dec 31, 2020 On Loan\n",
      "Jun 30, 2021 On Loan\n",
      "Free\n",
      "Jun 30, 2021 On Loan\n"
     ]
    },
    {
     "name": "stdout",
     "output_type": "stream",
     "text": [
      "Free\n",
      "Dec 31, 2021 On Loan\n",
      "Dec 31, 2020 On Loan\n",
      "Free\n",
      "Free\n",
      "Free\n",
      "Jun 30, 2021 On Loan\n",
      "Jun 30, 2021 On Loan\n",
      "Jun 30, 2021 On Loan\n",
      "Jun 30, 2021 On Loan\n",
      "Jun 30, 2021 On Loan\n",
      "Jun 30, 2021 On Loan\n",
      "Dec 31, 2020 On Loan\n",
      "Free\n",
      "Jun 30, 2021 On Loan\n",
      "Jun 30, 2021 On Loan\n",
      "Jun 30, 2021 On Loan\n",
      "Dec 31, 2020 On Loan\n",
      "Jun 30, 2021 On Loan\n",
      "Jun 30, 2021 On Loan\n",
      "Jun 30, 2021 On Loan\n",
      "Jun 30, 2021 On Loan\n",
      "Jun 30, 2021 On Loan\n",
      "Jan 31, 2021 On Loan\n",
      "Jun 30, 2021 On Loan\n",
      "Free\n",
      "Jan 31, 2021 On Loan\n",
      "Jun 30, 2021 On Loan\n",
      "Free\n",
      "Free\n",
      "Jun 30, 2021 On Loan\n",
      "Jun 30, 2021 On Loan\n",
      "Jun 30, 2021 On Loan\n",
      "Jun 30, 2021 On Loan\n",
      "Jun 30, 2021 On Loan\n",
      "Jun 30, 2021 On Loan\n",
      "Jun 30, 2021 On Loan\n",
      "Jun 30, 2021 On Loan\n",
      "Jun 30, 2021 On Loan\n",
      "Free\n",
      "Dec 31, 2020 On Loan\n",
      "Jun 30, 2021 On Loan\n",
      "Jun 30, 2021 On Loan\n",
      "Dec 31, 2020 On Loan\n",
      "Jun 30, 2021 On Loan\n",
      "Jun 30, 2021 On Loan\n",
      "Jun 30, 2021 On Loan\n",
      "Free\n",
      "Jun 30, 2021 On Loan\n",
      "Free\n",
      "Jun 30, 2021 On Loan\n",
      "Jun 30, 2021 On Loan\n",
      "Jun 30, 2021 On Loan\n",
      "Jun 30, 2021 On Loan\n",
      "Jun 30, 2021 On Loan\n",
      "Jun 30, 2021 On Loan\n",
      "Jun 30, 2021 On Loan\n",
      "May 31, 2021 On Loan\n",
      "Jun 30, 2021 On Loan\n",
      "Jun 30, 2021 On Loan\n",
      "Dec 31, 2020 On Loan\n",
      "Jun 30, 2021 On Loan\n",
      "Jun 30, 2021 On Loan\n",
      "Jun 30, 2021 On Loan\n",
      "Jun 30, 2021 On Loan\n",
      "Jun 30, 2021 On Loan\n",
      "Jan 3, 2021 On Loan\n",
      "Jun 30, 2021 On Loan\n",
      "Jun 30, 2021 On Loan\n",
      "Free\n",
      "Jun 30, 2021 On Loan\n",
      "Dec 31, 2020 On Loan\n",
      "Jun 30, 2021 On Loan\n",
      "Jun 30, 2021 On Loan\n",
      "Dec 31, 2020 On Loan\n",
      "Jun 30, 2021 On Loan\n",
      "Jun 30, 2021 On Loan\n",
      "Free\n",
      "Jun 30, 2021 On Loan\n",
      "Jun 30, 2021 On Loan\n",
      "Jun 30, 2021 On Loan\n",
      "Jun 30, 2021 On Loan\n",
      "Jun 30, 2021 On Loan\n",
      "Jun 30, 2021 On Loan\n",
      "Jun 30, 2021 On Loan\n",
      "Jun 30, 2021 On Loan\n",
      "Jun 30, 2021 On Loan\n",
      "Jun 30, 2021 On Loan\n",
      "Dec 31, 2020 On Loan\n",
      "Dec 31, 2020 On Loan\n",
      "May 31, 2021 On Loan\n",
      "Jun 30, 2021 On Loan\n",
      "Nov 27, 2021 On Loan\n",
      "Free\n",
      "Jun 30, 2021 On Loan\n",
      "Free\n",
      "Jun 30, 2021 On Loan\n",
      "Jun 30, 2021 On Loan\n",
      "Jun 30, 2021 On Loan\n",
      "Jun 30, 2021 On Loan\n",
      "Dec 31, 2020 On Loan\n",
      "Dec 31, 2020 On Loan\n",
      "May 31, 2021 On Loan\n",
      "Jun 30, 2021 On Loan\n",
      "Jun 30, 2021 On Loan\n",
      "Free\n",
      "Jun 30, 2021 On Loan\n",
      "Jun 30, 2021 On Loan\n",
      "Jun 30, 2021 On Loan\n",
      "Jun 30, 2021 On Loan\n",
      "Jun 30, 2021 On Loan\n",
      "Jun 30, 2021 On Loan\n",
      "Jun 30, 2021 On Loan\n",
      "Jun 30, 2021 On Loan\n",
      "Free\n",
      "Jun 30, 2021 On Loan\n",
      "Jun 30, 2021 On Loan\n",
      "Jun 30, 2022 On Loan\n",
      "Jun 30, 2021 On Loan\n",
      "Free\n",
      "Jun 30, 2021 On Loan\n",
      "Jun 30, 2021 On Loan\n",
      "Jun 30, 2021 On Loan\n",
      "Jun 30, 2021 On Loan\n",
      "Dec 31, 2021 On Loan\n",
      "Free\n",
      "Free\n",
      "Jun 30, 2021 On Loan\n",
      "Free\n",
      "Jun 30, 2021 On Loan\n",
      "Jun 30, 2021 On Loan\n",
      "Dec 31, 2020 On Loan\n",
      "Jun 30, 2021 On Loan\n",
      "Free\n",
      "Jun 30, 2021 On Loan\n",
      "Jun 30, 2021 On Loan\n",
      "Dec 31, 2020 On Loan\n",
      "Jun 30, 2021 On Loan\n",
      "Jun 30, 2021 On Loan\n",
      "Jun 30, 2021 On Loan\n",
      "Nov 27, 2021 On Loan\n",
      "Free\n",
      "Jan 31, 2021 On Loan\n",
      "Jun 30, 2021 On Loan\n",
      "Jun 30, 2021 On Loan\n",
      "Jun 30, 2021 On Loan\n",
      "Jun 30, 2021 On Loan\n",
      "Jun 30, 2021 On Loan\n",
      "Jun 30, 2021 On Loan\n",
      "Jun 30, 2021 On Loan\n",
      "Free\n",
      "Jun 30, 2021 On Loan\n",
      "Dec 31, 2021 On Loan\n",
      "Jun 30, 2021 On Loan\n",
      "Dec 31, 2021 On Loan\n",
      "Free\n",
      "Jun 30, 2021 On Loan\n",
      "Jun 30, 2021 On Loan\n",
      "Jun 30, 2021 On Loan\n",
      "Jun 30, 2021 On Loan\n",
      "Free\n",
      "Jun 30, 2021 On Loan\n",
      "Jun 30, 2021 On Loan\n",
      "Free\n",
      "Jun 30, 2021 On Loan\n",
      "Jun 30, 2021 On Loan\n",
      "Jun 23, 2021 On Loan\n",
      "Dec 31, 2020 On Loan\n",
      "Jun 30, 2021 On Loan\n",
      "Jun 30, 2021 On Loan\n",
      "Jun 30, 2021 On Loan\n",
      "Jan 17, 2021 On Loan\n",
      "Free\n",
      "Jun 30, 2021 On Loan\n",
      "Jan 31, 2021 On Loan\n",
      "Free\n",
      "Jun 30, 2021 On Loan\n",
      "Free\n",
      "Jun 30, 2023 On Loan\n",
      "Jun 30, 2021 On Loan\n",
      "Jun 30, 2021 On Loan\n",
      "Jun 30, 2021 On Loan\n",
      "Free\n",
      "Jun 30, 2021 On Loan\n",
      "Dec 31, 2020 On Loan\n",
      "Jun 30, 2021 On Loan\n",
      "Jun 30, 2021 On Loan\n",
      "Jun 30, 2021 On Loan\n",
      "Jun 30, 2021 On Loan\n",
      "Free\n",
      "Jun 30, 2021 On Loan\n",
      "Jun 30, 2021 On Loan\n",
      "Jun 30, 2021 On Loan\n",
      "Jun 30, 2021 On Loan\n",
      "Jun 30, 2021 On Loan\n",
      "Jun 30, 2021 On Loan\n",
      "Jun 30, 2021 On Loan\n",
      "Jun 30, 2021 On Loan\n",
      "Jun 30, 2021 On Loan\n",
      "Free\n",
      "Jun 30, 2021 On Loan\n",
      "Jun 30, 2021 On Loan\n",
      "Dec 31, 2020 On Loan\n",
      "Jun 30, 2021 On Loan\n",
      "Jun 30, 2021 On Loan\n",
      "Jun 30, 2021 On Loan\n",
      "Jan 31, 2021 On Loan\n",
      "Jun 30, 2021 On Loan\n",
      "Jun 30, 2021 On Loan\n",
      "Dec 31, 2021 On Loan\n",
      "Free\n",
      "Jun 30, 2021 On Loan\n",
      "Jun 30, 2021 On Loan\n",
      "Jun 30, 2021 On Loan\n",
      "Jun 30, 2021 On Loan\n",
      "Jan 1, 2021 On Loan\n",
      "Jun 30, 2021 On Loan\n",
      "Jun 30, 2021 On Loan\n",
      "Jun 30, 2021 On Loan\n",
      "May 31, 2021 On Loan\n",
      "Dec 31, 2021 On Loan\n",
      "Free\n",
      "Jun 30, 2021 On Loan\n",
      "May 31, 2021 On Loan\n",
      "Free\n",
      "Jun 23, 2021 On Loan\n",
      "Jun 30, 2021 On Loan\n",
      "Jun 30, 2021 On Loan\n",
      "Jun 23, 2021 On Loan\n",
      "Jun 30, 2021 On Loan\n",
      "Jun 30, 2021 On Loan\n",
      "Jun 30, 2021 On Loan\n",
      "Jun 30, 2021 On Loan\n",
      "Jun 30, 2022 On Loan\n",
      "Jun 30, 2021 On Loan\n",
      "Jun 30, 2021 On Loan\n",
      "Jun 23, 2021 On Loan\n",
      "Jun 30, 2021 On Loan\n",
      "Free\n",
      "Dec 31, 2020 On Loan\n",
      "Jun 30, 2021 On Loan\n",
      "Free\n",
      "Jun 30, 2021 On Loan\n",
      "Dec 31, 2020 On Loan\n",
      "Jun 30, 2021 On Loan\n",
      "Jun 30, 2021 On Loan\n",
      "Jun 30, 2021 On Loan\n",
      "Jun 30, 2021 On Loan\n",
      "Jun 30, 2021 On Loan\n",
      "Free\n",
      "Jun 30, 2021 On Loan\n",
      "Jun 30, 2021 On Loan\n",
      "Jun 30, 2021 On Loan\n",
      "Jun 30, 2021 On Loan\n",
      "Jan 3, 2021 On Loan\n",
      "Jan 31, 2021 On Loan\n",
      "Jun 30, 2021 On Loan\n",
      "Jun 30, 2021 On Loan\n",
      "Jun 30, 2021 On Loan\n",
      "Jun 30, 2021 On Loan\n",
      "Jun 30, 2021 On Loan\n",
      "Free\n",
      "Jun 30, 2021 On Loan\n",
      "Dec 31, 2020 On Loan\n",
      "Jun 30, 2021 On Loan\n",
      "Jun 30, 2021 On Loan\n",
      "Jun 30, 2021 On Loan\n",
      "Jun 30, 2021 On Loan\n",
      "Jun 30, 2021 On Loan\n",
      "Free\n",
      "Jun 30, 2021 On Loan\n",
      "Free\n",
      "Free\n",
      "Jun 30, 2021 On Loan\n",
      "Jun 30, 2021 On Loan\n",
      "Free\n",
      "Free\n",
      "Jun 30, 2021 On Loan\n",
      "Jun 30, 2021 On Loan\n",
      "Jun 30, 2021 On Loan\n",
      "Jul 31, 2021 On Loan\n",
      "Dec 31, 2020 On Loan\n",
      "Nov 27, 2021 On Loan\n",
      "Jun 30, 2021 On Loan\n",
      "Jun 30, 2021 On Loan\n",
      "Jun 30, 2021 On Loan\n",
      "Jun 30, 2021 On Loan\n",
      "Jun 30, 2021 On Loan\n",
      "Jun 30, 2021 On Loan\n",
      "Dec 31, 2021 On Loan\n",
      "Jun 30, 2021 On Loan\n",
      "Jun 30, 2021 On Loan\n",
      "Free\n",
      "Jun 30, 2021 On Loan\n",
      "Jun 30, 2021 On Loan\n",
      "Dec 31, 2020 On Loan\n",
      "Jun 30, 2021 On Loan\n",
      "Nov 22, 2020 On Loan\n",
      "May 31, 2021 On Loan\n",
      "Jun 30, 2021 On Loan\n",
      "May 31, 2022 On Loan\n",
      "Jun 30, 2021 On Loan\n",
      "Dec 31, 2020 On Loan\n",
      "Jun 30, 2021 On Loan\n",
      "Jun 30, 2021 On Loan\n",
      "Jun 30, 2021 On Loan\n",
      "Jun 30, 2021 On Loan\n",
      "Jun 30, 2021 On Loan\n",
      "Jun 30, 2021 On Loan\n",
      "Free\n",
      "Dec 31, 2020 On Loan\n",
      "Free\n",
      "Jun 30, 2021 On Loan\n",
      "Jun 30, 2021 On Loan\n",
      "Nov 27, 2021 On Loan\n",
      "Jun 30, 2021 On Loan\n",
      "Jun 30, 2021 On Loan\n",
      "Nov 22, 2020 On Loan\n",
      "Jun 30, 2021 On Loan\n",
      "Free\n",
      "Nov 22, 2020 On Loan\n",
      "Jun 30, 2021 On Loan\n",
      "Jun 30, 2021 On Loan\n",
      "Free\n",
      "Jun 30, 2021 On Loan\n",
      "Jun 30, 2021 On Loan\n",
      "Jun 30, 2021 On Loan\n",
      "Jan 3, 2021 On Loan\n",
      "Jun 30, 2021 On Loan\n",
      "Jun 30, 2021 On Loan\n",
      "Jun 30, 2021 On Loan\n",
      "Jun 30, 2021 On Loan\n",
      "Jun 30, 2021 On Loan\n",
      "Jun 30, 2021 On Loan\n",
      "Jun 30, 2021 On Loan\n",
      "Jun 30, 2021 On Loan\n",
      "Nov 22, 2020 On Loan\n",
      "Jun 30, 2021 On Loan\n",
      "Jun 30, 2021 On Loan\n",
      "Jun 30, 2021 On Loan\n",
      "Jun 30, 2021 On Loan\n",
      "Jun 30, 2021 On Loan\n",
      "Jun 23, 2021 On Loan\n",
      "Jun 30, 2021 On Loan\n",
      "Jan 31, 2021 On Loan\n",
      "Jun 30, 2021 On Loan\n",
      "Jun 30, 2021 On Loan\n",
      "Dec 31, 2020 On Loan\n",
      "Jun 30, 2021 On Loan\n",
      "Jun 30, 2021 On Loan\n",
      "Dec 31, 2020 On Loan\n",
      "Jun 30, 2021 On Loan\n",
      "Jan 31, 2021 On Loan\n",
      "Free\n",
      "Jun 30, 2021 On Loan\n",
      "Jun 30, 2021 On Loan\n",
      "Dec 31, 2020 On Loan\n",
      "Free\n",
      "Free\n",
      "Jun 30, 2021 On Loan\n",
      "Dec 30, 2020 On Loan\n",
      "Jun 30, 2021 On Loan\n",
      "Dec 31, 2020 On Loan\n",
      "Free\n",
      "Dec 31, 2020 On Loan\n",
      "Dec 31, 2020 On Loan\n",
      "Jun 30, 2021 On Loan\n",
      "Jun 30, 2021 On Loan\n",
      "Dec 31, 2020 On Loan\n",
      "Dec 31, 2021 On Loan\n",
      "Dec 31, 2020 On Loan\n",
      "Jun 30, 2021 On Loan\n",
      "Jun 30, 2021 On Loan\n",
      "Jun 30, 2021 On Loan\n",
      "Jun 30, 2021 On Loan\n",
      "Jun 30, 2021 On Loan\n",
      "Jun 30, 2021 On Loan\n",
      "Jun 30, 2021 On Loan\n",
      "Jun 30, 2021 On Loan\n",
      "Jun 30, 2021 On Loan\n",
      "Jun 30, 2021 On Loan\n",
      "Jun 30, 2021 On Loan\n",
      "Nov 27, 2021 On Loan\n",
      "Jun 30, 2021 On Loan\n",
      "Jun 30, 2021 On Loan\n",
      "Jun 30, 2021 On Loan\n",
      "Jun 30, 2021 On Loan\n",
      "Jun 30, 2021 On Loan\n",
      "Jun 30, 2021 On Loan\n",
      "Free\n",
      "Jun 30, 2021 On Loan\n",
      "Jun 30, 2021 On Loan\n",
      "Jun 30, 2021 On Loan\n",
      "Jun 30, 2021 On Loan\n",
      "Jun 30, 2021 On Loan\n",
      "Jun 30, 2021 On Loan\n",
      "Jun 30, 2021 On Loan\n",
      "Free\n",
      "Free\n",
      "Jun 30, 2021 On Loan\n",
      "Jun 30, 2021 On Loan\n",
      "Jun 30, 2021 On Loan\n",
      "Dec 31, 2020 On Loan\n",
      "Dec 31, 2020 On Loan\n",
      "Jun 30, 2021 On Loan\n",
      "Jan 1, 2021 On Loan\n",
      "Jun 30, 2021 On Loan\n",
      "Jun 30, 2021 On Loan\n",
      "Jun 30, 2021 On Loan\n",
      "Jun 30, 2021 On Loan\n",
      "Jan 31, 2021 On Loan\n",
      "Jun 30, 2021 On Loan\n",
      "Jun 30, 2021 On Loan\n",
      "Jun 30, 2021 On Loan\n",
      "Jun 30, 2021 On Loan\n",
      "Jan 4, 2021 On Loan\n",
      "Jun 30, 2021 On Loan\n",
      "Jun 30, 2022 On Loan\n",
      "Free\n",
      "Jun 30, 2021 On Loan\n",
      "Jun 30, 2021 On Loan\n",
      "Jun 30, 2021 On Loan\n",
      "Jun 30, 2021 On Loan\n",
      "Jun 30, 2021 On Loan\n",
      "Dec 31, 2020 On Loan\n",
      "Jun 30, 2021 On Loan\n",
      "Jun 30, 2021 On Loan\n",
      "Jan 1, 2021 On Loan\n",
      "Jun 30, 2021 On Loan\n",
      "Jun 30, 2021 On Loan\n",
      "Jun 30, 2021 On Loan\n",
      "Jun 30, 2021 On Loan\n",
      "Free\n",
      "Free\n",
      "Free\n",
      "Free\n",
      "Jun 30, 2021 On Loan\n",
      "Jan 1, 2021 On Loan\n",
      "Jun 30, 2021 On Loan\n",
      "Jun 30, 2021 On Loan\n",
      "Nov 30, 2020 On Loan\n",
      "May 31, 2022 On Loan\n",
      "Jun 30, 2021 On Loan\n",
      "Jun 30, 2021 On Loan\n",
      "Jan 1, 2021 On Loan\n",
      "Jun 30, 2021 On Loan\n",
      "Jun 30, 2022 On Loan\n",
      "Jun 30, 2021 On Loan\n",
      "Jun 30, 2021 On Loan\n",
      "Dec 31, 2020 On Loan\n",
      "Dec 31, 2020 On Loan\n",
      "Dec 31, 2020 On Loan\n",
      "Jun 30, 2021 On Loan\n",
      "Dec 31, 2020 On Loan\n",
      "Jun 30, 2021 On Loan\n",
      "Free\n",
      "May 31, 2021 On Loan\n",
      "Jun 30, 2021 On Loan\n",
      "Jun 30, 2021 On Loan\n",
      "Jun 30, 2021 On Loan\n",
      "Dec 31, 2020 On Loan\n",
      "Jun 30, 2021 On Loan\n",
      "Jun 30, 2021 On Loan\n",
      "Jun 30, 2021 On Loan\n",
      "Jun 30, 2021 On Loan\n",
      "Jun 30, 2021 On Loan\n",
      "Jun 30, 2021 On Loan\n",
      "Jun 30, 2022 On Loan\n",
      "Dec 31, 2021 On Loan\n",
      "Jan 31, 2021 On Loan\n",
      "Dec 31, 2020 On Loan\n",
      "Jun 30, 2021 On Loan\n",
      "Jan 31, 2021 On Loan\n",
      "Jun 30, 2021 On Loan\n",
      "Jun 30, 2021 On Loan\n",
      "Jun 30, 2021 On Loan\n",
      "Jan 1, 2021 On Loan\n",
      "Jun 30, 2021 On Loan\n",
      "Jun 30, 2021 On Loan\n",
      "Free\n",
      "Jun 30, 2021 On Loan\n",
      "Jun 30, 2021 On Loan\n",
      "Jun 30, 2021 On Loan\n",
      "Jun 30, 2021 On Loan\n",
      "Jun 30, 2021 On Loan\n",
      "Free\n",
      "Dec 31, 2020 On Loan\n",
      "Jan 31, 2021 On Loan\n",
      "Jun 30, 2021 On Loan\n",
      "Jun 30, 2021 On Loan\n",
      "Jun 30, 2021 On Loan\n",
      "Free\n",
      "Jun 30, 2021 On Loan\n",
      "Jun 30, 2021 On Loan\n",
      "Jun 30, 2021 On Loan\n",
      "Jun 30, 2021 On Loan\n",
      "Jan 1, 2021 On Loan\n",
      "Jun 30, 2021 On Loan\n",
      "Free\n",
      "Jun 30, 2021 On Loan\n",
      "Jun 30, 2021 On Loan\n",
      "Jun 30, 2021 On Loan\n",
      "Jun 30, 2021 On Loan\n",
      "Nov 22, 2020 On Loan\n",
      "Jun 30, 2021 On Loan\n",
      "Dec 31, 2020 On Loan\n",
      "Jan 31, 2021 On Loan\n",
      "Jun 30, 2021 On Loan\n",
      "Jun 30, 2021 On Loan\n",
      "Jun 30, 2021 On Loan\n",
      "Free\n",
      "Jun 30, 2022 On Loan\n",
      "Jun 30, 2021 On Loan\n",
      "Jun 30, 2022 On Loan\n",
      "Jun 30, 2021 On Loan\n",
      "Jun 30, 2021 On Loan\n",
      "Jun 30, 2021 On Loan\n",
      "Jun 30, 2021 On Loan\n",
      "Jun 30, 2021 On Loan\n",
      "Jun 30, 2021 On Loan\n",
      "Free\n",
      "Free\n",
      "Jun 30, 2021 On Loan\n",
      "Jun 30, 2021 On Loan\n",
      "Free\n",
      "Free\n",
      "Jun 30, 2021 On Loan\n",
      "Jun 30, 2021 On Loan\n",
      "Jun 30, 2021 On Loan\n",
      "Free\n",
      "Free\n",
      "Dec 31, 2020 On Loan\n",
      "Jun 30, 2021 On Loan\n",
      "Dec 31, 2020 On Loan\n",
      "Jun 30, 2021 On Loan\n",
      "Jun 30, 2021 On Loan\n",
      "Jun 30, 2021 On Loan\n",
      "Jun 30, 2021 On Loan\n",
      "Jun 30, 2021 On Loan\n",
      "Jun 30, 2021 On Loan\n",
      "Jun 30, 2021 On Loan\n",
      "Jun 30, 2021 On Loan\n",
      "Jun 30, 2021 On Loan\n",
      "Jun 30, 2021 On Loan\n"
     ]
    },
    {
     "name": "stdout",
     "output_type": "stream",
     "text": [
      "Jun 30, 2021 On Loan\n",
      "Jun 30, 2021 On Loan\n",
      "Free\n",
      "Jun 30, 2021 On Loan\n",
      "Jun 30, 2021 On Loan\n",
      "Jun 30, 2021 On Loan\n",
      "Jun 30, 2021 On Loan\n",
      "Jun 30, 2021 On Loan\n",
      "Free\n",
      "Free\n",
      "Jun 23, 2021 On Loan\n",
      "Jun 30, 2021 On Loan\n",
      "Free\n",
      "Jun 30, 2021 On Loan\n",
      "Free\n",
      "Jun 30, 2021 On Loan\n",
      "Jan 31, 2021 On Loan\n",
      "Jun 30, 2021 On Loan\n",
      "Nov 27, 2021 On Loan\n",
      "Free\n",
      "Jun 30, 2021 On Loan\n",
      "Jun 30, 2021 On Loan\n",
      "Jun 30, 2021 On Loan\n",
      "Dec 31, 2020 On Loan\n",
      "Jun 30, 2021 On Loan\n",
      "Jun 30, 2021 On Loan\n",
      "Jun 30, 2021 On Loan\n",
      "Jun 30, 2021 On Loan\n",
      "Jun 30, 2021 On Loan\n",
      "Dec 31, 2020 On Loan\n",
      "Jun 30, 2021 On Loan\n",
      "Jun 30, 2021 On Loan\n",
      "Dec 31, 2020 On Loan\n",
      "Free\n",
      "Dec 31, 2020 On Loan\n",
      "Dec 31, 2020 On Loan\n",
      "Jun 30, 2021 On Loan\n",
      "Jan 1, 2021 On Loan\n",
      "Nov 30, 2020 On Loan\n",
      "Jun 30, 2021 On Loan\n",
      "Jun 30, 2021 On Loan\n",
      "Jun 30, 2021 On Loan\n",
      "Jan 1, 2021 On Loan\n",
      "Jun 30, 2021 On Loan\n",
      "Dec 31, 2020 On Loan\n",
      "Jun 30, 2021 On Loan\n",
      "Jun 30, 2021 On Loan\n",
      "Nov 30, 2020 On Loan\n",
      "Dec 31, 2020 On Loan\n",
      "Jun 30, 2021 On Loan\n",
      "Jun 30, 2021 On Loan\n",
      "Free\n",
      "Free\n",
      "Jun 30, 2021 On Loan\n",
      "Free\n",
      "Free\n",
      "Jun 30, 2021 On Loan\n",
      "Jun 30, 2021 On Loan\n",
      "Jun 30, 2021 On Loan\n",
      "Jun 30, 2021 On Loan\n",
      "Jun 30, 2021 On Loan\n",
      "Jun 30, 2021 On Loan\n",
      "Nov 30, 2020 On Loan\n",
      "Jun 30, 2021 On Loan\n",
      "Aug 1, 2021 On Loan\n",
      "Jun 30, 2021 On Loan\n",
      "Free\n",
      "Jun 30, 2021 On Loan\n",
      "Nov 30, 2020 On Loan\n",
      "Jun 30, 2021 On Loan\n",
      "Jun 30, 2021 On Loan\n",
      "Free\n",
      "Dec 31, 2021 On Loan\n",
      "Jun 30, 2021 On Loan\n",
      "Jun 30, 2021 On Loan\n",
      "Jun 30, 2021 On Loan\n",
      "Jun 30, 2021 On Loan\n",
      "Dec 31, 2020 On Loan\n",
      "Jan 1, 2021 On Loan\n",
      "Jun 30, 2021 On Loan\n",
      "Free\n",
      "Free\n",
      "Jun 30, 2021 On Loan\n",
      "Jun 30, 2021 On Loan\n",
      "Jun 30, 2021 On Loan\n",
      "Nov 30, 2020 On Loan\n",
      "Dec 31, 2020 On Loan\n",
      "Jun 30, 2021 On Loan\n",
      "Jan 4, 2021 On Loan\n",
      "Jun 30, 2021 On Loan\n",
      "Nov 30, 2020 On Loan\n",
      "Jun 30, 2021 On Loan\n",
      "Jun 30, 2021 On Loan\n",
      "Jun 30, 2021 On Loan\n",
      "Dec 31, 2021 On Loan\n",
      "Free\n",
      "Jun 30, 2021 On Loan\n",
      "Dec 31, 2020 On Loan\n",
      "Jun 30, 2021 On Loan\n",
      "Jan 1, 2021 On Loan\n",
      "Dec 31, 2020 On Loan\n",
      "Jun 30, 2021 On Loan\n",
      "Jun 30, 2021 On Loan\n",
      "Aug 31, 2021 On Loan\n",
      "Jun 30, 2021 On Loan\n",
      "Dec 31, 2020 On Loan\n",
      "Dec 31, 2020 On Loan\n",
      "Dec 31, 2020 On Loan\n"
     ]
    }
   ],
   "source": [
    "for index, row in fifa.iterrows():\n",
    "    if \"Free\" in row['Contract'] or \"On Loan\" in row['Contract']:\n",
    "        print(row['Contract'])"
   ]
  },
  {
   "cell_type": "markdown",
   "id": "a79e0b43",
   "metadata": {},
   "source": [
    "#### A. start_date & end_date & duration in years"
   ]
  },
  {
   "cell_type": "code",
   "execution_count": 33,
   "id": "3f436dc6",
   "metadata": {},
   "outputs": [],
   "source": [
    "def extract_contract_info(contract):\n",
    "    if contract == \"Free\" or \"On Loan\" in contract:\n",
    "        start_date = np.nan\n",
    "        end_date = np.nan\n",
    "        contract_length = 0\n",
    "    else:\n",
    "        start_date, end_date =  contract.split(\" ~ \")\n",
    "        start_year = int(start_date[:4])\n",
    "        end_year = int(end_date[:4])\n",
    "        contract_length = end_year - start_year\n",
    "    \n",
    "    return start_date, end_date, contract_length"
   ]
  },
  {
   "cell_type": "code",
   "execution_count": 34,
   "id": "5868ba08",
   "metadata": {},
   "outputs": [],
   "source": [
    "new_cols = ['Contract Start', 'Contract End', \"Contract Length(years)\"]\n",
    "\n",
    "new_data = fifa['Contract'].apply(lambda x : pd.Series(extract_contract_info(x)))\n",
    "\n",
    "for i in range(len(new_cols)):\n",
    "    fifa.insert(loc=fifa.columns.get_loc('Contract') + 1 + i, \n",
    "                column=new_cols[i],\n",
    "                value=new_data[i]\n",
    "               )\n",
    "\n",
    "    "
   ]
  },
  {
   "cell_type": "code",
   "execution_count": 35,
   "id": "438862d6",
   "metadata": {},
   "outputs": [
    {
     "data": {
      "text/html": [
       "<div>\n",
       "<style scoped>\n",
       "    .dataframe tbody tr th:only-of-type {\n",
       "        vertical-align: middle;\n",
       "    }\n",
       "\n",
       "    .dataframe tbody tr th {\n",
       "        vertical-align: top;\n",
       "    }\n",
       "\n",
       "    .dataframe thead th {\n",
       "        text-align: right;\n",
       "    }\n",
       "</style>\n",
       "<table border=\"1\" class=\"dataframe\">\n",
       "  <thead>\n",
       "    <tr style=\"text-align: right;\">\n",
       "      <th></th>\n",
       "      <th>Name</th>\n",
       "      <th>LongName</th>\n",
       "      <th>photoUrl</th>\n",
       "      <th>playerUrl</th>\n",
       "      <th>Nationality</th>\n",
       "      <th>Age</th>\n",
       "      <th>↓OVA</th>\n",
       "      <th>POT</th>\n",
       "      <th>Club</th>\n",
       "      <th>Contract</th>\n",
       "      <th>Contract Start</th>\n",
       "      <th>Contract End</th>\n",
       "      <th>Contract Length(years)</th>\n",
       "      <th>Positions</th>\n",
       "      <th>Height</th>\n",
       "      <th>Weight</th>\n",
       "      <th>Preferred Foot</th>\n",
       "      <th>BOV</th>\n",
       "      <th>Best Position</th>\n",
       "      <th>Joined</th>\n",
       "      <th>Loan Date End</th>\n",
       "      <th>Value</th>\n",
       "      <th>Wage</th>\n",
       "      <th>Release Clause</th>\n",
       "      <th>Attacking</th>\n",
       "      <th>Crossing</th>\n",
       "      <th>Finishing</th>\n",
       "      <th>Heading Accuracy</th>\n",
       "      <th>Short Passing</th>\n",
       "      <th>Volleys</th>\n",
       "      <th>Skill</th>\n",
       "      <th>Dribbling</th>\n",
       "      <th>Curve</th>\n",
       "      <th>FK Accuracy</th>\n",
       "      <th>Long Passing</th>\n",
       "      <th>Ball Control</th>\n",
       "      <th>Movement</th>\n",
       "      <th>Acceleration</th>\n",
       "      <th>Sprint Speed</th>\n",
       "      <th>Agility</th>\n",
       "      <th>Reactions</th>\n",
       "      <th>Balance</th>\n",
       "      <th>Power</th>\n",
       "      <th>Shot Power</th>\n",
       "      <th>Jumping</th>\n",
       "      <th>Stamina</th>\n",
       "      <th>Strength</th>\n",
       "      <th>Long Shots</th>\n",
       "      <th>Mentality</th>\n",
       "      <th>Aggression</th>\n",
       "      <th>Interceptions</th>\n",
       "      <th>Positioning</th>\n",
       "      <th>Vision</th>\n",
       "      <th>Penalties</th>\n",
       "      <th>Composure</th>\n",
       "      <th>Defending</th>\n",
       "      <th>Marking</th>\n",
       "      <th>Standing Tackle</th>\n",
       "      <th>Sliding Tackle</th>\n",
       "      <th>Goalkeeping</th>\n",
       "      <th>GK Diving</th>\n",
       "      <th>GK Handling</th>\n",
       "      <th>GK Kicking</th>\n",
       "      <th>GK Positioning</th>\n",
       "      <th>GK Reflexes</th>\n",
       "      <th>Total Stats</th>\n",
       "      <th>Base Stats</th>\n",
       "      <th>W/F</th>\n",
       "      <th>SM</th>\n",
       "      <th>A/W</th>\n",
       "      <th>D/W</th>\n",
       "      <th>IR</th>\n",
       "      <th>PAC</th>\n",
       "      <th>SHO</th>\n",
       "      <th>PAS</th>\n",
       "      <th>DRI</th>\n",
       "      <th>DEF</th>\n",
       "      <th>PHY</th>\n",
       "      <th>Hits</th>\n",
       "    </tr>\n",
       "    <tr>\n",
       "      <th>ID</th>\n",
       "      <th></th>\n",
       "      <th></th>\n",
       "      <th></th>\n",
       "      <th></th>\n",
       "      <th></th>\n",
       "      <th></th>\n",
       "      <th></th>\n",
       "      <th></th>\n",
       "      <th></th>\n",
       "      <th></th>\n",
       "      <th></th>\n",
       "      <th></th>\n",
       "      <th></th>\n",
       "      <th></th>\n",
       "      <th></th>\n",
       "      <th></th>\n",
       "      <th></th>\n",
       "      <th></th>\n",
       "      <th></th>\n",
       "      <th></th>\n",
       "      <th></th>\n",
       "      <th></th>\n",
       "      <th></th>\n",
       "      <th></th>\n",
       "      <th></th>\n",
       "      <th></th>\n",
       "      <th></th>\n",
       "      <th></th>\n",
       "      <th></th>\n",
       "      <th></th>\n",
       "      <th></th>\n",
       "      <th></th>\n",
       "      <th></th>\n",
       "      <th></th>\n",
       "      <th></th>\n",
       "      <th></th>\n",
       "      <th></th>\n",
       "      <th></th>\n",
       "      <th></th>\n",
       "      <th></th>\n",
       "      <th></th>\n",
       "      <th></th>\n",
       "      <th></th>\n",
       "      <th></th>\n",
       "      <th></th>\n",
       "      <th></th>\n",
       "      <th></th>\n",
       "      <th></th>\n",
       "      <th></th>\n",
       "      <th></th>\n",
       "      <th></th>\n",
       "      <th></th>\n",
       "      <th></th>\n",
       "      <th></th>\n",
       "      <th></th>\n",
       "      <th></th>\n",
       "      <th></th>\n",
       "      <th></th>\n",
       "      <th></th>\n",
       "      <th></th>\n",
       "      <th></th>\n",
       "      <th></th>\n",
       "      <th></th>\n",
       "      <th></th>\n",
       "      <th></th>\n",
       "      <th></th>\n",
       "      <th></th>\n",
       "      <th></th>\n",
       "      <th></th>\n",
       "      <th></th>\n",
       "      <th></th>\n",
       "      <th></th>\n",
       "      <th></th>\n",
       "      <th></th>\n",
       "      <th></th>\n",
       "      <th></th>\n",
       "      <th></th>\n",
       "      <th></th>\n",
       "      <th></th>\n",
       "    </tr>\n",
       "  </thead>\n",
       "  <tbody>\n",
       "    <tr>\n",
       "      <th>206631</th>\n",
       "      <td>K. Rowe</td>\n",
       "      <td>Kelyn Rowe</td>\n",
       "      <td>https://cdn.sofifa.com/players/206/631/21_60.png</td>\n",
       "      <td>http://sofifa.com/player/206631/kelyn-rowe/210...</td>\n",
       "      <td>United States</td>\n",
       "      <td>28</td>\n",
       "      <td>65</td>\n",
       "      <td>65</td>\n",
       "      <td>New England Revolution</td>\n",
       "      <td>2019 ~ 2020</td>\n",
       "      <td>2019</td>\n",
       "      <td>2020</td>\n",
       "      <td>1.0</td>\n",
       "      <td>CM, CAM, LB</td>\n",
       "      <td>173cm</td>\n",
       "      <td>68kg</td>\n",
       "      <td>Right</td>\n",
       "      <td>65</td>\n",
       "      <td>CM</td>\n",
       "      <td>04-Dec-19</td>\n",
       "      <td>NaN</td>\n",
       "      <td>€725K</td>\n",
       "      <td>€2K</td>\n",
       "      <td>€788K</td>\n",
       "      <td>295</td>\n",
       "      <td>67</td>\n",
       "      <td>58</td>\n",
       "      <td>52</td>\n",
       "      <td>68</td>\n",
       "      <td>50</td>\n",
       "      <td>332</td>\n",
       "      <td>67</td>\n",
       "      <td>69</td>\n",
       "      <td>66</td>\n",
       "      <td>65</td>\n",
       "      <td>65</td>\n",
       "      <td>332</td>\n",
       "      <td>60</td>\n",
       "      <td>62</td>\n",
       "      <td>68</td>\n",
       "      <td>65</td>\n",
       "      <td>77</td>\n",
       "      <td>326</td>\n",
       "      <td>72</td>\n",
       "      <td>64</td>\n",
       "      <td>66</td>\n",
       "      <td>60</td>\n",
       "      <td>64</td>\n",
       "      <td>316</td>\n",
       "      <td>62</td>\n",
       "      <td>61</td>\n",
       "      <td>64</td>\n",
       "      <td>65</td>\n",
       "      <td>64</td>\n",
       "      <td>65</td>\n",
       "      <td>170</td>\n",
       "      <td>53</td>\n",
       "      <td>61</td>\n",
       "      <td>56</td>\n",
       "      <td>64</td>\n",
       "      <td>9</td>\n",
       "      <td>16</td>\n",
       "      <td>15</td>\n",
       "      <td>11</td>\n",
       "      <td>13</td>\n",
       "      <td>1835</td>\n",
       "      <td>376</td>\n",
       "      <td>4 ★</td>\n",
       "      <td>3★</td>\n",
       "      <td>High</td>\n",
       "      <td>High</td>\n",
       "      <td>1 ★</td>\n",
       "      <td>61</td>\n",
       "      <td>62</td>\n",
       "      <td>67</td>\n",
       "      <td>67</td>\n",
       "      <td>57</td>\n",
       "      <td>62</td>\n",
       "      <td>7</td>\n",
       "    </tr>\n",
       "    <tr>\n",
       "      <th>231247</th>\n",
       "      <td>B. Cufré</td>\n",
       "      <td>Braian Cufré</td>\n",
       "      <td>https://cdn.sofifa.com/players/231/247/21_60.png</td>\n",
       "      <td>http://sofifa.com/player/231247/braian-cufre/2...</td>\n",
       "      <td>Argentina</td>\n",
       "      <td>23</td>\n",
       "      <td>74</td>\n",
       "      <td>81</td>\n",
       "      <td>RCD Mallorca</td>\n",
       "      <td>2020 ~ 2024</td>\n",
       "      <td>2020</td>\n",
       "      <td>2024</td>\n",
       "      <td>4.0</td>\n",
       "      <td>LB, LWB</td>\n",
       "      <td>179cm</td>\n",
       "      <td>82kg</td>\n",
       "      <td>Left</td>\n",
       "      <td>76</td>\n",
       "      <td>LWB</td>\n",
       "      <td>28-Sep-20</td>\n",
       "      <td>NaN</td>\n",
       "      <td>€8M</td>\n",
       "      <td>€7K</td>\n",
       "      <td>€12.6M</td>\n",
       "      <td>323</td>\n",
       "      <td>76</td>\n",
       "      <td>58</td>\n",
       "      <td>58</td>\n",
       "      <td>72</td>\n",
       "      <td>59</td>\n",
       "      <td>368</td>\n",
       "      <td>75</td>\n",
       "      <td>83</td>\n",
       "      <td>66</td>\n",
       "      <td>70</td>\n",
       "      <td>74</td>\n",
       "      <td>374</td>\n",
       "      <td>80</td>\n",
       "      <td>83</td>\n",
       "      <td>82</td>\n",
       "      <td>67</td>\n",
       "      <td>62</td>\n",
       "      <td>386</td>\n",
       "      <td>82</td>\n",
       "      <td>80</td>\n",
       "      <td>89</td>\n",
       "      <td>70</td>\n",
       "      <td>65</td>\n",
       "      <td>318</td>\n",
       "      <td>70</td>\n",
       "      <td>68</td>\n",
       "      <td>59</td>\n",
       "      <td>66</td>\n",
       "      <td>55</td>\n",
       "      <td>58</td>\n",
       "      <td>209</td>\n",
       "      <td>75</td>\n",
       "      <td>72</td>\n",
       "      <td>62</td>\n",
       "      <td>44</td>\n",
       "      <td>6</td>\n",
       "      <td>7</td>\n",
       "      <td>12</td>\n",
       "      <td>13</td>\n",
       "      <td>6</td>\n",
       "      <td>2022</td>\n",
       "      <td>437</td>\n",
       "      <td>3 ★</td>\n",
       "      <td>3★</td>\n",
       "      <td>Medium</td>\n",
       "      <td>Medium</td>\n",
       "      <td>1 ★</td>\n",
       "      <td>82</td>\n",
       "      <td>64</td>\n",
       "      <td>72</td>\n",
       "      <td>74</td>\n",
       "      <td>70</td>\n",
       "      <td>75</td>\n",
       "      <td>37</td>\n",
       "    </tr>\n",
       "    <tr>\n",
       "      <th>192449</th>\n",
       "      <td>M. Stiepermann</td>\n",
       "      <td>Marco Stiepermann</td>\n",
       "      <td>https://cdn.sofifa.com/players/192/449/21_60.png</td>\n",
       "      <td>http://sofifa.com/player/192449/marco-stieperm...</td>\n",
       "      <td>Germany</td>\n",
       "      <td>29</td>\n",
       "      <td>71</td>\n",
       "      <td>71</td>\n",
       "      <td>Norwich City</td>\n",
       "      <td>2017 ~ 2022</td>\n",
       "      <td>2017</td>\n",
       "      <td>2022</td>\n",
       "      <td>5.0</td>\n",
       "      <td>CAM</td>\n",
       "      <td>190cm</td>\n",
       "      <td>86kg</td>\n",
       "      <td>Left</td>\n",
       "      <td>72</td>\n",
       "      <td>CM</td>\n",
       "      <td>06-Aug-17</td>\n",
       "      <td>NaN</td>\n",
       "      <td>€1.8M</td>\n",
       "      <td>€9K</td>\n",
       "      <td>€4.4M</td>\n",
       "      <td>334</td>\n",
       "      <td>67</td>\n",
       "      <td>67</td>\n",
       "      <td>64</td>\n",
       "      <td>71</td>\n",
       "      <td>65</td>\n",
       "      <td>355</td>\n",
       "      <td>74</td>\n",
       "      <td>73</td>\n",
       "      <td>67</td>\n",
       "      <td>68</td>\n",
       "      <td>73</td>\n",
       "      <td>319</td>\n",
       "      <td>61</td>\n",
       "      <td>68</td>\n",
       "      <td>61</td>\n",
       "      <td>75</td>\n",
       "      <td>54</td>\n",
       "      <td>369</td>\n",
       "      <td>84</td>\n",
       "      <td>52</td>\n",
       "      <td>85</td>\n",
       "      <td>76</td>\n",
       "      <td>72</td>\n",
       "      <td>342</td>\n",
       "      <td>78</td>\n",
       "      <td>62</td>\n",
       "      <td>71</td>\n",
       "      <td>73</td>\n",
       "      <td>58</td>\n",
       "      <td>74</td>\n",
       "      <td>185</td>\n",
       "      <td>61</td>\n",
       "      <td>65</td>\n",
       "      <td>59</td>\n",
       "      <td>44</td>\n",
       "      <td>8</td>\n",
       "      <td>12</td>\n",
       "      <td>9</td>\n",
       "      <td>7</td>\n",
       "      <td>8</td>\n",
       "      <td>1948</td>\n",
       "      <td>417</td>\n",
       "      <td>2 ★</td>\n",
       "      <td>3★</td>\n",
       "      <td>Medium</td>\n",
       "      <td>Low</td>\n",
       "      <td>1 ★</td>\n",
       "      <td>65</td>\n",
       "      <td>71</td>\n",
       "      <td>70</td>\n",
       "      <td>71</td>\n",
       "      <td>63</td>\n",
       "      <td>77</td>\n",
       "      <td>7</td>\n",
       "    </tr>\n",
       "  </tbody>\n",
       "</table>\n",
       "</div>"
      ],
      "text/plain": [
       "                  Name           LongName  \\\n",
       "ID                                          \n",
       "206631         K. Rowe         Kelyn Rowe   \n",
       "231247        B. Cufré       Braian Cufré   \n",
       "192449  M. Stiepermann  Marco Stiepermann   \n",
       "\n",
       "                                                photoUrl  \\\n",
       "ID                                                         \n",
       "206631  https://cdn.sofifa.com/players/206/631/21_60.png   \n",
       "231247  https://cdn.sofifa.com/players/231/247/21_60.png   \n",
       "192449  https://cdn.sofifa.com/players/192/449/21_60.png   \n",
       "\n",
       "                                                playerUrl    Nationality  Age  \\\n",
       "ID                                                                              \n",
       "206631  http://sofifa.com/player/206631/kelyn-rowe/210...  United States   28   \n",
       "231247  http://sofifa.com/player/231247/braian-cufre/2...      Argentina   23   \n",
       "192449  http://sofifa.com/player/192449/marco-stieperm...        Germany   29   \n",
       "\n",
       "        ↓OVA  POT                    Club     Contract Contract Start  \\\n",
       "ID                                                                      \n",
       "206631    65   65  New England Revolution  2019 ~ 2020           2019   \n",
       "231247    74   81            RCD Mallorca  2020 ~ 2024           2020   \n",
       "192449    71   71            Norwich City  2017 ~ 2022           2017   \n",
       "\n",
       "       Contract End  Contract Length(years)    Positions Height Weight  \\\n",
       "ID                                                                       \n",
       "206631         2020                     1.0  CM, CAM, LB  173cm   68kg   \n",
       "231247         2024                     4.0      LB, LWB  179cm   82kg   \n",
       "192449         2022                     5.0          CAM  190cm   86kg   \n",
       "\n",
       "       Preferred Foot  BOV Best Position     Joined Loan Date End  Value Wage  \\\n",
       "ID                                                                              \n",
       "206631          Right   65            CM  04-Dec-19           NaN  €725K  €2K   \n",
       "231247           Left   76           LWB  28-Sep-20           NaN    €8M  €7K   \n",
       "192449           Left   72            CM  06-Aug-17           NaN  €1.8M  €9K   \n",
       "\n",
       "       Release Clause  Attacking  Crossing  Finishing  Heading Accuracy  \\\n",
       "ID                                                                        \n",
       "206631          €788K        295        67         58                52   \n",
       "231247         €12.6M        323        76         58                58   \n",
       "192449          €4.4M        334        67         67                64   \n",
       "\n",
       "        Short Passing  Volleys  Skill  Dribbling  Curve  FK Accuracy  \\\n",
       "ID                                                                     \n",
       "206631             68       50    332         67     69           66   \n",
       "231247             72       59    368         75     83           66   \n",
       "192449             71       65    355         74     73           67   \n",
       "\n",
       "        Long Passing  Ball Control  Movement  Acceleration  Sprint Speed  \\\n",
       "ID                                                                         \n",
       "206631            65            65       332            60            62   \n",
       "231247            70            74       374            80            83   \n",
       "192449            68            73       319            61            68   \n",
       "\n",
       "        Agility  Reactions  Balance  Power  Shot Power  Jumping  Stamina  \\\n",
       "ID                                                                         \n",
       "206631       68         65       77    326          72       64       66   \n",
       "231247       82         67       62    386          82       80       89   \n",
       "192449       61         75       54    369          84       52       85   \n",
       "\n",
       "        Strength  Long Shots  Mentality  Aggression  Interceptions  \\\n",
       "ID                                                                   \n",
       "206631        60          64        316          62             61   \n",
       "231247        70          65        318          70             68   \n",
       "192449        76          72        342          78             62   \n",
       "\n",
       "        Positioning  Vision  Penalties  Composure  Defending  Marking  \\\n",
       "ID                                                                      \n",
       "206631           64      65         64         65        170       53   \n",
       "231247           59      66         55         58        209       75   \n",
       "192449           71      73         58         74        185       61   \n",
       "\n",
       "        Standing Tackle  Sliding Tackle  Goalkeeping  GK Diving  GK Handling  \\\n",
       "ID                                                                             \n",
       "206631               61              56           64          9           16   \n",
       "231247               72              62           44          6            7   \n",
       "192449               65              59           44          8           12   \n",
       "\n",
       "        GK Kicking  GK Positioning  GK Reflexes  Total Stats  Base Stats  W/F  \\\n",
       "ID                                                                              \n",
       "206631          15              11           13         1835         376  4 ★   \n",
       "231247          12              13            6         2022         437  3 ★   \n",
       "192449           9               7            8         1948         417  2 ★   \n",
       "\n",
       "        SM     A/W     D/W   IR  PAC  SHO  PAS  DRI  DEF  PHY Hits  \n",
       "ID                                                                  \n",
       "206631  3★    High    High  1 ★   61   62   67   67   57   62    7  \n",
       "231247  3★  Medium  Medium  1 ★   82   64   72   74   70   75   37  \n",
       "192449  3★  Medium     Low  1 ★   65   71   70   71   63   77    7  "
      ]
     },
     "execution_count": 35,
     "metadata": {},
     "output_type": "execute_result"
    }
   ],
   "source": [
    "pd.set_option('display.max_columns', None)\n",
    "fifa.sample(3)"
   ]
  },
  {
   "cell_type": "code",
   "execution_count": 36,
   "id": "6198458e",
   "metadata": {},
   "outputs": [
    {
     "data": {
      "text/html": [
       "<div>\n",
       "<style scoped>\n",
       "    .dataframe tbody tr th:only-of-type {\n",
       "        vertical-align: middle;\n",
       "    }\n",
       "\n",
       "    .dataframe tbody tr th {\n",
       "        vertical-align: top;\n",
       "    }\n",
       "\n",
       "    .dataframe thead th {\n",
       "        text-align: right;\n",
       "    }\n",
       "</style>\n",
       "<table border=\"1\" class=\"dataframe\">\n",
       "  <thead>\n",
       "    <tr style=\"text-align: right;\">\n",
       "      <th></th>\n",
       "      <th>Contract</th>\n",
       "      <th>Contract Start</th>\n",
       "      <th>Contract End</th>\n",
       "      <th>Contract Length(years)</th>\n",
       "    </tr>\n",
       "    <tr>\n",
       "      <th>ID</th>\n",
       "      <th></th>\n",
       "      <th></th>\n",
       "      <th></th>\n",
       "      <th></th>\n",
       "    </tr>\n",
       "  </thead>\n",
       "  <tbody>\n",
       "    <tr>\n",
       "      <th>243319</th>\n",
       "      <td>2018 ~ 2021</td>\n",
       "      <td>2018</td>\n",
       "      <td>2021</td>\n",
       "      <td>3.0</td>\n",
       "    </tr>\n",
       "    <tr>\n",
       "      <th>246885</th>\n",
       "      <td>2019 ~ 2021</td>\n",
       "      <td>2019</td>\n",
       "      <td>2021</td>\n",
       "      <td>2.0</td>\n",
       "    </tr>\n",
       "    <tr>\n",
       "      <th>242920</th>\n",
       "      <td>2020 ~ 2022</td>\n",
       "      <td>2020</td>\n",
       "      <td>2022</td>\n",
       "      <td>2.0</td>\n",
       "    </tr>\n",
       "  </tbody>\n",
       "</table>\n",
       "</div>"
      ],
      "text/plain": [
       "           Contract Contract Start Contract End  Contract Length(years)\n",
       "ID                                                                     \n",
       "243319  2018 ~ 2021           2018         2021                     3.0\n",
       "246885  2019 ~ 2021           2019         2021                     2.0\n",
       "242920  2020 ~ 2022           2020         2022                     2.0"
      ]
     },
     "execution_count": 36,
     "metadata": {},
     "output_type": "execute_result"
    }
   ],
   "source": [
    "fifa[['Contract',\n",
    "      'Contract Start',\n",
    "      'Contract End',\n",
    "      \"Contract Length(years)\"\n",
    "     ]].sample(3)"
   ]
  },
  {
   "cell_type": "markdown",
   "id": "697d5ce3",
   "metadata": {},
   "source": [
    "#### B. Contract categories"
   ]
  },
  {
   "cell_type": "code",
   "execution_count": 37,
   "id": "ad3bc1ba",
   "metadata": {},
   "outputs": [],
   "source": [
    "def categorize_contract_status(contract):\n",
    "    if contract == \"Free\":\n",
    "        return 'Free'\n",
    "    elif 'On Loan' in contract:\n",
    "        return 'On Loan'\n",
    "    else:\n",
    "        return 'Contract'"
   ]
  },
  {
   "cell_type": "code",
   "execution_count": 38,
   "id": "f997a877",
   "metadata": {},
   "outputs": [
    {
     "data": {
      "text/html": [
       "<div>\n",
       "<style scoped>\n",
       "    .dataframe tbody tr th:only-of-type {\n",
       "        vertical-align: middle;\n",
       "    }\n",
       "\n",
       "    .dataframe tbody tr th {\n",
       "        vertical-align: top;\n",
       "    }\n",
       "\n",
       "    .dataframe thead th {\n",
       "        text-align: right;\n",
       "    }\n",
       "</style>\n",
       "<table border=\"1\" class=\"dataframe\">\n",
       "  <thead>\n",
       "    <tr style=\"text-align: right;\">\n",
       "      <th></th>\n",
       "      <th>Name</th>\n",
       "      <th>LongName</th>\n",
       "      <th>photoUrl</th>\n",
       "      <th>playerUrl</th>\n",
       "      <th>Nationality</th>\n",
       "      <th>Age</th>\n",
       "      <th>↓OVA</th>\n",
       "      <th>POT</th>\n",
       "      <th>Club</th>\n",
       "      <th>Contract</th>\n",
       "      <th>Contract Start</th>\n",
       "      <th>Contract End</th>\n",
       "      <th>Contract Length(years)</th>\n",
       "      <th>Contract Status</th>\n",
       "      <th>Positions</th>\n",
       "      <th>Height</th>\n",
       "      <th>Weight</th>\n",
       "      <th>Preferred Foot</th>\n",
       "      <th>BOV</th>\n",
       "      <th>Best Position</th>\n",
       "      <th>Joined</th>\n",
       "      <th>Loan Date End</th>\n",
       "      <th>Value</th>\n",
       "      <th>Wage</th>\n",
       "      <th>Release Clause</th>\n",
       "      <th>Attacking</th>\n",
       "      <th>Crossing</th>\n",
       "      <th>Finishing</th>\n",
       "      <th>Heading Accuracy</th>\n",
       "      <th>Short Passing</th>\n",
       "      <th>Volleys</th>\n",
       "      <th>Skill</th>\n",
       "      <th>Dribbling</th>\n",
       "      <th>Curve</th>\n",
       "      <th>FK Accuracy</th>\n",
       "      <th>Long Passing</th>\n",
       "      <th>Ball Control</th>\n",
       "      <th>Movement</th>\n",
       "      <th>Acceleration</th>\n",
       "      <th>Sprint Speed</th>\n",
       "      <th>Agility</th>\n",
       "      <th>Reactions</th>\n",
       "      <th>Balance</th>\n",
       "      <th>Power</th>\n",
       "      <th>Shot Power</th>\n",
       "      <th>Jumping</th>\n",
       "      <th>Stamina</th>\n",
       "      <th>Strength</th>\n",
       "      <th>Long Shots</th>\n",
       "      <th>Mentality</th>\n",
       "      <th>Aggression</th>\n",
       "      <th>Interceptions</th>\n",
       "      <th>Positioning</th>\n",
       "      <th>Vision</th>\n",
       "      <th>Penalties</th>\n",
       "      <th>Composure</th>\n",
       "      <th>Defending</th>\n",
       "      <th>Marking</th>\n",
       "      <th>Standing Tackle</th>\n",
       "      <th>Sliding Tackle</th>\n",
       "      <th>Goalkeeping</th>\n",
       "      <th>GK Diving</th>\n",
       "      <th>GK Handling</th>\n",
       "      <th>GK Kicking</th>\n",
       "      <th>GK Positioning</th>\n",
       "      <th>GK Reflexes</th>\n",
       "      <th>Total Stats</th>\n",
       "      <th>Base Stats</th>\n",
       "      <th>W/F</th>\n",
       "      <th>SM</th>\n",
       "      <th>A/W</th>\n",
       "      <th>D/W</th>\n",
       "      <th>IR</th>\n",
       "      <th>PAC</th>\n",
       "      <th>SHO</th>\n",
       "      <th>PAS</th>\n",
       "      <th>DRI</th>\n",
       "      <th>DEF</th>\n",
       "      <th>PHY</th>\n",
       "      <th>Hits</th>\n",
       "    </tr>\n",
       "    <tr>\n",
       "      <th>ID</th>\n",
       "      <th></th>\n",
       "      <th></th>\n",
       "      <th></th>\n",
       "      <th></th>\n",
       "      <th></th>\n",
       "      <th></th>\n",
       "      <th></th>\n",
       "      <th></th>\n",
       "      <th></th>\n",
       "      <th></th>\n",
       "      <th></th>\n",
       "      <th></th>\n",
       "      <th></th>\n",
       "      <th></th>\n",
       "      <th></th>\n",
       "      <th></th>\n",
       "      <th></th>\n",
       "      <th></th>\n",
       "      <th></th>\n",
       "      <th></th>\n",
       "      <th></th>\n",
       "      <th></th>\n",
       "      <th></th>\n",
       "      <th></th>\n",
       "      <th></th>\n",
       "      <th></th>\n",
       "      <th></th>\n",
       "      <th></th>\n",
       "      <th></th>\n",
       "      <th></th>\n",
       "      <th></th>\n",
       "      <th></th>\n",
       "      <th></th>\n",
       "      <th></th>\n",
       "      <th></th>\n",
       "      <th></th>\n",
       "      <th></th>\n",
       "      <th></th>\n",
       "      <th></th>\n",
       "      <th></th>\n",
       "      <th></th>\n",
       "      <th></th>\n",
       "      <th></th>\n",
       "      <th></th>\n",
       "      <th></th>\n",
       "      <th></th>\n",
       "      <th></th>\n",
       "      <th></th>\n",
       "      <th></th>\n",
       "      <th></th>\n",
       "      <th></th>\n",
       "      <th></th>\n",
       "      <th></th>\n",
       "      <th></th>\n",
       "      <th></th>\n",
       "      <th></th>\n",
       "      <th></th>\n",
       "      <th></th>\n",
       "      <th></th>\n",
       "      <th></th>\n",
       "      <th></th>\n",
       "      <th></th>\n",
       "      <th></th>\n",
       "      <th></th>\n",
       "      <th></th>\n",
       "      <th></th>\n",
       "      <th></th>\n",
       "      <th></th>\n",
       "      <th></th>\n",
       "      <th></th>\n",
       "      <th></th>\n",
       "      <th></th>\n",
       "      <th></th>\n",
       "      <th></th>\n",
       "      <th></th>\n",
       "      <th></th>\n",
       "      <th></th>\n",
       "      <th></th>\n",
       "      <th></th>\n",
       "      <th></th>\n",
       "    </tr>\n",
       "  </thead>\n",
       "  <tbody>\n",
       "    <tr>\n",
       "      <th>258797</th>\n",
       "      <td>A. Yoda</td>\n",
       "      <td>Abdoul Yoda</td>\n",
       "      <td>https://cdn.sofifa.com/players/258/797/21_60.png</td>\n",
       "      <td>http://sofifa.com/player/258797/abdoul-yoda/21...</td>\n",
       "      <td>Burkina Faso</td>\n",
       "      <td>19</td>\n",
       "      <td>55</td>\n",
       "      <td>70</td>\n",
       "      <td>TSV Hartberg</td>\n",
       "      <td>2020 ~ 2022</td>\n",
       "      <td>2020</td>\n",
       "      <td>2022</td>\n",
       "      <td>2.0</td>\n",
       "      <td>Contract</td>\n",
       "      <td>CM</td>\n",
       "      <td>182cm</td>\n",
       "      <td>75kg</td>\n",
       "      <td>Right</td>\n",
       "      <td>57</td>\n",
       "      <td>CAM</td>\n",
       "      <td>11-Sep-20</td>\n",
       "      <td>NaN</td>\n",
       "      <td>€300K</td>\n",
       "      <td>€800</td>\n",
       "      <td>€353K</td>\n",
       "      <td>220</td>\n",
       "      <td>41</td>\n",
       "      <td>32</td>\n",
       "      <td>52</td>\n",
       "      <td>58</td>\n",
       "      <td>37</td>\n",
       "      <td>246</td>\n",
       "      <td>60</td>\n",
       "      <td>32</td>\n",
       "      <td>35</td>\n",
       "      <td>57</td>\n",
       "      <td>62</td>\n",
       "      <td>311</td>\n",
       "      <td>66</td>\n",
       "      <td>67</td>\n",
       "      <td>69</td>\n",
       "      <td>39</td>\n",
       "      <td>70</td>\n",
       "      <td>293</td>\n",
       "      <td>52</td>\n",
       "      <td>68</td>\n",
       "      <td>67</td>\n",
       "      <td>61</td>\n",
       "      <td>45</td>\n",
       "      <td>244</td>\n",
       "      <td>61</td>\n",
       "      <td>48</td>\n",
       "      <td>48</td>\n",
       "      <td>55</td>\n",
       "      <td>32</td>\n",
       "      <td>53</td>\n",
       "      <td>137</td>\n",
       "      <td>46</td>\n",
       "      <td>48</td>\n",
       "      <td>43</td>\n",
       "      <td>59</td>\n",
       "      <td>11</td>\n",
       "      <td>10</td>\n",
       "      <td>10</td>\n",
       "      <td>14</td>\n",
       "      <td>14</td>\n",
       "      <td>1510</td>\n",
       "      <td>329</td>\n",
       "      <td>3 ★</td>\n",
       "      <td>2★</td>\n",
       "      <td>Medium</td>\n",
       "      <td>Medium</td>\n",
       "      <td>1 ★</td>\n",
       "      <td>67</td>\n",
       "      <td>40</td>\n",
       "      <td>51</td>\n",
       "      <td>61</td>\n",
       "      <td>47</td>\n",
       "      <td>63</td>\n",
       "      <td>NaN</td>\n",
       "    </tr>\n",
       "    <tr>\n",
       "      <th>177129</th>\n",
       "      <td>A. Bodzek</td>\n",
       "      <td>Adam Bodzek</td>\n",
       "      <td>https://cdn.sofifa.com/players/177/129/21_60.png</td>\n",
       "      <td>http://sofifa.com/player/177129/adam-bodzek/21...</td>\n",
       "      <td>Poland</td>\n",
       "      <td>34</td>\n",
       "      <td>70</td>\n",
       "      <td>70</td>\n",
       "      <td>Fortuna Düsseldorf</td>\n",
       "      <td>2011 ~ 2021</td>\n",
       "      <td>2011</td>\n",
       "      <td>2021</td>\n",
       "      <td>10.0</td>\n",
       "      <td>Contract</td>\n",
       "      <td>CDM, CM</td>\n",
       "      <td>184cm</td>\n",
       "      <td>80kg</td>\n",
       "      <td>Right</td>\n",
       "      <td>70</td>\n",
       "      <td>CDM</td>\n",
       "      <td>01-Jan-11</td>\n",
       "      <td>NaN</td>\n",
       "      <td>€550K</td>\n",
       "      <td>€14K</td>\n",
       "      <td>€1.1M</td>\n",
       "      <td>280</td>\n",
       "      <td>49</td>\n",
       "      <td>48</td>\n",
       "      <td>61</td>\n",
       "      <td>68</td>\n",
       "      <td>54</td>\n",
       "      <td>301</td>\n",
       "      <td>57</td>\n",
       "      <td>61</td>\n",
       "      <td>59</td>\n",
       "      <td>65</td>\n",
       "      <td>59</td>\n",
       "      <td>259</td>\n",
       "      <td>41</td>\n",
       "      <td>34</td>\n",
       "      <td>53</td>\n",
       "      <td>69</td>\n",
       "      <td>62</td>\n",
       "      <td>353</td>\n",
       "      <td>66</td>\n",
       "      <td>83</td>\n",
       "      <td>67</td>\n",
       "      <td>78</td>\n",
       "      <td>59</td>\n",
       "      <td>300</td>\n",
       "      <td>71</td>\n",
       "      <td>71</td>\n",
       "      <td>44</td>\n",
       "      <td>59</td>\n",
       "      <td>55</td>\n",
       "      <td>70</td>\n",
       "      <td>215</td>\n",
       "      <td>71</td>\n",
       "      <td>74</td>\n",
       "      <td>70</td>\n",
       "      <td>59</td>\n",
       "      <td>11</td>\n",
       "      <td>15</td>\n",
       "      <td>15</td>\n",
       "      <td>8</td>\n",
       "      <td>10</td>\n",
       "      <td>1767</td>\n",
       "      <td>355</td>\n",
       "      <td>2 ★</td>\n",
       "      <td>2★</td>\n",
       "      <td>Low</td>\n",
       "      <td>High</td>\n",
       "      <td>1 ★</td>\n",
       "      <td>37</td>\n",
       "      <td>54</td>\n",
       "      <td>61</td>\n",
       "      <td>58</td>\n",
       "      <td>71</td>\n",
       "      <td>74</td>\n",
       "      <td>7</td>\n",
       "    </tr>\n",
       "    <tr>\n",
       "      <th>233743</th>\n",
       "      <td>B. Tabla</td>\n",
       "      <td>Ballou Tabla</td>\n",
       "      <td>https://cdn.sofifa.com/players/233/743/21_60.png</td>\n",
       "      <td>http://sofifa.com/player/233743/ballou-tabla/2...</td>\n",
       "      <td>Canada</td>\n",
       "      <td>21</td>\n",
       "      <td>63</td>\n",
       "      <td>74</td>\n",
       "      <td>Montreal Impact</td>\n",
       "      <td>2020 ~ 2021</td>\n",
       "      <td>2020</td>\n",
       "      <td>2021</td>\n",
       "      <td>1.0</td>\n",
       "      <td>Contract</td>\n",
       "      <td>LM, LW, RM</td>\n",
       "      <td>174cm</td>\n",
       "      <td>69kg</td>\n",
       "      <td>Right</td>\n",
       "      <td>65</td>\n",
       "      <td>CAM</td>\n",
       "      <td>16-Jan-20</td>\n",
       "      <td>NaN</td>\n",
       "      <td>€1.1M</td>\n",
       "      <td>€1K</td>\n",
       "      <td>€1M</td>\n",
       "      <td>273</td>\n",
       "      <td>59</td>\n",
       "      <td>53</td>\n",
       "      <td>43</td>\n",
       "      <td>63</td>\n",
       "      <td>55</td>\n",
       "      <td>316</td>\n",
       "      <td>73</td>\n",
       "      <td>69</td>\n",
       "      <td>54</td>\n",
       "      <td>54</td>\n",
       "      <td>66</td>\n",
       "      <td>381</td>\n",
       "      <td>83</td>\n",
       "      <td>75</td>\n",
       "      <td>91</td>\n",
       "      <td>52</td>\n",
       "      <td>80</td>\n",
       "      <td>245</td>\n",
       "      <td>66</td>\n",
       "      <td>33</td>\n",
       "      <td>39</td>\n",
       "      <td>41</td>\n",
       "      <td>66</td>\n",
       "      <td>251</td>\n",
       "      <td>63</td>\n",
       "      <td>32</td>\n",
       "      <td>55</td>\n",
       "      <td>56</td>\n",
       "      <td>45</td>\n",
       "      <td>60</td>\n",
       "      <td>95</td>\n",
       "      <td>28</td>\n",
       "      <td>43</td>\n",
       "      <td>24</td>\n",
       "      <td>54</td>\n",
       "      <td>11</td>\n",
       "      <td>14</td>\n",
       "      <td>8</td>\n",
       "      <td>10</td>\n",
       "      <td>11</td>\n",
       "      <td>1615</td>\n",
       "      <td>347</td>\n",
       "      <td>4 ★</td>\n",
       "      <td>3★</td>\n",
       "      <td>Medium</td>\n",
       "      <td>Low</td>\n",
       "      <td>1 ★</td>\n",
       "      <td>79</td>\n",
       "      <td>58</td>\n",
       "      <td>59</td>\n",
       "      <td>72</td>\n",
       "      <td>34</td>\n",
       "      <td>45</td>\n",
       "      <td>24</td>\n",
       "    </tr>\n",
       "  </tbody>\n",
       "</table>\n",
       "</div>"
      ],
      "text/plain": [
       "             Name      LongName  \\\n",
       "ID                                \n",
       "258797    A. Yoda   Abdoul Yoda   \n",
       "177129  A. Bodzek   Adam Bodzek   \n",
       "233743   B. Tabla  Ballou Tabla   \n",
       "\n",
       "                                                photoUrl  \\\n",
       "ID                                                         \n",
       "258797  https://cdn.sofifa.com/players/258/797/21_60.png   \n",
       "177129  https://cdn.sofifa.com/players/177/129/21_60.png   \n",
       "233743  https://cdn.sofifa.com/players/233/743/21_60.png   \n",
       "\n",
       "                                                playerUrl   Nationality  Age  \\\n",
       "ID                                                                             \n",
       "258797  http://sofifa.com/player/258797/abdoul-yoda/21...  Burkina Faso   19   \n",
       "177129  http://sofifa.com/player/177129/adam-bodzek/21...        Poland   34   \n",
       "233743  http://sofifa.com/player/233743/ballou-tabla/2...        Canada   21   \n",
       "\n",
       "        ↓OVA  POT                Club     Contract Contract Start  \\\n",
       "ID                                                                  \n",
       "258797    55   70        TSV Hartberg  2020 ~ 2022           2020   \n",
       "177129    70   70  Fortuna Düsseldorf  2011 ~ 2021           2011   \n",
       "233743    63   74     Montreal Impact  2020 ~ 2021           2020   \n",
       "\n",
       "       Contract End  Contract Length(years) Contract Status   Positions  \\\n",
       "ID                                                                        \n",
       "258797         2022                     2.0        Contract          CM   \n",
       "177129         2021                    10.0        Contract     CDM, CM   \n",
       "233743         2021                     1.0        Contract  LM, LW, RM   \n",
       "\n",
       "       Height Weight Preferred Foot  BOV Best Position     Joined  \\\n",
       "ID                                                                  \n",
       "258797  182cm   75kg          Right   57           CAM  11-Sep-20   \n",
       "177129  184cm   80kg          Right   70           CDM  01-Jan-11   \n",
       "233743  174cm   69kg          Right   65           CAM  16-Jan-20   \n",
       "\n",
       "       Loan Date End  Value  Wage Release Clause  Attacking  Crossing  \\\n",
       "ID                                                                      \n",
       "258797           NaN  €300K  €800          €353K        220        41   \n",
       "177129           NaN  €550K  €14K          €1.1M        280        49   \n",
       "233743           NaN  €1.1M   €1K            €1M        273        59   \n",
       "\n",
       "        Finishing  Heading Accuracy  Short Passing  Volleys  Skill  Dribbling  \\\n",
       "ID                                                                              \n",
       "258797         32                52             58       37    246         60   \n",
       "177129         48                61             68       54    301         57   \n",
       "233743         53                43             63       55    316         73   \n",
       "\n",
       "        Curve  FK Accuracy  Long Passing  Ball Control  Movement  \\\n",
       "ID                                                                 \n",
       "258797     32           35            57            62       311   \n",
       "177129     61           59            65            59       259   \n",
       "233743     69           54            54            66       381   \n",
       "\n",
       "        Acceleration  Sprint Speed  Agility  Reactions  Balance  Power  \\\n",
       "ID                                                                       \n",
       "258797            66            67       69         39       70    293   \n",
       "177129            41            34       53         69       62    353   \n",
       "233743            83            75       91         52       80    245   \n",
       "\n",
       "        Shot Power  Jumping  Stamina  Strength  Long Shots  Mentality  \\\n",
       "ID                                                                      \n",
       "258797          52       68       67        61          45        244   \n",
       "177129          66       83       67        78          59        300   \n",
       "233743          66       33       39        41          66        251   \n",
       "\n",
       "        Aggression  Interceptions  Positioning  Vision  Penalties  Composure  \\\n",
       "ID                                                                             \n",
       "258797          61             48           48      55         32         53   \n",
       "177129          71             71           44      59         55         70   \n",
       "233743          63             32           55      56         45         60   \n",
       "\n",
       "        Defending  Marking  Standing Tackle  Sliding Tackle  Goalkeeping  \\\n",
       "ID                                                                         \n",
       "258797        137       46               48              43           59   \n",
       "177129        215       71               74              70           59   \n",
       "233743         95       28               43              24           54   \n",
       "\n",
       "        GK Diving  GK Handling  GK Kicking  GK Positioning  GK Reflexes  \\\n",
       "ID                                                                        \n",
       "258797         11           10          10              14           14   \n",
       "177129         11           15          15               8           10   \n",
       "233743         11           14           8              10           11   \n",
       "\n",
       "        Total Stats  Base Stats  W/F  SM     A/W     D/W   IR  PAC  SHO  PAS  \\\n",
       "ID                                                                             \n",
       "258797         1510         329  3 ★  2★  Medium  Medium  1 ★   67   40   51   \n",
       "177129         1767         355  2 ★  2★     Low    High  1 ★   37   54   61   \n",
       "233743         1615         347  4 ★  3★  Medium     Low  1 ★   79   58   59   \n",
       "\n",
       "        DRI  DEF  PHY Hits  \n",
       "ID                          \n",
       "258797   61   47   63  NaN  \n",
       "177129   58   71   74    7  \n",
       "233743   72   34   45   24  "
      ]
     },
     "execution_count": 38,
     "metadata": {},
     "output_type": "execute_result"
    }
   ],
   "source": [
    "new_data = fifa['Contract'].apply(categorize_contract_status)\n",
    "fifa.insert(fifa.columns.get_loc('Contract Length(years)') + 1,\n",
    "            'Contract Status',\n",
    "            new_data\n",
    "           )\n",
    "\n",
    "fifa.sample(3)"
   ]
  },
  {
   "cell_type": "code",
   "execution_count": 39,
   "id": "4f978fba",
   "metadata": {},
   "outputs": [
    {
     "data": {
      "text/html": [
       "<div>\n",
       "<style scoped>\n",
       "    .dataframe tbody tr th:only-of-type {\n",
       "        vertical-align: middle;\n",
       "    }\n",
       "\n",
       "    .dataframe tbody tr th {\n",
       "        vertical-align: top;\n",
       "    }\n",
       "\n",
       "    .dataframe thead th {\n",
       "        text-align: right;\n",
       "    }\n",
       "</style>\n",
       "<table border=\"1\" class=\"dataframe\">\n",
       "  <thead>\n",
       "    <tr style=\"text-align: right;\">\n",
       "      <th></th>\n",
       "      <th>Contract</th>\n",
       "      <th>Contract Start</th>\n",
       "      <th>Contract End</th>\n",
       "      <th>Contract Length(years)</th>\n",
       "      <th>Contract Status</th>\n",
       "    </tr>\n",
       "    <tr>\n",
       "      <th>ID</th>\n",
       "      <th></th>\n",
       "      <th></th>\n",
       "      <th></th>\n",
       "      <th></th>\n",
       "      <th></th>\n",
       "    </tr>\n",
       "  </thead>\n",
       "  <tbody>\n",
       "    <tr>\n",
       "      <th>213746</th>\n",
       "      <td>2019 ~ 2020</td>\n",
       "      <td>2019</td>\n",
       "      <td>2020</td>\n",
       "      <td>1.0</td>\n",
       "      <td>Contract</td>\n",
       "    </tr>\n",
       "    <tr>\n",
       "      <th>176585</th>\n",
       "      <td>2020 ~ 2020</td>\n",
       "      <td>2020</td>\n",
       "      <td>2020</td>\n",
       "      <td>0.0</td>\n",
       "      <td>Contract</td>\n",
       "    </tr>\n",
       "    <tr>\n",
       "      <th>230273</th>\n",
       "      <td>2019 ~ 2023</td>\n",
       "      <td>2019</td>\n",
       "      <td>2023</td>\n",
       "      <td>4.0</td>\n",
       "      <td>Contract</td>\n",
       "    </tr>\n",
       "  </tbody>\n",
       "</table>\n",
       "</div>"
      ],
      "text/plain": [
       "           Contract Contract Start Contract End  Contract Length(years)  \\\n",
       "ID                                                                        \n",
       "213746  2019 ~ 2020           2019         2020                     1.0   \n",
       "176585  2020 ~ 2020           2020         2020                     0.0   \n",
       "230273  2019 ~ 2023           2019         2023                     4.0   \n",
       "\n",
       "       Contract Status  \n",
       "ID                      \n",
       "213746        Contract  \n",
       "176585        Contract  \n",
       "230273        Contract  "
      ]
     },
     "execution_count": 39,
     "metadata": {},
     "output_type": "execute_result"
    }
   ],
   "source": [
    "fifa[['Contract',\n",
    "      'Contract Start',\n",
    "      'Contract End',\n",
    "      \"Contract Length(years)\",\n",
    "      \"Contract Status\"\n",
    "     ]].sample(3)"
   ]
  },
  {
   "cell_type": "markdown",
   "id": "ee3014ab",
   "metadata": {},
   "source": [
    "# 12. Positions"
   ]
  },
  {
   "cell_type": "markdown",
   "id": "e54c42f8",
   "metadata": {},
   "source": [
    "Player's preferred position on the field"
   ]
  },
  {
   "cell_type": "code",
   "execution_count": 40,
   "id": "a74827c5",
   "metadata": {},
   "outputs": [
    {
     "data": {
      "text/plain": [
       "dtype('O')"
      ]
     },
     "execution_count": 40,
     "metadata": {},
     "output_type": "execute_result"
    }
   ],
   "source": [
    "fifa['Positions'].dtype"
   ]
  },
  {
   "cell_type": "code",
   "execution_count": 41,
   "id": "78f4d6da",
   "metadata": {},
   "outputs": [
    {
     "data": {
      "text/plain": [
       "array(['RW, ST, CF', 'ST, LW', 'GK', 'CAM, CM', 'LW, CAM', 'ST', 'RW',\n",
       "       'ST, LW, RW', 'CB', 'LW', 'CDM', 'CF, ST', 'LW, RW', 'CDM, CM',\n",
       "       'CDM, RB', 'CF, CAM', 'LW, ST', 'CM', 'ST, CF, LW', 'RM, LM, CAM',\n",
       "       'RB', 'RW, CAM, CM', 'LB', 'LM, CF', 'CF', 'RW, LW', 'CAM, RM, RW',\n",
       "       'CM, CDM', 'CAM, CF, ST', 'CM, CDM, CAM', 'CF, LW, CAM',\n",
       "       'CAM, RM, CF', 'LM, ST', 'RM, LM, RW', 'LM', 'CAM, RW', 'CB, CDM',\n",
       "       'RW, RM', 'LW, CF', 'CM, RM, LM', 'LB, LM', 'CAM, CM, RM',\n",
       "       'CAM, CM, CF', 'CAM, CF', 'LM, RM, LW', 'LM, LB, CM', 'CM, LM, LB',\n",
       "       'RM, RW', 'RM, CM', 'CAM, CM, LW', 'CB, LB', 'RM, RB', 'ST, RW',\n",
       "       'LM, RW, LW', 'RB, LB', 'RB, RM', 'RM', 'LM, RM, CF', 'CAM, RM',\n",
       "       'RB, RWB', 'CDM, CB, CM', 'CAM, RM, ST', 'LM, LW, RM', 'CM, CAM',\n",
       "       'ST, RM, CF', 'LM, RM', 'RM, CF', 'LM, LWB', 'RW, RM, CF',\n",
       "       'RB, CM', 'LW, CAM, RW', 'CAM, LW, CM', 'CM, CAM, CDM',\n",
       "       'RW, LW, CAM', 'CM, CAM, LM', 'CM, RM, ST', 'CDM, CM, RB',\n",
       "       'ST, CAM', 'CAM, LW, ST', 'LB, CB, LWB', 'RM, ST', 'CB, CDM, LB',\n",
       "       'RWB, RM', 'CM, LM, RM', 'RB, CDM, CM', 'RW, LW, RM', 'LM, LW',\n",
       "       'CM, LM', 'LM, LB', 'RM, LM, CF', 'LB, LM, RM', 'CDM, CM, CAM',\n",
       "       'ST, LW, RM', 'CAM, CM, ST', 'ST, CF', 'LWB, LB', 'LW, RW, LM',\n",
       "       'RM, RW, ST', 'LWB', 'CF, ST, CAM', 'LM, CAM, RM', 'RB, CB',\n",
       "       'ST, LM', 'RW, CAM', 'LM, CAM', 'RWB, RB', 'ST, RW, LW', 'CAM',\n",
       "       'RB, RM, RW', 'LB, LWB', 'RM, CAM', 'CAM, ST', 'CDM, CB',\n",
       "       'CF, LM, LW', 'CAM, LM, LW', 'LW, RW, CAM', 'CB, RB',\n",
       "       'RB, CB, RWB', 'LM, LW, ST', 'LW, ST, CM', 'RM, CAM, CM',\n",
       "       'CB, RB, RWB', 'RW, ST, LW', 'LW, CAM, CM', 'CM, LM, CDM',\n",
       "       'LB, LM, LWB', 'CB, LB, RB', 'CAM, LW', 'RWB, RB, RM',\n",
       "       'CF, CAM, ST', 'RM, CAM, RW', 'RW, ST', 'LW, LM', 'RB, RM, CM',\n",
       "       'ST, CAM, RW', 'CM, RB, LB', 'CAM, LM, RM', 'RB, RW', 'LM, CM',\n",
       "       'RM, LM, CM', 'CDM, CM, CB', 'CM, CF', 'CF, LW, RW', 'ST, RM',\n",
       "       'CAM, CM, CDM', 'LB, CB', 'RW, RWB', 'ST, LM, RM', 'RM, RWB, RB',\n",
       "       'LM, ST, CAM', 'CAM, ST, CF', 'LW, CM', 'RB, RWB, LB', 'RM, LM',\n",
       "       'CM, CAM, RM', 'ST, LW, CAM', 'RM, RW, CAM', 'CM, CDM, RM',\n",
       "       'RB, RM, RWB', 'CDM, CB, LB', 'CAM, ST, LM', 'LM, CM, RM',\n",
       "       'CF, RW', 'CAM, RM, LW', 'CM, RM, CDM', 'LB, LWB, LM',\n",
       "       'LW, RW, CF', 'LW, LM, CAM', 'LWB, LW, LB', 'CDM, CM, LM',\n",
       "       'CB, CM', 'RWB, RW, RB', 'ST, RW, RM', 'LW, RW, CM', 'LM, RM, CAM',\n",
       "       'LB, RB', 'RWB, RM, RB', 'LM, RB, LB', 'LW, LM, ST', 'ST, RM, LM',\n",
       "       'CAM, CM, LM', 'CF, CM', 'LW, ST, RW', 'ST, CAM, CF', 'LB, CB, LM',\n",
       "       'CM, CDM, LM', 'RM, RWB', 'LB, LM, RB', 'RB, LB, CB',\n",
       "       'CM, CDM, RB', 'LB, CM', 'CF, CAM, LW', 'RM, LWB', 'CF, ST, LM',\n",
       "       'LB, RB, CB', 'LW, CF, ST', 'RM, ST, CAM', 'LW, RW, ST',\n",
       "       'ST, LW, LM', 'CM, LW', 'CDM, CM, LB', 'CM, RM, CAM',\n",
       "       'ST, CF, CAM', 'CM, LM, CAM', 'RWB', 'LM, ST, RM', 'CAM, RM, CM',\n",
       "       'CAM, LM, CM', 'RW, LW, ST', 'CAM, RM, LM', 'CF, ST, LW',\n",
       "       'LWB, LB, LM', 'RM, CM, CAM', 'LB, LM, CAM', 'CAM, CDM',\n",
       "       'RW, RB, RM', 'RM, ST, RW', 'CM, CAM, LW', 'CF, ST, RW',\n",
       "       'LM, RM, RB', 'LM, RM, CM', 'CB, RB, RM', 'RB, CDM', 'RM, ST, LM',\n",
       "       'LB, LWB, CB', 'CDM, LB', 'LM, RM, ST', 'RWB, RB, LWB',\n",
       "       'ST, LM, CAM', 'ST, RM, CAM', 'RB, RWB, RM', 'CF, LM, CAM',\n",
       "       'CAM, CF, RW', 'RB, RM, LB', 'CDM, RWB', 'CM, RW, CAM',\n",
       "       'ST, CF, LM', 'RM, LM, RWB', 'RB, LB, RM', 'LM, LW, LB',\n",
       "       'RM, LM, ST', 'CAM, LM', 'ST, LM, LW', 'LW, RW, RM', 'CF, LW',\n",
       "       'LB, CM, RB', 'RB, CB, CDM', 'CB, RB, LB', 'CAM, RW, RM',\n",
       "       'LWB, LM', 'LW, CF, LM', 'CAM, CF, CM', 'LWB, CB', 'CM, CDM, LW',\n",
       "       'LM, CM, LB', 'CM, RM', 'RW, LW, CF', 'CM, CDM, CB', 'LM, RM, RW',\n",
       "       'RM, RW, LM', 'RM, CAM, LM', 'LWB, RM, LB', 'RM, LB, RB',\n",
       "       'CM, CF, RM', 'RM, RB, LB', 'ST, LM, RW', 'CAM, ST, LW',\n",
       "       'CF, LW, ST', 'LM, LW, CAM', 'RM, RW, CF', 'LW, LM, CF',\n",
       "       'CM, RW, LW', 'LM, CM, CAM', 'CAM, RW, ST', 'CM, CAM, CF',\n",
       "       'RW, LWB, LW', 'CB, RB, CDM', 'RW, RM, LW', 'LW, ST, LM',\n",
       "       'RWB, RW', 'ST, CAM, LM', 'CM, CB', 'RM, RW, CM', 'LWB, CM',\n",
       "       'RM, LM, LB', 'RM, CAM, ST', 'CDM, RM, RB', 'LM, LB, RB',\n",
       "       'LB, RB, RWB', 'RM, RWB, CAM', 'CAM, LM, CF', 'LM, CAM, CM',\n",
       "       'CF, CAM, RW', 'CDM, CM, RM', 'CF, CAM, CM', 'ST, RM, LW',\n",
       "       'CB, CDM, CM', 'RB, RW, LB', 'ST, RW, CAM', 'CM, LB', 'LW, RM, RW',\n",
       "       'CM, RM, RW', 'RM, CF, LM', 'CF, LM, RM', 'CAM, ST, RM', 'RW, CF',\n",
       "       'CM, CAM, ST', 'CAM, CDM, CM', 'RM, RW, LW', 'CAM, LM, LB',\n",
       "       'CAM, RW, LW', 'CDM, CAM', 'LWB, LM, LB', 'RW, LB', 'LW, CAM, CF',\n",
       "       'RB, RWB, CB', 'LM, CF, RM', 'RB, LB, RWB', 'RM, LW',\n",
       "       'CAM, LM, ST', 'LW, LM, LB', 'LB, RB, RM', 'CM, LWB',\n",
       "       'CDM, RB, RM', 'RM, CM, RB', 'ST, RM, RW', 'LM, RM, LWB',\n",
       "       'RW, LW, LM', 'LW, CF, RW', 'CM, CDM, LB', 'ST, LM, RB', 'LB, CDM',\n",
       "       'CM, CB, CDM', 'CB, LB, CDM', 'RW, ST, RM', 'RM, ST, CF',\n",
       "       'CAM, LW, LM', 'LM, ST, LW', 'CAM, RM, RB', 'RB, CM, RM',\n",
       "       'CM, LW, LM', 'ST, CAM, RM', 'RW, ST, CAM', 'CM, LB, LM',\n",
       "       'RB, CDM, RM', 'LM, RWB, RM', 'LM, CAM, LB', 'CAM, LW, RW',\n",
       "       'CM, RM, RWB', 'RW, CAM, LW', 'RB, CB, LB', 'LB, LM, LW', 'RW, RB',\n",
       "       'LM, LWB, CM', 'RM, CAM, RB', 'RM, CM, ST', 'RB, RM, LM',\n",
       "       'LM, LB, LW', 'LM, ST, CF', 'RW, LWB, RM', 'LM, CAM, LW',\n",
       "       'CB, RWB', 'RM, LW, CAM', 'LB, LW', 'CDM, CM, ST', 'LB, CM, CDM',\n",
       "       'CF, CAM, LM', 'RW, CAM, RM', 'RW, LM, LW', 'RW, CM, CAM',\n",
       "       'LM, LW, RW', 'RM, LW, RW', 'LW, LWB, RWB', 'RM, LM, RB',\n",
       "       'CB, CDM, RB', 'CAM, RW, CM', 'ST, CAM, CM', 'LWB, LM, CM',\n",
       "       'RW, LW, RWB', 'CB, LB, LWB', 'CM, LM, ST', 'CM, LWB, LM',\n",
       "       'LB, LW, LM', 'RB, CM, CAM', 'RM, CAM, CF', 'CM, RW',\n",
       "       'RW, RM, CAM', 'CB, LWB', 'CAM, RB', 'LM, CM, CDM', 'RM, LB, LM',\n",
       "       'CB, RB, CM', 'RB, CM, RWB', 'LB, RB, LM', 'CAM, ST, RW',\n",
       "       'LB, LW, RW', 'CDM, CAM, CM', 'CAM, ST, CM', 'LM, CAM, ST',\n",
       "       'LM, ST, CM', 'CAM, CF, RM', 'CF, ST, RM', 'LM, ST, LB',\n",
       "       'ST, CAM, LW', 'LWB, CM, LB', 'RWB, RM, LWB', 'LWB, LM, RB',\n",
       "       'CM, LW, ST', 'LB, LM, CB', 'CM, RM, RB', 'RWB, CB', 'RM, RB, RWB',\n",
       "       'LB, CM, LM', 'ST, LW, CF', 'RM, RWB, ST', 'CF, ST, CM',\n",
       "       'LM, LB, LWB', 'LM, RW', 'LM, LWB, LB', 'LB, LWB, RB',\n",
       "       'RM, RB, LM', 'RM, CM, LM', 'LW, ST, CAM', 'RB, RM, CB',\n",
       "       'LWB, RWB, LB', 'CF, RM, RW', 'RM, CF, CAM', 'LM, LW, CF',\n",
       "       'RB, LM, LB', 'CAM, CM, RW', 'LB, CM, LW', 'CM, CF, CAM',\n",
       "       'RW, RM, ST', 'CDM, RB, CM', 'CM, RB', 'RB, RWB, RW', 'LM, RW, RM',\n",
       "       'CM, RB, CDM', 'LM, RM, LB', 'CDM, RB, CB', 'RB, CB, RM',\n",
       "       'RWB, LW, LM', 'ST, CF, RW', 'RM, CM, CDM', 'LM, CF, ST',\n",
       "       'LW, CAM, LM', 'CDM, LM, CM', 'ST, CM, CAM', 'LM, RM, RWB',\n",
       "       'CM, CAM, RW', 'CAM, LM, RW', 'LW, LM, RM', 'CAM, RW, CF',\n",
       "       'LM, ST, RW', 'CB, LWB, LB', 'RW, CF, LW', 'CB, CM, CDM',\n",
       "       'CB, CAM', 'LW, LB', 'CDM, RB, LB', 'ST, CM, RB', 'RWB, LWB, RB',\n",
       "       'CM, CB, RB', 'LB, LW, RB', 'CF, RM, RWB', 'LB, RM', 'RM, RW, RB',\n",
       "       'LB, RM, RB', 'CDM, RM, CM', 'CDM, LB, CM', 'LM, CDM, CM',\n",
       "       'RW, LM, CAM', 'LM, LB, RM', 'RM, CF, ST', 'RW, CM', 'RM, RWB, LM',\n",
       "       'CF, CM, ST', 'RW, RM, LM', 'LM, CM, RW', 'RWB, CM', 'RB, RM, CDM',\n",
       "       'CM, CB, CAM', 'CF, CM, LM', 'RWB, LWB, RM', 'CF, RM',\n",
       "       'CM, CF, ST', 'RWB, RB, CB', 'LWB, RWB', 'RM, LM, LW',\n",
       "       'LW, RM, CM', 'LW, CAM, ST', 'ST, RM, RWB', 'ST, CM',\n",
       "       'CDM, CM, RWB', 'LB, CB, RB', 'CB, ST, CAM', 'CF, RM, CM',\n",
       "       'CDM, CB, RB', 'CM, LM, RB', 'RB, CB, LWB', 'LM, LB, CDM',\n",
       "       'LW, LWB', 'RW, CF, CAM', 'RM, RB, CAM', 'LB, RB, CM',\n",
       "       'RM, CDM, LM', 'LWB, LB, CB', 'LB, RB, CDM', 'RB, CM, LB',\n",
       "       'CDM, RM', 'LM, RB, CB', 'RW, RWB, RM', 'RM, LW, ST',\n",
       "       'LB, RB, LWB', 'RM, LM, CDM', 'RB, RM, CAM', 'RM, ST, LW',\n",
       "       'CF, LM', 'RB, LB, CDM', 'RW, LW, RB', 'RB, RWB, CDM',\n",
       "       'CM, CAM, LB', 'LW, RW, LWB', 'CB, LWB, RWB', 'LB, CB, CDM',\n",
       "       'ST, RB, RM', 'CM, RB, RM', 'RW, LM', 'RM, CF, RB', 'CB, RM, RB',\n",
       "       'RWB, LWB', 'CM, ST, CDM', 'LWB, LW', 'CB, RB, ST', 'LB, LWB, CDM',\n",
       "       'CB, RWB, RM', 'CB, ST', 'CM, ST', 'LM, LWB, CB', 'ST, LW, LWB',\n",
       "       'LM, CDM, RM', 'LWB, LB, RW', 'RB, CM, CB', 'LM, RW, ST',\n",
       "       'CM, RM, LW', 'ST, RW, LM', 'RWB, CM, RM', 'CAM, RWB, CM',\n",
       "       'CM, RB, LM', 'RM, RB, RW', 'LW, LM, CM', 'RM, LM, LWB',\n",
       "       'ST, LM, CF', 'LW, RM, CAM', 'RB, RWB, LWB', 'LB, CM, ST',\n",
       "       'ST, LWB', 'RB, ST, LM', 'CDM, CAM, LM', 'LM, ST, LWB',\n",
       "       'LB, RB, RW', 'RM, CDM', 'RB, LB, LWB', 'RW, CAM, LM',\n",
       "       'LB, CDM, LM', 'RW, RB, LM', 'CB, LM', 'RW, LM, RM', 'RM, LB, CM',\n",
       "       'LW, CAM, RM', 'RW, RB, LB', 'LW, LB, LM', 'CDM, RB, RWB',\n",
       "       'CB, RW', 'CM, LM, LW', 'LM, RM, CB', 'LM, LWB, ST', 'ST, CB, CDM',\n",
       "       'LB, CDM, CB', 'CDM, CB, RM', 'RB, RWB, CM', 'ST, RW, CF',\n",
       "       'ST, CB', 'ST, LW, CM', 'LM, LB, ST', 'ST, CB, RB', 'RB, LM',\n",
       "       'GK, RB', 'LM, LW, CM', 'LM, CM, LW', 'CB, CAM, CM', 'LM, RB',\n",
       "       'RWB, CAM', 'RB, CAM', 'CB, CDM, RM', 'ST, RB', 'ST, RWB',\n",
       "       'CAM, CDM, LM', 'CB, RWB, RB', 'LM, LWB, RM', 'LB, LM, CM',\n",
       "       'CM, CF, LM', 'CM, RWB', 'CDM, LM', 'ST, CF, RM', 'CAM, LB',\n",
       "       'RB, RM, ST', 'LM, CDM', 'CDM, RW, RB', 'LM, CF, CAM',\n",
       "       'LWB, LM, RWB', 'CF, RM, ST', 'CAM, CF, LM', 'RB, ST, CB',\n",
       "       'RW, RB, LW', 'LB, LM, CDM', 'RB, CB, ST', 'RWB, CB, RB',\n",
       "       'CDM, ST', 'LW, RM, LM', 'RB, LWB', 'CDM, LB, CB', 'LM, LB, CF',\n",
       "       'RB, CDM, LB', 'LB, LWB, CM', 'RM, LM, CB', 'CAM, LW, CF',\n",
       "       'LB, LW, CM', 'RB, CM, CDM', 'LWB, LM, ST', 'CM, RW, RM', 'CB, RM',\n",
       "       'CM, LM, CB', 'LM, LB, CB', 'ST, RW, CM', 'RM, ST, CM',\n",
       "       'RWB, RM, LM', 'CM, CAM, RB', 'CM, RWB, CDM', 'LB, LWB, LW'],\n",
       "      dtype=object)"
      ]
     },
     "execution_count": 41,
     "metadata": {},
     "output_type": "execute_result"
    }
   ],
   "source": [
    "fifa['Positions'].unique()"
   ]
  },
  {
   "cell_type": "markdown",
   "id": "57daa01a",
   "metadata": {},
   "source": [
    "# 13. Height"
   ]
  },
  {
   "cell_type": "markdown",
   "id": "1807bc74",
   "metadata": {},
   "source": [
    "Player's height in cm"
   ]
  },
  {
   "cell_type": "code",
   "execution_count": 42,
   "id": "b7495043",
   "metadata": {},
   "outputs": [
    {
     "data": {
      "text/plain": [
       "dtype('O')"
      ]
     },
     "execution_count": 42,
     "metadata": {},
     "output_type": "execute_result"
    }
   ],
   "source": [
    "fifa['Height'].dtype"
   ]
  },
  {
   "cell_type": "code",
   "execution_count": 43,
   "id": "380d8c1c",
   "metadata": {},
   "outputs": [
    {
     "data": {
      "text/plain": [
       "array(['170cm', '187cm', '188cm', '181cm', '175cm', '184cm', '191cm',\n",
       "       '178cm', '193cm', '185cm', '199cm', '173cm', '168cm', '176cm',\n",
       "       '177cm', '183cm', '180cm', '189cm', '179cm', '195cm', '172cm',\n",
       "       '182cm', '186cm', '192cm', '165cm', '194cm', '167cm', '196cm',\n",
       "       '163cm', '190cm', '174cm', '169cm', '171cm', '197cm', '200cm',\n",
       "       '166cm', '6\\'2\"', '164cm', '198cm', '6\\'3\"', '6\\'5\"', '5\\'11\"',\n",
       "       '6\\'4\"', '6\\'1\"', '6\\'0\"', '5\\'10\"', '5\\'9\"', '5\\'6\"', '5\\'7\"',\n",
       "       '5\\'4\"', '201cm', '158cm', '162cm', '161cm', '160cm', '203cm',\n",
       "       '157cm', '156cm', '202cm', '159cm', '206cm', '155cm'], dtype=object)"
      ]
     },
     "execution_count": 43,
     "metadata": {},
     "output_type": "execute_result"
    }
   ],
   "source": [
    "fifa['Height'].unique()"
   ]
  },
  {
   "cell_type": "code",
   "execution_count": 44,
   "id": "5626256d",
   "metadata": {},
   "outputs": [],
   "source": [
    "def convert_height(height: str) -> int:\n",
    "    if \"cm\" in height:\n",
    "        return int(height.strip(\"cm\"))\n",
    "    else:\n",
    "        feet, inches = height.split(\"\\'\")\n",
    "        total_inches = int(feet) * 12 + int(inches.strip(\"\\\"\"))\n",
    "        return round(total_inches * 2.54)"
   ]
  },
  {
   "cell_type": "code",
   "execution_count": 45,
   "id": "d95f86de",
   "metadata": {},
   "outputs": [
    {
     "data": {
      "text/plain": [
       "ID\n",
       "222717    167\n",
       "226724    176\n",
       "238014    179\n",
       "Name: Height, dtype: int64"
      ]
     },
     "execution_count": 45,
     "metadata": {},
     "output_type": "execute_result"
    }
   ],
   "source": [
    "fifa['Height'] = fifa['Height'].apply(convert_height)\n",
    "\n",
    "fifa['Height'].sample(3)"
   ]
  },
  {
   "cell_type": "code",
   "execution_count": 46,
   "id": "15ff7fcb",
   "metadata": {},
   "outputs": [
    {
     "data": {
      "text/plain": [
       "array([170, 187, 188, 181, 175, 184, 191, 178, 193, 185, 199, 173, 168,\n",
       "       176, 177, 183, 180, 189, 179, 195, 172, 182, 186, 192, 165, 194,\n",
       "       167, 196, 163, 190, 174, 169, 171, 197, 200, 166, 164, 198, 201,\n",
       "       158, 162, 161, 160, 203, 157, 156, 202, 159, 206, 155])"
      ]
     },
     "execution_count": 46,
     "metadata": {},
     "output_type": "execute_result"
    }
   ],
   "source": [
    "fifa['Height'].unique()"
   ]
  },
  {
   "cell_type": "code",
   "execution_count": 47,
   "id": "3fbf9f9c",
   "metadata": {},
   "outputs": [
    {
     "data": {
      "text/html": [
       "<div>\n",
       "<style scoped>\n",
       "    .dataframe tbody tr th:only-of-type {\n",
       "        vertical-align: middle;\n",
       "    }\n",
       "\n",
       "    .dataframe tbody tr th {\n",
       "        vertical-align: top;\n",
       "    }\n",
       "\n",
       "    .dataframe thead th {\n",
       "        text-align: right;\n",
       "    }\n",
       "</style>\n",
       "<table border=\"1\" class=\"dataframe\">\n",
       "  <thead>\n",
       "    <tr style=\"text-align: right;\">\n",
       "      <th></th>\n",
       "      <th>Name</th>\n",
       "      <th>LongName</th>\n",
       "      <th>photoUrl</th>\n",
       "      <th>playerUrl</th>\n",
       "      <th>Nationality</th>\n",
       "      <th>Age</th>\n",
       "      <th>↓OVA</th>\n",
       "      <th>POT</th>\n",
       "      <th>Club</th>\n",
       "      <th>Contract</th>\n",
       "      <th>Contract Start</th>\n",
       "      <th>Contract End</th>\n",
       "      <th>Contract Length(years)</th>\n",
       "      <th>Contract Status</th>\n",
       "      <th>Positions</th>\n",
       "      <th>Height(cm)</th>\n",
       "      <th>Weight</th>\n",
       "      <th>Preferred Foot</th>\n",
       "      <th>BOV</th>\n",
       "      <th>Best Position</th>\n",
       "      <th>Joined</th>\n",
       "      <th>Loan Date End</th>\n",
       "      <th>Value</th>\n",
       "      <th>Wage</th>\n",
       "      <th>Release Clause</th>\n",
       "      <th>Attacking</th>\n",
       "      <th>Crossing</th>\n",
       "      <th>Finishing</th>\n",
       "      <th>Heading Accuracy</th>\n",
       "      <th>Short Passing</th>\n",
       "      <th>Volleys</th>\n",
       "      <th>Skill</th>\n",
       "      <th>Dribbling</th>\n",
       "      <th>Curve</th>\n",
       "      <th>FK Accuracy</th>\n",
       "      <th>Long Passing</th>\n",
       "      <th>Ball Control</th>\n",
       "      <th>Movement</th>\n",
       "      <th>Acceleration</th>\n",
       "      <th>Sprint Speed</th>\n",
       "      <th>Agility</th>\n",
       "      <th>Reactions</th>\n",
       "      <th>Balance</th>\n",
       "      <th>Power</th>\n",
       "      <th>Shot Power</th>\n",
       "      <th>Jumping</th>\n",
       "      <th>Stamina</th>\n",
       "      <th>Strength</th>\n",
       "      <th>Long Shots</th>\n",
       "      <th>Mentality</th>\n",
       "      <th>Aggression</th>\n",
       "      <th>Interceptions</th>\n",
       "      <th>Positioning</th>\n",
       "      <th>Vision</th>\n",
       "      <th>Penalties</th>\n",
       "      <th>Composure</th>\n",
       "      <th>Defending</th>\n",
       "      <th>Marking</th>\n",
       "      <th>Standing Tackle</th>\n",
       "      <th>Sliding Tackle</th>\n",
       "      <th>Goalkeeping</th>\n",
       "      <th>GK Diving</th>\n",
       "      <th>GK Handling</th>\n",
       "      <th>GK Kicking</th>\n",
       "      <th>GK Positioning</th>\n",
       "      <th>GK Reflexes</th>\n",
       "      <th>Total Stats</th>\n",
       "      <th>Base Stats</th>\n",
       "      <th>W/F</th>\n",
       "      <th>SM</th>\n",
       "      <th>A/W</th>\n",
       "      <th>D/W</th>\n",
       "      <th>IR</th>\n",
       "      <th>PAC</th>\n",
       "      <th>SHO</th>\n",
       "      <th>PAS</th>\n",
       "      <th>DRI</th>\n",
       "      <th>DEF</th>\n",
       "      <th>PHY</th>\n",
       "      <th>Hits</th>\n",
       "    </tr>\n",
       "    <tr>\n",
       "      <th>ID</th>\n",
       "      <th></th>\n",
       "      <th></th>\n",
       "      <th></th>\n",
       "      <th></th>\n",
       "      <th></th>\n",
       "      <th></th>\n",
       "      <th></th>\n",
       "      <th></th>\n",
       "      <th></th>\n",
       "      <th></th>\n",
       "      <th></th>\n",
       "      <th></th>\n",
       "      <th></th>\n",
       "      <th></th>\n",
       "      <th></th>\n",
       "      <th></th>\n",
       "      <th></th>\n",
       "      <th></th>\n",
       "      <th></th>\n",
       "      <th></th>\n",
       "      <th></th>\n",
       "      <th></th>\n",
       "      <th></th>\n",
       "      <th></th>\n",
       "      <th></th>\n",
       "      <th></th>\n",
       "      <th></th>\n",
       "      <th></th>\n",
       "      <th></th>\n",
       "      <th></th>\n",
       "      <th></th>\n",
       "      <th></th>\n",
       "      <th></th>\n",
       "      <th></th>\n",
       "      <th></th>\n",
       "      <th></th>\n",
       "      <th></th>\n",
       "      <th></th>\n",
       "      <th></th>\n",
       "      <th></th>\n",
       "      <th></th>\n",
       "      <th></th>\n",
       "      <th></th>\n",
       "      <th></th>\n",
       "      <th></th>\n",
       "      <th></th>\n",
       "      <th></th>\n",
       "      <th></th>\n",
       "      <th></th>\n",
       "      <th></th>\n",
       "      <th></th>\n",
       "      <th></th>\n",
       "      <th></th>\n",
       "      <th></th>\n",
       "      <th></th>\n",
       "      <th></th>\n",
       "      <th></th>\n",
       "      <th></th>\n",
       "      <th></th>\n",
       "      <th></th>\n",
       "      <th></th>\n",
       "      <th></th>\n",
       "      <th></th>\n",
       "      <th></th>\n",
       "      <th></th>\n",
       "      <th></th>\n",
       "      <th></th>\n",
       "      <th></th>\n",
       "      <th></th>\n",
       "      <th></th>\n",
       "      <th></th>\n",
       "      <th></th>\n",
       "      <th></th>\n",
       "      <th></th>\n",
       "      <th></th>\n",
       "      <th></th>\n",
       "      <th></th>\n",
       "      <th></th>\n",
       "      <th></th>\n",
       "      <th></th>\n",
       "    </tr>\n",
       "  </thead>\n",
       "  <tbody>\n",
       "    <tr>\n",
       "      <th>229701</th>\n",
       "      <td>P. Ochs</td>\n",
       "      <td>Philipp Ochs</td>\n",
       "      <td>https://cdn.sofifa.com/players/229/701/21_60.png</td>\n",
       "      <td>http://sofifa.com/player/229701/philipp-ochs/2...</td>\n",
       "      <td>Germany</td>\n",
       "      <td>23</td>\n",
       "      <td>64</td>\n",
       "      <td>71</td>\n",
       "      <td>Hannover 96</td>\n",
       "      <td>2020 ~ 2022</td>\n",
       "      <td>2020</td>\n",
       "      <td>2022</td>\n",
       "      <td>2.0</td>\n",
       "      <td>Contract</td>\n",
       "      <td>LB, CM, ST</td>\n",
       "      <td>175</td>\n",
       "      <td>75kg</td>\n",
       "      <td>Left</td>\n",
       "      <td>68</td>\n",
       "      <td>LM</td>\n",
       "      <td>31-Jan-20</td>\n",
       "      <td>NaN</td>\n",
       "      <td>€1.1M</td>\n",
       "      <td>€5K</td>\n",
       "      <td>€1M</td>\n",
       "      <td>305</td>\n",
       "      <td>68</td>\n",
       "      <td>62</td>\n",
       "      <td>54</td>\n",
       "      <td>68</td>\n",
       "      <td>53</td>\n",
       "      <td>322</td>\n",
       "      <td>69</td>\n",
       "      <td>60</td>\n",
       "      <td>64</td>\n",
       "      <td>60</td>\n",
       "      <td>69</td>\n",
       "      <td>359</td>\n",
       "      <td>73</td>\n",
       "      <td>68</td>\n",
       "      <td>76</td>\n",
       "      <td>59</td>\n",
       "      <td>83</td>\n",
       "      <td>324</td>\n",
       "      <td>75</td>\n",
       "      <td>69</td>\n",
       "      <td>66</td>\n",
       "      <td>58</td>\n",
       "      <td>56</td>\n",
       "      <td>293</td>\n",
       "      <td>57</td>\n",
       "      <td>56</td>\n",
       "      <td>59</td>\n",
       "      <td>56</td>\n",
       "      <td>65</td>\n",
       "      <td>58</td>\n",
       "      <td>170</td>\n",
       "      <td>57</td>\n",
       "      <td>57</td>\n",
       "      <td>56</td>\n",
       "      <td>49</td>\n",
       "      <td>9</td>\n",
       "      <td>10</td>\n",
       "      <td>6</td>\n",
       "      <td>11</td>\n",
       "      <td>13</td>\n",
       "      <td>1822</td>\n",
       "      <td>383</td>\n",
       "      <td>3 ★</td>\n",
       "      <td>3★</td>\n",
       "      <td>High</td>\n",
       "      <td>Medium</td>\n",
       "      <td>1 ★</td>\n",
       "      <td>70</td>\n",
       "      <td>63</td>\n",
       "      <td>64</td>\n",
       "      <td>70</td>\n",
       "      <td>56</td>\n",
       "      <td>60</td>\n",
       "      <td>25</td>\n",
       "    </tr>\n",
       "  </tbody>\n",
       "</table>\n",
       "</div>"
      ],
      "text/plain": [
       "           Name      LongName  \\\n",
       "ID                              \n",
       "229701  P. Ochs  Philipp Ochs   \n",
       "\n",
       "                                                photoUrl  \\\n",
       "ID                                                         \n",
       "229701  https://cdn.sofifa.com/players/229/701/21_60.png   \n",
       "\n",
       "                                                playerUrl Nationality  Age  \\\n",
       "ID                                                                           \n",
       "229701  http://sofifa.com/player/229701/philipp-ochs/2...     Germany   23   \n",
       "\n",
       "        ↓OVA  POT         Club     Contract Contract Start Contract End  \\\n",
       "ID                                                                        \n",
       "229701    64   71  Hannover 96  2020 ~ 2022           2020         2022   \n",
       "\n",
       "        Contract Length(years) Contract Status   Positions  Height(cm) Weight  \\\n",
       "ID                                                                              \n",
       "229701                     2.0        Contract  LB, CM, ST         175   75kg   \n",
       "\n",
       "       Preferred Foot  BOV Best Position     Joined Loan Date End  Value Wage  \\\n",
       "ID                                                                              \n",
       "229701           Left   68            LM  31-Jan-20           NaN  €1.1M  €5K   \n",
       "\n",
       "       Release Clause  Attacking  Crossing  Finishing  Heading Accuracy  \\\n",
       "ID                                                                        \n",
       "229701            €1M        305        68         62                54   \n",
       "\n",
       "        Short Passing  Volleys  Skill  Dribbling  Curve  FK Accuracy  \\\n",
       "ID                                                                     \n",
       "229701             68       53    322         69     60           64   \n",
       "\n",
       "        Long Passing  Ball Control  Movement  Acceleration  Sprint Speed  \\\n",
       "ID                                                                         \n",
       "229701            60            69       359            73            68   \n",
       "\n",
       "        Agility  Reactions  Balance  Power  Shot Power  Jumping  Stamina  \\\n",
       "ID                                                                         \n",
       "229701       76         59       83    324          75       69       66   \n",
       "\n",
       "        Strength  Long Shots  Mentality  Aggression  Interceptions  \\\n",
       "ID                                                                   \n",
       "229701        58          56        293          57             56   \n",
       "\n",
       "        Positioning  Vision  Penalties  Composure  Defending  Marking  \\\n",
       "ID                                                                      \n",
       "229701           59      56         65         58        170       57   \n",
       "\n",
       "        Standing Tackle  Sliding Tackle  Goalkeeping  GK Diving  GK Handling  \\\n",
       "ID                                                                             \n",
       "229701               57              56           49          9           10   \n",
       "\n",
       "        GK Kicking  GK Positioning  GK Reflexes  Total Stats  Base Stats  W/F  \\\n",
       "ID                                                                              \n",
       "229701           6              11           13         1822         383  3 ★   \n",
       "\n",
       "        SM   A/W     D/W   IR  PAC  SHO  PAS  DRI  DEF  PHY Hits  \n",
       "ID                                                                \n",
       "229701  3★  High  Medium  1 ★   70   63   64   70   56   60   25  "
      ]
     },
     "execution_count": 47,
     "metadata": {},
     "output_type": "execute_result"
    }
   ],
   "source": [
    "fifa = fifa.rename(columns={'Height' : 'Height(cm)'})\n",
    "fifa.sample(1)"
   ]
  },
  {
   "cell_type": "markdown",
   "id": "00811950",
   "metadata": {},
   "source": [
    "# 14. Weight "
   ]
  },
  {
   "cell_type": "markdown",
   "id": "c6bbcc67",
   "metadata": {},
   "source": [
    "Player's weight in kg"
   ]
  },
  {
   "cell_type": "code",
   "execution_count": 48,
   "id": "47227f46",
   "metadata": {},
   "outputs": [
    {
     "data": {
      "text/plain": [
       "dtype('O')"
      ]
     },
     "execution_count": 48,
     "metadata": {},
     "output_type": "execute_result"
    }
   ],
   "source": [
    "fifa['Weight'].dtype"
   ]
  },
  {
   "cell_type": "code",
   "execution_count": 49,
   "id": "a9dd6d58",
   "metadata": {},
   "outputs": [
    {
     "data": {
      "text/plain": [
       "array(['72kg', '83kg', '87kg', '70kg', '68kg', '80kg', '71kg', '91kg',\n",
       "       '73kg', '85kg', '92kg', '69kg', '84kg', '96kg', '81kg', '82kg',\n",
       "       '75kg', '86kg', '89kg', '74kg', '76kg', '64kg', '78kg', '90kg',\n",
       "       '66kg', '60kg', '94kg', '79kg', '67kg', '65kg', '59kg', '61kg',\n",
       "       '93kg', '88kg', '97kg', '77kg', '62kg', '63kg', '95kg', '100kg',\n",
       "       '58kg', '183lbs', '179lbs', '172lbs', '196lbs', '176lbs', '185lbs',\n",
       "       '170lbs', '203lbs', '168lbs', '161lbs', '146lbs', '130lbs',\n",
       "       '190lbs', '174lbs', '148lbs', '165lbs', '159lbs', '192lbs',\n",
       "       '181lbs', '139lbs', '154lbs', '157lbs', '163lbs', '98kg', '103kg',\n",
       "       '99kg', '102kg', '56kg', '101kg', '57kg', '55kg', '104kg', '107kg',\n",
       "       '110kg', '53kg', '50kg', '54kg', '52kg'], dtype=object)"
      ]
     },
     "execution_count": 49,
     "metadata": {},
     "output_type": "execute_result"
    }
   ],
   "source": [
    "fifa['Weight'].unique()"
   ]
  },
  {
   "cell_type": "code",
   "execution_count": 50,
   "id": "e671904a",
   "metadata": {},
   "outputs": [],
   "source": [
    "def convert_weight(weight: str) -> int:\n",
    "    if \"kg\" in weight:\n",
    "        return int(weight.strip(\"kg\"))\n",
    "    else:\n",
    "        pounds = int(weight.strip(\"lbs\"))\n",
    "        return round(pounds/2.205)"
   ]
  },
  {
   "cell_type": "code",
   "execution_count": 51,
   "id": "35959e7b",
   "metadata": {},
   "outputs": [
    {
     "data": {
      "text/plain": [
       "array([ 72,  83,  87,  70,  68,  80,  71,  91,  73,  85,  92,  69,  84,\n",
       "        96,  81,  82,  75,  86,  89,  74,  76,  64,  78,  90,  66,  60,\n",
       "        94,  79,  67,  65,  59,  61,  93,  88,  97,  77,  62,  63,  95,\n",
       "       100,  58,  98, 103,  99, 102,  56, 101,  57,  55, 104, 107, 110,\n",
       "        53,  50,  54,  52])"
      ]
     },
     "execution_count": 51,
     "metadata": {},
     "output_type": "execute_result"
    }
   ],
   "source": [
    "fifa['Weight'] = fifa['Weight'].apply(convert_weight)\n",
    "fifa['Weight'].unique()"
   ]
  },
  {
   "cell_type": "code",
   "execution_count": 52,
   "id": "aa5d0041",
   "metadata": {},
   "outputs": [],
   "source": [
    "fifa = fifa.rename(columns={\"Weight\" : \"Weight(kg)\"})"
   ]
  },
  {
   "cell_type": "markdown",
   "id": "554e645c",
   "metadata": {},
   "source": [
    "# 15. Preferred Foot"
   ]
  },
  {
   "cell_type": "markdown",
   "id": "ceb8f535",
   "metadata": {},
   "source": [
    "Player's preferred foot - Left or Right"
   ]
  },
  {
   "cell_type": "code",
   "execution_count": 53,
   "id": "75be61b3",
   "metadata": {},
   "outputs": [
    {
     "data": {
      "text/plain": [
       "dtype('O')"
      ]
     },
     "execution_count": 53,
     "metadata": {},
     "output_type": "execute_result"
    }
   ],
   "source": [
    "fifa['Preferred Foot'].dtype"
   ]
  },
  {
   "cell_type": "code",
   "execution_count": 54,
   "id": "6d72480d",
   "metadata": {},
   "outputs": [
    {
     "data": {
      "text/plain": [
       "array(['Left', 'Right'], dtype=object)"
      ]
     },
     "execution_count": 54,
     "metadata": {},
     "output_type": "execute_result"
    }
   ],
   "source": [
    "fifa['Preferred Foot'].unique()"
   ]
  },
  {
   "cell_type": "markdown",
   "id": "15b75465",
   "metadata": {},
   "source": [
    "# 16. BOV"
   ]
  },
  {
   "cell_type": "markdown",
   "id": "17f74ac7",
   "metadata": {},
   "source": [
    "Best Overall Rating of the Player in a specific position"
   ]
  },
  {
   "cell_type": "code",
   "execution_count": 55,
   "id": "266fac46",
   "metadata": {},
   "outputs": [
    {
     "data": {
      "text/plain": [
       "dtype('int64')"
      ]
     },
     "execution_count": 55,
     "metadata": {},
     "output_type": "execute_result"
    }
   ],
   "source": [
    "fifa['BOV'].dtype"
   ]
  },
  {
   "cell_type": "code",
   "execution_count": 56,
   "id": "3fa46768",
   "metadata": {},
   "outputs": [
    {
     "data": {
      "text/plain": [
       "array([93, 92, 91, 90, 89, 88, 87, 86, 85, 84, 83, 82, 81, 80, 79, 78, 77,\n",
       "       76, 75, 74, 73, 72, 71, 70, 69, 68, 67, 66, 65, 64, 63, 62, 61, 60,\n",
       "       59, 58, 57, 56, 55, 54, 53, 52, 51, 50, 49, 48])"
      ]
     },
     "execution_count": 56,
     "metadata": {},
     "output_type": "execute_result"
    }
   ],
   "source": [
    "fifa['BOV'].unique()"
   ]
  },
  {
   "cell_type": "markdown",
   "id": "2fa3726a",
   "metadata": {},
   "source": [
    "# 17. Best Position"
   ]
  },
  {
   "cell_type": "markdown",
   "id": "7c04d59d",
   "metadata": {},
   "source": [
    "Player's best position on the field"
   ]
  },
  {
   "cell_type": "code",
   "execution_count": 57,
   "id": "1d7c5824",
   "metadata": {},
   "outputs": [
    {
     "data": {
      "text/plain": [
       "dtype('O')"
      ]
     },
     "execution_count": 57,
     "metadata": {},
     "output_type": "execute_result"
    }
   ],
   "source": [
    "fifa['Best Position'].dtype"
   ]
  },
  {
   "cell_type": "code",
   "execution_count": 58,
   "id": "d41a2834",
   "metadata": {},
   "outputs": [
    {
     "data": {
      "text/plain": [
       "array(['RW', 'ST', 'GK', 'CAM', 'LW', 'CB', 'CDM', 'CF', 'CM', 'RB', 'LB',\n",
       "       'LM', 'RM', 'LWB', 'RWB'], dtype=object)"
      ]
     },
     "execution_count": 58,
     "metadata": {},
     "output_type": "execute_result"
    }
   ],
   "source": [
    "fifa['Best Position'].unique()"
   ]
  },
  {
   "cell_type": "markdown",
   "id": "000a7eb5",
   "metadata": {},
   "source": [
    "# 18. Joined"
   ]
  },
  {
   "cell_type": "markdown",
   "id": "892f6fad",
   "metadata": {},
   "source": [
    "Date when the player joined the current club"
   ]
  },
  {
   "cell_type": "code",
   "execution_count": 59,
   "id": "dc729150",
   "metadata": {},
   "outputs": [
    {
     "data": {
      "text/plain": [
       "dtype('O')"
      ]
     },
     "execution_count": 59,
     "metadata": {},
     "output_type": "execute_result"
    }
   ],
   "source": [
    "fifa['Joined'].dtype"
   ]
  },
  {
   "cell_type": "code",
   "execution_count": 60,
   "id": "45065182",
   "metadata": {},
   "outputs": [
    {
     "data": {
      "text/plain": [
       "array(['01-Jul-04', '10-Jul-18', '16-Jul-14', ..., '22-Sep-18',\n",
       "       '28-Feb-15', '06-Mar-18'], dtype=object)"
      ]
     },
     "execution_count": 60,
     "metadata": {},
     "output_type": "execute_result"
    }
   ],
   "source": [
    "fifa['Joined'].unique()"
   ]
  },
  {
   "cell_type": "markdown",
   "id": "55b4c58e",
   "metadata": {},
   "source": [
    "# 19. Loan Date End"
   ]
  },
  {
   "cell_type": "markdown",
   "id": "4293b8ca",
   "metadata": {},
   "source": [
    "Date when the player's loan ends (if On Loan)"
   ]
  },
  {
   "cell_type": "code",
   "execution_count": 61,
   "id": "e439edf0",
   "metadata": {},
   "outputs": [
    {
     "data": {
      "text/plain": [
       "dtype('O')"
      ]
     },
     "execution_count": 61,
     "metadata": {},
     "output_type": "execute_result"
    }
   ],
   "source": [
    "fifa['Loan Date End'].dtype"
   ]
  },
  {
   "cell_type": "code",
   "execution_count": 62,
   "id": "fb2aa611",
   "metadata": {},
   "outputs": [
    {
     "data": {
      "text/plain": [
       "array([nan, '30-Jun-21', '31-Dec-20', '30-Jan-21', '30-Jun-22',\n",
       "       '31-May-21', '05-Jul-21', '31-Dec-21', '01-Jul-21', '01-Jan-21',\n",
       "       '31-Aug-21', '31-Jan-21', '30-Dec-21', '23-Jun-21', '03-Jan-21',\n",
       "       '27-Nov-21', '17-Jan-21', '30-Jun-23', '31-Jul-21', '22-Nov-20',\n",
       "       '31-May-22', '30-Dec-20', '04-Jan-21', '30-Nov-20', '01-Aug-21'],\n",
       "      dtype=object)"
      ]
     },
     "execution_count": 62,
     "metadata": {},
     "output_type": "execute_result"
    }
   ],
   "source": [
    "fifa['Loan Date End'].unique()"
   ]
  },
  {
   "cell_type": "code",
   "execution_count": 63,
   "id": "974bd0e8",
   "metadata": {},
   "outputs": [],
   "source": [
    "fifa[\"Loan Date End\"] = fifa['Loan Date End'].fillna(\"\")"
   ]
  },
  {
   "cell_type": "code",
   "execution_count": 64,
   "id": "e476a014",
   "metadata": {},
   "outputs": [
    {
     "data": {
      "text/plain": [
       "array(['', '30-Jun-21', '31-Dec-20', '30-Jan-21', '30-Jun-22',\n",
       "       '31-May-21', '05-Jul-21', '31-Dec-21', '01-Jul-21', '01-Jan-21',\n",
       "       '31-Aug-21', '31-Jan-21', '30-Dec-21', '23-Jun-21', '03-Jan-21',\n",
       "       '27-Nov-21', '17-Jan-21', '30-Jun-23', '31-Jul-21', '22-Nov-20',\n",
       "       '31-May-22', '30-Dec-20', '04-Jan-21', '30-Nov-20', '01-Aug-21'],\n",
       "      dtype=object)"
      ]
     },
     "execution_count": 64,
     "metadata": {},
     "output_type": "execute_result"
    }
   ],
   "source": [
    "fifa['Loan Date End'].unique()"
   ]
  },
  {
   "cell_type": "markdown",
   "id": "6bbcc55e",
   "metadata": {},
   "source": [
    "# 20. Value"
   ]
  },
  {
   "cell_type": "markdown",
   "id": "311935a1",
   "metadata": {},
   "source": [
    "Estimated market value of the player"
   ]
  },
  {
   "cell_type": "code",
   "execution_count": 65,
   "id": "8a961968",
   "metadata": {},
   "outputs": [
    {
     "data": {
      "text/plain": [
       "dtype('O')"
      ]
     },
     "execution_count": 65,
     "metadata": {},
     "output_type": "execute_result"
    }
   ],
   "source": [
    "fifa['Value'].dtype"
   ]
  },
  {
   "cell_type": "code",
   "execution_count": 66,
   "id": "18b7caa6",
   "metadata": {},
   "outputs": [
    {
     "data": {
      "text/plain": [
       "array(['€103.5M', '€63M', '€120M', '€129M', '€132M', '€111M', '€120.5M',\n",
       "       '€102M', '€185.5M', '€110M', '€113M', '€90.5M', '€82M', '€17.5M',\n",
       "       '€83.5M', '€33.5M', '€114.5M', '€78M', '€103M', '€109M', '€92M',\n",
       "       '€10M', '€76.5M', '€89.5M', '€87.5M', '€79.5M', '€124M', '€114M',\n",
       "       '€95M', '€92.5M', '€105.5M', '€88.5M', '€85M', '€81.5M', '€26M',\n",
       "       '€21M', '€56M', '€67.5M', '€53M', '€36.5M', '€51M', '€65.5M',\n",
       "       '€46.5M', '€61.5M', '€72.5M', '€77.5M', '€43.5M', '€32.5M', '€36M',\n",
       "       '€32M', '€54M', '€49.5M', '€57M', '€66.5M', '€74.5M', '€71.5M',\n",
       "       '€121M', '€99M', '€67M', '€86.5M', '€93.5M', '€70M', '€62M',\n",
       "       '€66M', '€58M', '€44M', '€81M', '€37M', '€14.5M', '€46M', '€47.5M',\n",
       "       '€52.5M', '€54.5M', '€34.5M', '€57.5M', '€51.5M', '€44.5M', '€55M',\n",
       "       '€48M', '€60.5M', '€63.5M', '€61M', '€29M', '€58.5M', '€55.5M',\n",
       "       '€42M', '€40.5M', '€43M', '€45.5M', '€34M', '€26.5M', '€42.5M',\n",
       "       '€35.5M', '€45M', '€41.5M', '€40M', '€11M', '€13.5M', '€29.5M',\n",
       "       '€27M', '€15.5M', '€38.5M', '€52M', '€33M', '€19M', '€73.5M',\n",
       "       '€38M', '€35M', '€47M', '€24M', '€30.5M', '€18M', '€28M', '€25.5M',\n",
       "       '€25M', '€31M', '€23.5M', '€30M', '€31.5M', '€22.5M', '€28.5M',\n",
       "       '€4M', '€12.5M', '€37.5M', '€27.5M', '€16M', '€15M', '€20.5M',\n",
       "       '€22M', '€3.4M', '€5M', '€56.5M', '€62.5M', '€0', '€39M', '€24.5M',\n",
       "       '€21.5M', '€13M', '€8M', '€20M', '€8.5M', '€2.9M', '€9M', '€4.6M',\n",
       "       '€50M', '€23M', '€18.5M', '€7M', '€19.5M', '€5.5M', '€7.5M',\n",
       "       '€3.8M', '€14M', '€10.5M', '€16.5M', '€3.6M', '€9.5M', '€39.5M',\n",
       "       '€17M', '€12M', '€11.5M', '€4.9M', '€3M', '€1.9M', '€6.5M',\n",
       "       '€1.7M', '€2.4M', '€3.1M', '€6M', '€3.7M', '€4.7M', '€4.3M',\n",
       "       '€2.1M', '€1.2M', '€1.8M', '€4.8M', '€3.2M', '€1.3M', '€825K',\n",
       "       '€2.3M', '€1.5M', '€3.9M', '€2.6M', '€3.5M', '€2.8M', '€2.7M',\n",
       "       '€4.4M', '€4.1M', '€950K', '€1.6M', '€625K', '€1.1M', '€4.5M',\n",
       "       '€4.2M', '€2.2M', '€3.3M', '€1.4M', '€2M', '€475K', '€925K',\n",
       "       '€750K', '€725K', '€2.5M', '€1M', '€350K', '€525K', '€600K',\n",
       "       '€850K', '€800K', '€550K', '€250K', '€400K', '€425K', '€575K',\n",
       "       '€210K', '€325K', '€900K', '€875K', '€650K', '€700K', '€500K',\n",
       "       '€975K', '€375K', '€775K', '€275K', '€180K', '€450K', '€675K',\n",
       "       '€150K', '€240K', '€300K', '€130K', '€220K', '€200K', '€110K',\n",
       "       '€170K', '€230K', '€90K', '€120K', '€80K', '€190K', '€140K',\n",
       "       '€160K', '€100K', '€60K', '€50K', '€70K', '€45K', '€35K', '€40K',\n",
       "       '€25K', '€20K', '€15K', '€30K', '€9K'], dtype=object)"
      ]
     },
     "execution_count": 66,
     "metadata": {},
     "output_type": "execute_result"
    }
   ],
   "source": [
    "fifa['Value'].unique()"
   ]
  },
  {
   "cell_type": "code",
   "execution_count": 67,
   "id": "db68f5a5",
   "metadata": {},
   "outputs": [],
   "source": [
    "def convert_value(value: str) :\n",
    "    \n",
    "    nb_str =  value.strip(\"K|M|€\")\n",
    "    if \"K\" in value:\n",
    "        return float(nb_str)\n",
    "    return float(nb_str) * 1000"
   ]
  },
  {
   "cell_type": "code",
   "execution_count": 68,
   "id": "01f8403c",
   "metadata": {},
   "outputs": [],
   "source": [
    "fifa['Value'] = fifa['Value'].apply(convert_value)"
   ]
  },
  {
   "cell_type": "code",
   "execution_count": 69,
   "id": "f05ece93",
   "metadata": {},
   "outputs": [],
   "source": [
    "fifa = fifa.rename(columns={\"Value\" : \"Value (1 = 1000 €)\"})"
   ]
  },
  {
   "cell_type": "code",
   "execution_count": 70,
   "id": "7f892aa5",
   "metadata": {},
   "outputs": [
    {
     "data": {
      "text/html": [
       "<div>\n",
       "<style scoped>\n",
       "    .dataframe tbody tr th:only-of-type {\n",
       "        vertical-align: middle;\n",
       "    }\n",
       "\n",
       "    .dataframe tbody tr th {\n",
       "        vertical-align: top;\n",
       "    }\n",
       "\n",
       "    .dataframe thead th {\n",
       "        text-align: right;\n",
       "    }\n",
       "</style>\n",
       "<table border=\"1\" class=\"dataframe\">\n",
       "  <thead>\n",
       "    <tr style=\"text-align: right;\">\n",
       "      <th></th>\n",
       "      <th>Name</th>\n",
       "      <th>LongName</th>\n",
       "      <th>photoUrl</th>\n",
       "      <th>playerUrl</th>\n",
       "      <th>Nationality</th>\n",
       "      <th>Age</th>\n",
       "      <th>↓OVA</th>\n",
       "      <th>POT</th>\n",
       "      <th>Club</th>\n",
       "      <th>Contract</th>\n",
       "      <th>Contract Start</th>\n",
       "      <th>Contract End</th>\n",
       "      <th>Contract Length(years)</th>\n",
       "      <th>Contract Status</th>\n",
       "      <th>Positions</th>\n",
       "      <th>Height(cm)</th>\n",
       "      <th>Weight(kg)</th>\n",
       "      <th>Preferred Foot</th>\n",
       "      <th>BOV</th>\n",
       "      <th>Best Position</th>\n",
       "      <th>Joined</th>\n",
       "      <th>Loan Date End</th>\n",
       "      <th>Value (1 = 1000 €)</th>\n",
       "      <th>Wage</th>\n",
       "      <th>Release Clause</th>\n",
       "      <th>Attacking</th>\n",
       "      <th>Crossing</th>\n",
       "      <th>Finishing</th>\n",
       "      <th>Heading Accuracy</th>\n",
       "      <th>Short Passing</th>\n",
       "      <th>Volleys</th>\n",
       "      <th>Skill</th>\n",
       "      <th>Dribbling</th>\n",
       "      <th>Curve</th>\n",
       "      <th>FK Accuracy</th>\n",
       "      <th>Long Passing</th>\n",
       "      <th>Ball Control</th>\n",
       "      <th>Movement</th>\n",
       "      <th>Acceleration</th>\n",
       "      <th>Sprint Speed</th>\n",
       "      <th>Agility</th>\n",
       "      <th>Reactions</th>\n",
       "      <th>Balance</th>\n",
       "      <th>Power</th>\n",
       "      <th>Shot Power</th>\n",
       "      <th>Jumping</th>\n",
       "      <th>Stamina</th>\n",
       "      <th>Strength</th>\n",
       "      <th>Long Shots</th>\n",
       "      <th>Mentality</th>\n",
       "      <th>Aggression</th>\n",
       "      <th>Interceptions</th>\n",
       "      <th>Positioning</th>\n",
       "      <th>Vision</th>\n",
       "      <th>Penalties</th>\n",
       "      <th>Composure</th>\n",
       "      <th>Defending</th>\n",
       "      <th>Marking</th>\n",
       "      <th>Standing Tackle</th>\n",
       "      <th>Sliding Tackle</th>\n",
       "      <th>Goalkeeping</th>\n",
       "      <th>GK Diving</th>\n",
       "      <th>GK Handling</th>\n",
       "      <th>GK Kicking</th>\n",
       "      <th>GK Positioning</th>\n",
       "      <th>GK Reflexes</th>\n",
       "      <th>Total Stats</th>\n",
       "      <th>Base Stats</th>\n",
       "      <th>W/F</th>\n",
       "      <th>SM</th>\n",
       "      <th>A/W</th>\n",
       "      <th>D/W</th>\n",
       "      <th>IR</th>\n",
       "      <th>PAC</th>\n",
       "      <th>SHO</th>\n",
       "      <th>PAS</th>\n",
       "      <th>DRI</th>\n",
       "      <th>DEF</th>\n",
       "      <th>PHY</th>\n",
       "      <th>Hits</th>\n",
       "    </tr>\n",
       "    <tr>\n",
       "      <th>ID</th>\n",
       "      <th></th>\n",
       "      <th></th>\n",
       "      <th></th>\n",
       "      <th></th>\n",
       "      <th></th>\n",
       "      <th></th>\n",
       "      <th></th>\n",
       "      <th></th>\n",
       "      <th></th>\n",
       "      <th></th>\n",
       "      <th></th>\n",
       "      <th></th>\n",
       "      <th></th>\n",
       "      <th></th>\n",
       "      <th></th>\n",
       "      <th></th>\n",
       "      <th></th>\n",
       "      <th></th>\n",
       "      <th></th>\n",
       "      <th></th>\n",
       "      <th></th>\n",
       "      <th></th>\n",
       "      <th></th>\n",
       "      <th></th>\n",
       "      <th></th>\n",
       "      <th></th>\n",
       "      <th></th>\n",
       "      <th></th>\n",
       "      <th></th>\n",
       "      <th></th>\n",
       "      <th></th>\n",
       "      <th></th>\n",
       "      <th></th>\n",
       "      <th></th>\n",
       "      <th></th>\n",
       "      <th></th>\n",
       "      <th></th>\n",
       "      <th></th>\n",
       "      <th></th>\n",
       "      <th></th>\n",
       "      <th></th>\n",
       "      <th></th>\n",
       "      <th></th>\n",
       "      <th></th>\n",
       "      <th></th>\n",
       "      <th></th>\n",
       "      <th></th>\n",
       "      <th></th>\n",
       "      <th></th>\n",
       "      <th></th>\n",
       "      <th></th>\n",
       "      <th></th>\n",
       "      <th></th>\n",
       "      <th></th>\n",
       "      <th></th>\n",
       "      <th></th>\n",
       "      <th></th>\n",
       "      <th></th>\n",
       "      <th></th>\n",
       "      <th></th>\n",
       "      <th></th>\n",
       "      <th></th>\n",
       "      <th></th>\n",
       "      <th></th>\n",
       "      <th></th>\n",
       "      <th></th>\n",
       "      <th></th>\n",
       "      <th></th>\n",
       "      <th></th>\n",
       "      <th></th>\n",
       "      <th></th>\n",
       "      <th></th>\n",
       "      <th></th>\n",
       "      <th></th>\n",
       "      <th></th>\n",
       "      <th></th>\n",
       "      <th></th>\n",
       "      <th></th>\n",
       "      <th></th>\n",
       "      <th></th>\n",
       "    </tr>\n",
       "  </thead>\n",
       "  <tbody>\n",
       "    <tr>\n",
       "      <th>204485</th>\n",
       "      <td>R. Mahrez</td>\n",
       "      <td>Riyad Mahrez</td>\n",
       "      <td>https://cdn.sofifa.com/players/204/485/21_60.png</td>\n",
       "      <td>http://sofifa.com/player/204485/riyad-mahrez/2...</td>\n",
       "      <td>Algeria</td>\n",
       "      <td>29</td>\n",
       "      <td>85</td>\n",
       "      <td>85</td>\n",
       "      <td>Manchester City</td>\n",
       "      <td>2018 ~ 2023</td>\n",
       "      <td>2018</td>\n",
       "      <td>2023</td>\n",
       "      <td>5.0</td>\n",
       "      <td>Contract</td>\n",
       "      <td>RW, RM</td>\n",
       "      <td>179</td>\n",
       "      <td>67</td>\n",
       "      <td>Left</td>\n",
       "      <td>85</td>\n",
       "      <td>RW</td>\n",
       "      <td>10-Jul-18</td>\n",
       "      <td></td>\n",
       "      <td>53000.0</td>\n",
       "      <td>€210K</td>\n",
       "      <td>€69.4M</td>\n",
       "      <td>366</td>\n",
       "      <td>83</td>\n",
       "      <td>79</td>\n",
       "      <td>48</td>\n",
       "      <td>80</td>\n",
       "      <td>76</td>\n",
       "      <td>418</td>\n",
       "      <td>90</td>\n",
       "      <td>84</td>\n",
       "      <td>78</td>\n",
       "      <td>75</td>\n",
       "      <td>91</td>\n",
       "      <td>427</td>\n",
       "      <td>87</td>\n",
       "      <td>79</td>\n",
       "      <td>92</td>\n",
       "      <td>81</td>\n",
       "      <td>88</td>\n",
       "      <td>350</td>\n",
       "      <td>79</td>\n",
       "      <td>60</td>\n",
       "      <td>76</td>\n",
       "      <td>55</td>\n",
       "      <td>80</td>\n",
       "      <td>321</td>\n",
       "      <td>48</td>\n",
       "      <td>39</td>\n",
       "      <td>80</td>\n",
       "      <td>84</td>\n",
       "      <td>70</td>\n",
       "      <td>84</td>\n",
       "      <td>98</td>\n",
       "      <td>45</td>\n",
       "      <td>31</td>\n",
       "      <td>22</td>\n",
       "      <td>54</td>\n",
       "      <td>15</td>\n",
       "      <td>9</td>\n",
       "      <td>13</td>\n",
       "      <td>11</td>\n",
       "      <td>6</td>\n",
       "      <td>2034</td>\n",
       "      <td>430</td>\n",
       "      <td>4 ★</td>\n",
       "      <td>5★</td>\n",
       "      <td>Medium</td>\n",
       "      <td>Medium</td>\n",
       "      <td>3 ★</td>\n",
       "      <td>83</td>\n",
       "      <td>79</td>\n",
       "      <td>81</td>\n",
       "      <td>90</td>\n",
       "      <td>38</td>\n",
       "      <td>59</td>\n",
       "      <td>112</td>\n",
       "    </tr>\n",
       "    <tr>\n",
       "      <th>183498</th>\n",
       "      <td>M. Parolo</td>\n",
       "      <td>Marco Parolo</td>\n",
       "      <td>https://cdn.sofifa.com/players/183/498/21_60.png</td>\n",
       "      <td>http://sofifa.com/player/183498/marco-parolo/2...</td>\n",
       "      <td>Italy</td>\n",
       "      <td>35</td>\n",
       "      <td>79</td>\n",
       "      <td>79</td>\n",
       "      <td>Lazio</td>\n",
       "      <td>2014 ~ 2021</td>\n",
       "      <td>2014</td>\n",
       "      <td>2021</td>\n",
       "      <td>7.0</td>\n",
       "      <td>Contract</td>\n",
       "      <td>CDM, CM</td>\n",
       "      <td>184</td>\n",
       "      <td>75</td>\n",
       "      <td>Right</td>\n",
       "      <td>79</td>\n",
       "      <td>CDM</td>\n",
       "      <td>01-Jul-14</td>\n",
       "      <td></td>\n",
       "      <td>4900.0</td>\n",
       "      <td>€40K</td>\n",
       "      <td>€6.8M</td>\n",
       "      <td>369</td>\n",
       "      <td>70</td>\n",
       "      <td>70</td>\n",
       "      <td>75</td>\n",
       "      <td>78</td>\n",
       "      <td>76</td>\n",
       "      <td>354</td>\n",
       "      <td>75</td>\n",
       "      <td>67</td>\n",
       "      <td>55</td>\n",
       "      <td>79</td>\n",
       "      <td>78</td>\n",
       "      <td>330</td>\n",
       "      <td>64</td>\n",
       "      <td>52</td>\n",
       "      <td>63</td>\n",
       "      <td>80</td>\n",
       "      <td>71</td>\n",
       "      <td>392</td>\n",
       "      <td>87</td>\n",
       "      <td>77</td>\n",
       "      <td>75</td>\n",
       "      <td>69</td>\n",
       "      <td>84</td>\n",
       "      <td>365</td>\n",
       "      <td>80</td>\n",
       "      <td>80</td>\n",
       "      <td>82</td>\n",
       "      <td>78</td>\n",
       "      <td>45</td>\n",
       "      <td>78</td>\n",
       "      <td>238</td>\n",
       "      <td>79</td>\n",
       "      <td>79</td>\n",
       "      <td>80</td>\n",
       "      <td>44</td>\n",
       "      <td>13</td>\n",
       "      <td>9</td>\n",
       "      <td>6</td>\n",
       "      <td>7</td>\n",
       "      <td>9</td>\n",
       "      <td>2092</td>\n",
       "      <td>435</td>\n",
       "      <td>4 ★</td>\n",
       "      <td>3★</td>\n",
       "      <td>High</td>\n",
       "      <td>High</td>\n",
       "      <td>2 ★</td>\n",
       "      <td>57</td>\n",
       "      <td>76</td>\n",
       "      <td>75</td>\n",
       "      <td>75</td>\n",
       "      <td>79</td>\n",
       "      <td>73</td>\n",
       "      <td>31</td>\n",
       "    </tr>\n",
       "    <tr>\n",
       "      <th>190424</th>\n",
       "      <td>E. Adu</td>\n",
       "      <td>Enoch Kofi Adu</td>\n",
       "      <td>https://cdn.sofifa.com/players/190/424/21_60.png</td>\n",
       "      <td>http://sofifa.com/player/190424/enoch-kofi-adu...</td>\n",
       "      <td>Ghana</td>\n",
       "      <td>29</td>\n",
       "      <td>68</td>\n",
       "      <td>68</td>\n",
       "      <td>AIK</td>\n",
       "      <td>2018 ~ 2020</td>\n",
       "      <td>2018</td>\n",
       "      <td>2020</td>\n",
       "      <td>2.0</td>\n",
       "      <td>Contract</td>\n",
       "      <td>CDM, CM</td>\n",
       "      <td>178</td>\n",
       "      <td>67</td>\n",
       "      <td>Right</td>\n",
       "      <td>68</td>\n",
       "      <td>CDM</td>\n",
       "      <td>01-Jan-18</td>\n",
       "      <td></td>\n",
       "      <td>1000.0</td>\n",
       "      <td>€4K</td>\n",
       "      <td>€969K</td>\n",
       "      <td>227</td>\n",
       "      <td>56</td>\n",
       "      <td>35</td>\n",
       "      <td>35</td>\n",
       "      <td>70</td>\n",
       "      <td>31</td>\n",
       "      <td>331</td>\n",
       "      <td>67</td>\n",
       "      <td>67</td>\n",
       "      <td>55</td>\n",
       "      <td>71</td>\n",
       "      <td>71</td>\n",
       "      <td>341</td>\n",
       "      <td>59</td>\n",
       "      <td>45</td>\n",
       "      <td>85</td>\n",
       "      <td>69</td>\n",
       "      <td>83</td>\n",
       "      <td>299</td>\n",
       "      <td>52</td>\n",
       "      <td>67</td>\n",
       "      <td>73</td>\n",
       "      <td>58</td>\n",
       "      <td>49</td>\n",
       "      <td>282</td>\n",
       "      <td>36</td>\n",
       "      <td>67</td>\n",
       "      <td>56</td>\n",
       "      <td>67</td>\n",
       "      <td>56</td>\n",
       "      <td>73</td>\n",
       "      <td>196</td>\n",
       "      <td>65</td>\n",
       "      <td>68</td>\n",
       "      <td>63</td>\n",
       "      <td>52</td>\n",
       "      <td>15</td>\n",
       "      <td>9</td>\n",
       "      <td>6</td>\n",
       "      <td>9</td>\n",
       "      <td>13</td>\n",
       "      <td>1728</td>\n",
       "      <td>352</td>\n",
       "      <td>3 ★</td>\n",
       "      <td>3★</td>\n",
       "      <td>Low</td>\n",
       "      <td>Medium</td>\n",
       "      <td>1 ★</td>\n",
       "      <td>51</td>\n",
       "      <td>43</td>\n",
       "      <td>66</td>\n",
       "      <td>71</td>\n",
       "      <td>63</td>\n",
       "      <td>58</td>\n",
       "      <td>9</td>\n",
       "    </tr>\n",
       "  </tbody>\n",
       "</table>\n",
       "</div>"
      ],
      "text/plain": [
       "             Name        LongName  \\\n",
       "ID                                  \n",
       "204485  R. Mahrez    Riyad Mahrez   \n",
       "183498  M. Parolo    Marco Parolo   \n",
       "190424     E. Adu  Enoch Kofi Adu   \n",
       "\n",
       "                                                photoUrl  \\\n",
       "ID                                                         \n",
       "204485  https://cdn.sofifa.com/players/204/485/21_60.png   \n",
       "183498  https://cdn.sofifa.com/players/183/498/21_60.png   \n",
       "190424  https://cdn.sofifa.com/players/190/424/21_60.png   \n",
       "\n",
       "                                                playerUrl Nationality  Age  \\\n",
       "ID                                                                           \n",
       "204485  http://sofifa.com/player/204485/riyad-mahrez/2...     Algeria   29   \n",
       "183498  http://sofifa.com/player/183498/marco-parolo/2...       Italy   35   \n",
       "190424  http://sofifa.com/player/190424/enoch-kofi-adu...       Ghana   29   \n",
       "\n",
       "        ↓OVA  POT             Club     Contract Contract Start Contract End  \\\n",
       "ID                                                                            \n",
       "204485    85   85  Manchester City  2018 ~ 2023           2018         2023   \n",
       "183498    79   79            Lazio  2014 ~ 2021           2014         2021   \n",
       "190424    68   68              AIK  2018 ~ 2020           2018         2020   \n",
       "\n",
       "        Contract Length(years) Contract Status Positions  Height(cm)  \\\n",
       "ID                                                                     \n",
       "204485                     5.0        Contract    RW, RM         179   \n",
       "183498                     7.0        Contract   CDM, CM         184   \n",
       "190424                     2.0        Contract   CDM, CM         178   \n",
       "\n",
       "        Weight(kg) Preferred Foot  BOV Best Position     Joined Loan Date End  \\\n",
       "ID                                                                              \n",
       "204485          67           Left   85            RW  10-Jul-18                 \n",
       "183498          75          Right   79           CDM  01-Jul-14                 \n",
       "190424          67          Right   68           CDM  01-Jan-18                 \n",
       "\n",
       "        Value (1 = 1000 €)   Wage Release Clause  Attacking  Crossing  \\\n",
       "ID                                                                      \n",
       "204485             53000.0  €210K         €69.4M        366        83   \n",
       "183498              4900.0   €40K          €6.8M        369        70   \n",
       "190424              1000.0    €4K          €969K        227        56   \n",
       "\n",
       "        Finishing  Heading Accuracy  Short Passing  Volleys  Skill  Dribbling  \\\n",
       "ID                                                                              \n",
       "204485         79                48             80       76    418         90   \n",
       "183498         70                75             78       76    354         75   \n",
       "190424         35                35             70       31    331         67   \n",
       "\n",
       "        Curve  FK Accuracy  Long Passing  Ball Control  Movement  \\\n",
       "ID                                                                 \n",
       "204485     84           78            75            91       427   \n",
       "183498     67           55            79            78       330   \n",
       "190424     67           55            71            71       341   \n",
       "\n",
       "        Acceleration  Sprint Speed  Agility  Reactions  Balance  Power  \\\n",
       "ID                                                                       \n",
       "204485            87            79       92         81       88    350   \n",
       "183498            64            52       63         80       71    392   \n",
       "190424            59            45       85         69       83    299   \n",
       "\n",
       "        Shot Power  Jumping  Stamina  Strength  Long Shots  Mentality  \\\n",
       "ID                                                                      \n",
       "204485          79       60       76        55          80        321   \n",
       "183498          87       77       75        69          84        365   \n",
       "190424          52       67       73        58          49        282   \n",
       "\n",
       "        Aggression  Interceptions  Positioning  Vision  Penalties  Composure  \\\n",
       "ID                                                                             \n",
       "204485          48             39           80      84         70         84   \n",
       "183498          80             80           82      78         45         78   \n",
       "190424          36             67           56      67         56         73   \n",
       "\n",
       "        Defending  Marking  Standing Tackle  Sliding Tackle  Goalkeeping  \\\n",
       "ID                                                                         \n",
       "204485         98       45               31              22           54   \n",
       "183498        238       79               79              80           44   \n",
       "190424        196       65               68              63           52   \n",
       "\n",
       "        GK Diving  GK Handling  GK Kicking  GK Positioning  GK Reflexes  \\\n",
       "ID                                                                        \n",
       "204485         15            9          13              11            6   \n",
       "183498         13            9           6               7            9   \n",
       "190424         15            9           6               9           13   \n",
       "\n",
       "        Total Stats  Base Stats  W/F  SM     A/W     D/W   IR  PAC  SHO  PAS  \\\n",
       "ID                                                                             \n",
       "204485         2034         430  4 ★  5★  Medium  Medium  3 ★   83   79   81   \n",
       "183498         2092         435  4 ★  3★    High    High  2 ★   57   76   75   \n",
       "190424         1728         352  3 ★  3★     Low  Medium  1 ★   51   43   66   \n",
       "\n",
       "        DRI  DEF  PHY Hits  \n",
       "ID                          \n",
       "204485   90   38   59  112  \n",
       "183498   75   79   73   31  \n",
       "190424   71   63   58    9  "
      ]
     },
     "execution_count": 70,
     "metadata": {},
     "output_type": "execute_result"
    }
   ],
   "source": [
    "fifa.sample(3)"
   ]
  },
  {
   "cell_type": "markdown",
   "id": "5c69e87e",
   "metadata": {},
   "source": [
    "# 21 Wage"
   ]
  },
  {
   "cell_type": "markdown",
   "id": "28890f76",
   "metadata": {},
   "source": [
    "Weekly wage of the player"
   ]
  },
  {
   "cell_type": "code",
   "execution_count": 71,
   "id": "2b3f58ed",
   "metadata": {},
   "outputs": [
    {
     "data": {
      "text/plain": [
       "dtype('O')"
      ]
     },
     "execution_count": 71,
     "metadata": {},
     "output_type": "execute_result"
    }
   ],
   "source": [
    "fifa[\"Wage\"].dtype"
   ]
  },
  {
   "cell_type": "code",
   "execution_count": 72,
   "id": "3b824c27",
   "metadata": {},
   "outputs": [
    {
     "data": {
      "text/plain": [
       "array(['€560K', '€220K', '€125K', '€370K', '€270K', '€240K', '€250K',\n",
       "       '€160K', '€260K', '€210K', '€310K', '€130K', '€350K', '€300K',\n",
       "       '€190K', '€145K', '€195K', '€100K', '€140K', '€290K', '€82K',\n",
       "       '€110K', '€230K', '€155K', '€200K', '€165K', '€95K', '€170K',\n",
       "       '€105K', '€115K', '€150K', '€135K', '€55K', '€58K', '€81K', '€34K',\n",
       "       '€120K', '€59K', '€90K', '€65K', '€56K', '€71K', '€18K', '€75K',\n",
       "       '€47K', '€20K', '€84K', '€86K', '€74K', '€78K', '€27K', '€68K',\n",
       "       '€85K', '€25K', '€46K', '€83K', '€54K', '€79K', '€175K', '€43K',\n",
       "       '€49K', '€45K', '€38K', '€41K', '€39K', '€23K', '€51K', '€50K',\n",
       "       '€87K', '€30K', '€14K', '€69K', '€31K', '€64K', '€53K', '€35K',\n",
       "       '€21K', '€28K', '€17K', '€33K', '€70K', '€32K', '€89K', '€26K',\n",
       "       '€40K', '€76K', '€72K', '€48K', '€36K', '€29K', '€60K', '€16K',\n",
       "       '€37K', '€24K', '€52K', '€0', '€62K', '€73K', '€63K', '€19K',\n",
       "       '€1K', '€66K', '€80K', '€12K', '€2K', '€42K', '€13K', '€900',\n",
       "       '€57K', '€77K', '€61K', '€22K', '€67K', '€44K', '€15K', '€11K',\n",
       "       '€8K', '€850', '€10K', '€88K', '€500', '€7K', '€6K', '€9K', '€5K',\n",
       "       '€700', '€950', '€750', '€3K', '€650', '€600', '€4K', '€800',\n",
       "       '€550'], dtype=object)"
      ]
     },
     "execution_count": 72,
     "metadata": {},
     "output_type": "execute_result"
    }
   ],
   "source": [
    "fifa[\"Wage\"].unique()"
   ]
  },
  {
   "cell_type": "code",
   "execution_count": 73,
   "id": "811645fb",
   "metadata": {},
   "outputs": [],
   "source": [
    "def convert_wage(wage: str) -> int :\n",
    "    if \"K\" in wage:\n",
    "        return int(wage.strip(\"K|€\")) * 1000\n",
    "    return int(wage.strip(\"€\"))"
   ]
  },
  {
   "cell_type": "code",
   "execution_count": 74,
   "id": "4e163e13",
   "metadata": {},
   "outputs": [],
   "source": [
    "fifa[\"Wage\"] = fifa[\"Wage\"].apply(convert_wage)"
   ]
  },
  {
   "cell_type": "code",
   "execution_count": 75,
   "id": "ab8ad61b",
   "metadata": {},
   "outputs": [
    {
     "data": {
      "text/plain": [
       "array([560000, 220000, 125000, 370000, 270000, 240000, 250000, 160000,\n",
       "       260000, 210000, 310000, 130000, 350000, 300000, 190000, 145000,\n",
       "       195000, 100000, 140000, 290000,  82000, 110000, 230000, 155000,\n",
       "       200000, 165000,  95000, 170000, 105000, 115000, 150000, 135000,\n",
       "        55000,  58000,  81000,  34000, 120000,  59000,  90000,  65000,\n",
       "        56000,  71000,  18000,  75000,  47000,  20000,  84000,  86000,\n",
       "        74000,  78000,  27000,  68000,  85000,  25000,  46000,  83000,\n",
       "        54000,  79000, 175000,  43000,  49000,  45000,  38000,  41000,\n",
       "        39000,  23000,  51000,  50000,  87000,  30000,  14000,  69000,\n",
       "        31000,  64000,  53000,  35000,  21000,  28000,  17000,  33000,\n",
       "        70000,  32000,  89000,  26000,  40000,  76000,  72000,  48000,\n",
       "        36000,  29000,  60000,  16000,  37000,  24000,  52000,      0,\n",
       "        62000,  73000,  63000,  19000,   1000,  66000,  80000,  12000,\n",
       "         2000,  42000,  13000,    900,  57000,  77000,  61000,  22000,\n",
       "        67000,  44000,  15000,  11000,   8000,    850,  10000,  88000,\n",
       "          500,   7000,   6000,   9000,   5000,    700,    950,    750,\n",
       "         3000,    650,    600,   4000,    800,    550])"
      ]
     },
     "execution_count": 75,
     "metadata": {},
     "output_type": "execute_result"
    }
   ],
   "source": [
    "fifa[\"Wage\"].unique()"
   ]
  },
  {
   "cell_type": "markdown",
   "id": "6fb99244",
   "metadata": {},
   "source": [
    "# 22. Release Clause"
   ]
  },
  {
   "cell_type": "markdown",
   "id": "1f990210",
   "metadata": {},
   "source": [
    "Release clause in the player's contract"
   ]
  },
  {
   "cell_type": "code",
   "execution_count": 76,
   "id": "c11e7cc0",
   "metadata": {},
   "outputs": [
    {
     "data": {
      "text/plain": [
       "dtype('O')"
      ]
     },
     "execution_count": 76,
     "metadata": {},
     "output_type": "execute_result"
    }
   ],
   "source": [
    "fifa[\"Release Clause\"].dtype"
   ]
  },
  {
   "cell_type": "code",
   "execution_count": 77,
   "id": "f473e5f9",
   "metadata": {},
   "outputs": [
    {
     "data": {
      "text/plain": [
       "array(['€138.4M', '€75.9M', '€159.4M', ..., '€59K', '€35K', '€64K'],\n",
       "      dtype=object)"
      ]
     },
     "execution_count": 77,
     "metadata": {},
     "output_type": "execute_result"
    }
   ],
   "source": [
    "fifa[\"Release Clause\"].unique()"
   ]
  },
  {
   "cell_type": "code",
   "execution_count": 78,
   "id": "a329c033",
   "metadata": {},
   "outputs": [],
   "source": [
    "fifa[\"Release Clause\"] = fifa[\"Release Clause\"].apply(convert_value)"
   ]
  },
  {
   "cell_type": "code",
   "execution_count": 79,
   "id": "d1018780",
   "metadata": {},
   "outputs": [
    {
     "data": {
      "text/plain": [
       "ID\n",
       "243357     2200.0\n",
       "250941     2800.0\n",
       "173665      140.0\n",
       "251742        0.0\n",
       "238336     2000.0\n",
       "257720      135.0\n",
       "234827        0.0\n",
       "205553     5400.0\n",
       "219244    11900.0\n",
       "257568      161.0\n",
       "Name: Release Clause, dtype: float64"
      ]
     },
     "execution_count": 79,
     "metadata": {},
     "output_type": "execute_result"
    }
   ],
   "source": [
    "fifa[\"Release Clause\"].sample(10)"
   ]
  },
  {
   "cell_type": "code",
   "execution_count": 80,
   "id": "fec234a5",
   "metadata": {},
   "outputs": [],
   "source": [
    "fifa = fifa.rename(columns={\"Release Clause\" : \"Release Clause (1000€)\"})"
   ]
  },
  {
   "cell_type": "markdown",
   "id": "52cf3677",
   "metadata": {},
   "source": [
    "# 23. Attacking"
   ]
  },
  {
   "cell_type": "markdown",
   "id": "65467ff7",
   "metadata": {},
   "source": [
    "Composite rating in the player's contract"
   ]
  },
  {
   "cell_type": "code",
   "execution_count": 81,
   "id": "83d1ef74",
   "metadata": {},
   "outputs": [
    {
     "data": {
      "text/plain": [
       "dtype('int64')"
      ]
     },
     "execution_count": 81,
     "metadata": {},
     "output_type": "execute_result"
    }
   ],
   "source": [
    "fifa[\"Attacking\"].dtype"
   ]
  },
  {
   "cell_type": "code",
   "execution_count": 82,
   "id": "86619994",
   "metadata": {},
   "outputs": [
    {
     "data": {
      "text/plain": [
       "array([429, 437,  95, 407, 408, 423, 392, 114, 118, 316, 410, 349,  86,\n",
       "       119, 426, 374, 411, 360, 328, 383, 405, 123, 420, 224, 388, 397,\n",
       "       425, 373, 365, 371, 311, 396, 345, 399, 400,  78, 280, 330, 403,\n",
       "       379, 380,  94, 394, 419, 339, 293, 344, 390,  84, 359, 372, 377,\n",
       "       346, 389, 386, 308, 277, 382, 368, 402, 292, 298, 366, 352, 363,\n",
       "       322, 361,  91, 364, 341, 385, 355, 305, 321, 262,  93, 375, 387,\n",
       "       356, 253, 285, 391, 353, 367,  90, 295, 378, 256, 338, 331,  69,\n",
       "       105,  85, 358, 343, 319, 271, 113, 350, 406, 340, 393, 247, 334,\n",
       "       351, 342, 302, 329, 354,  98, 301, 115, 384, 208,  72, 376,  92,\n",
       "       258, 362,  74, 417,  99, 263,  88, 279, 101, 395, 100,  81,  87,\n",
       "        55, 310,  82, 117, 409, 318, 323, 248, 315, 381, 348, 327, 309,\n",
       "       130, 283, 336, 369, 106, 252, 320, 290, 370, 126, 251, 108, 335,\n",
       "       297, 284,  80,  75, 357, 270,  97, 306, 337,  73, 286, 325, 326,\n",
       "       324, 333, 103, 259, 273, 313, 296,  61, 312, 347, 401, 304, 278,\n",
       "        83,  43, 314, 291, 264, 272, 317, 231, 250, 268,  54, 261, 255,\n",
       "        70, 281, 265, 299, 287,  68, 294,  77, 219, 300, 269, 332, 289,\n",
       "       288, 107, 282, 122, 244,  89, 112, 274, 276, 307, 229,  96, 109,\n",
       "        76, 125, 102, 239, 227, 241, 257, 254, 228, 233, 124, 215, 246,\n",
       "       110, 245, 214, 242, 266, 104,  66, 303, 260,  63, 230, 275,  50,\n",
       "       238, 249, 111,  67, 240, 221, 237,  56, 235, 234, 243, 267, 232,\n",
       "       203, 223,  64, 213, 222, 226, 225, 211, 207,  52, 173,  57, 217,\n",
       "       236,  71, 204, 216, 199,  59, 189,  60, 194, 116, 205, 201, 193,\n",
       "        65, 192, 209, 218, 128, 210,  79,  45, 206, 162, 220,  49, 197,\n",
       "       202, 212,  58, 190, 181,  51,  62, 200, 198, 195, 191, 131, 185,\n",
       "        42, 180, 182, 196, 188, 169, 187, 178,  53, 183, 184, 186, 165,\n",
       "       172,  47, 171, 176, 159,  46, 179, 175, 167, 174, 161, 170, 177,\n",
       "       164, 134, 168, 163, 166, 158, 150, 143,  48, 152, 160, 148, 151,\n",
       "       157, 154, 141, 146, 147, 149, 156, 153, 138, 145, 142, 139, 155,\n",
       "       144, 136, 137])"
      ]
     },
     "execution_count": 82,
     "metadata": {},
     "output_type": "execute_result"
    }
   ],
   "source": [
    "fifa[\"Attacking\"].unique()"
   ]
  },
  {
   "cell_type": "markdown",
   "id": "34e84e39",
   "metadata": {},
   "source": [
    "# 24. Crossing"
   ]
  },
  {
   "cell_type": "markdown",
   "id": "db252401",
   "metadata": {},
   "source": [
    "Player's ability to make accurate crosses."
   ]
  },
  {
   "cell_type": "code",
   "execution_count": 83,
   "id": "7b5f273b",
   "metadata": {},
   "outputs": [
    {
     "data": {
      "text/plain": [
       "dtype('int64')"
      ]
     },
     "execution_count": 83,
     "metadata": {},
     "output_type": "execute_result"
    }
   ],
   "source": [
    "fifa[\"Crossing\"].dtype"
   ]
  },
  {
   "cell_type": "code",
   "execution_count": 84,
   "id": "049320d5",
   "metadata": {},
   "outputs": [
    {
     "data": {
      "text/plain": [
       "array([85, 84, 13, 94, 71, 79, 17, 78, 18, 53, 76, 58, 14, 15, 75, 66, 70,\n",
       "       68, 91, 82, 20, 12, 30, 77, 88, 83, 93, 90, 87, 81, 73, 11, 54, 62,\n",
       "       86, 80, 55, 42, 57, 65, 63, 64, 52, 40, 69, 47, 60,  9, 16, 44, 72,\n",
       "       50, 56, 46, 89, 34, 45, 74, 49, 67, 24, 35, 36, 61, 19, 27, 25, 10,\n",
       "       51, 38, 43, 59, 39, 48, 23,  8, 28, 92, 41, 29, 32, 22, 26, 37, 33,\n",
       "       31, 21,  7,  6])"
      ]
     },
     "execution_count": 84,
     "metadata": {},
     "output_type": "execute_result"
    }
   ],
   "source": [
    "fifa[\"Crossing\"].unique()"
   ]
  },
  {
   "cell_type": "markdown",
   "id": "92076166",
   "metadata": {},
   "source": [
    "# 25. Finishing"
   ]
  },
  {
   "cell_type": "markdown",
   "id": "b418f32a",
   "metadata": {},
   "source": [
    "Player's ability to score goals"
   ]
  },
  {
   "cell_type": "code",
   "execution_count": 85,
   "id": "05e3afff",
   "metadata": {},
   "outputs": [
    {
     "data": {
      "text/plain": [
       "dtype('int64')"
      ]
     },
     "execution_count": 85,
     "metadata": {},
     "output_type": "execute_result"
    }
   ],
   "source": [
    "fifa[\"Finishing\"].dtype"
   ]
  },
  {
   "cell_type": "code",
   "execution_count": 86,
   "id": "3903b468",
   "metadata": {},
   "outputs": [
    {
     "data": {
      "text/plain": [
       "array([95, 11, 82, 87, 94, 91, 13, 14, 52, 90, 64, 88, 65, 85, 66, 84, 10,\n",
       "       22, 76, 81, 56, 79, 57, 45, 77, 63, 86, 80, 15, 33, 67, 12, 72, 92,\n",
       "       93, 51, 46, 60, 75, 55, 73, 83, 50, 42, 39, 40,  9, 68, 48, 37, 70,\n",
       "       78, 69,  8, 53, 89, 25, 62, 71, 74, 44, 26, 19, 32, 18, 61, 58, 30,\n",
       "       54, 36, 29, 16, 38, 59, 27, 34, 47, 20, 31, 49, 43, 41, 28,  5,  7,\n",
       "        6, 21, 17, 35, 23, 24,  4,  3])"
      ]
     },
     "execution_count": 86,
     "metadata": {},
     "output_type": "execute_result"
    }
   ],
   "source": [
    "fifa[\"Finishing\"].unique()"
   ]
  },
  {
   "cell_type": "markdown",
   "id": "18d2f98b",
   "metadata": {},
   "source": [
    "# 26. Heading Accuracy"
   ]
  },
  {
   "cell_type": "markdown",
   "id": "a419b486",
   "metadata": {},
   "source": [
    "Player's ability to win aerial duels."
   ]
  },
  {
   "cell_type": "code",
   "execution_count": 87,
   "id": "72148c5c",
   "metadata": {},
   "outputs": [
    {
     "data": {
      "text/plain": [
       "dtype('int64')"
      ]
     },
     "execution_count": 87,
     "metadata": {},
     "output_type": "execute_result"
    }
   ],
   "source": [
    "fifa[\"Heading Accuracy\"].dtype"
   ]
  },
  {
   "cell_type": "markdown",
   "id": "a3075946",
   "metadata": {},
   "source": [
    "# 27. Short Passing"
   ]
  },
  {
   "cell_type": "markdown",
   "id": "8b5be560",
   "metadata": {},
   "source": [
    "Player's ability to make short passes accurately."
   ]
  },
  {
   "cell_type": "code",
   "execution_count": 88,
   "id": "9c36bce5",
   "metadata": {},
   "outputs": [
    {
     "data": {
      "text/plain": [
       "dtype('int64')"
      ]
     },
     "execution_count": 88,
     "metadata": {},
     "output_type": "execute_result"
    }
   ],
   "source": [
    "fifa[\"Short Passing\"].dtype"
   ]
  },
  {
   "cell_type": "markdown",
   "id": "d65a3bf8",
   "metadata": {},
   "source": [
    "# 28. Volleys"
   ]
  },
  {
   "cell_type": "markdown",
   "id": "fb1187a4",
   "metadata": {},
   "source": [
    "Player's ability to take volleys"
   ]
  },
  {
   "cell_type": "code",
   "execution_count": 89,
   "id": "dd7d7152",
   "metadata": {},
   "outputs": [
    {
     "data": {
      "text/plain": [
       "dtype('int64')"
      ]
     },
     "execution_count": 89,
     "metadata": {},
     "output_type": "execute_result"
    }
   ],
   "source": [
    "fifa[\"Volleys\"].dtype"
   ]
  },
  {
   "cell_type": "markdown",
   "id": "3c3b21fc",
   "metadata": {},
   "source": [
    "# 29. Skill"
   ]
  },
  {
   "cell_type": "markdown",
   "id": "eef5ea4c",
   "metadata": {},
   "source": [
    "Composite rating of the player's technical abilities."
   ]
  },
  {
   "cell_type": "code",
   "execution_count": 90,
   "id": "631dee13",
   "metadata": {},
   "outputs": [
    {
     "data": {
      "text/plain": [
       "dtype('int64')"
      ]
     },
     "execution_count": 90,
     "metadata": {},
     "output_type": "execute_result"
    }
   ],
   "source": [
    "fifa[\"Skill\"].dtype"
   ]
  },
  {
   "cell_type": "markdown",
   "id": "610a1786",
   "metadata": {},
   "source": [
    "# 30. Dribbling"
   ]
  },
  {
   "cell_type": "markdown",
   "id": "81cf90f8",
   "metadata": {},
   "source": [
    "Player's ability to dribble past defenders.\n"
   ]
  },
  {
   "cell_type": "code",
   "execution_count": 91,
   "id": "72e80d1a",
   "metadata": {},
   "outputs": [
    {
     "data": {
      "text/plain": [
       "dtype('int64')"
      ]
     },
     "execution_count": 91,
     "metadata": {},
     "output_type": "execute_result"
    }
   ],
   "source": [
    "fifa[\"Dribbling\"].dtype"
   ]
  },
  {
   "cell_type": "markdown",
   "id": "c9cf35e1",
   "metadata": {},
   "source": [
    "# 31. Curve"
   ]
  },
  {
   "cell_type": "markdown",
   "id": "07b2b168",
   "metadata": {},
   "source": [
    "Player's ability to curve the ball."
   ]
  },
  {
   "cell_type": "code",
   "execution_count": 92,
   "id": "f3e515f2",
   "metadata": {},
   "outputs": [
    {
     "data": {
      "text/plain": [
       "dtype('int64')"
      ]
     },
     "execution_count": 92,
     "metadata": {},
     "output_type": "execute_result"
    }
   ],
   "source": [
    "fifa[\"Curve\"].dtype"
   ]
  },
  {
   "cell_type": "markdown",
   "id": "ff762871",
   "metadata": {},
   "source": [
    "# 32. FK Accuracy"
   ]
  },
  {
   "cell_type": "markdown",
   "id": "9d0b5a84",
   "metadata": {},
   "source": [
    "Player's ability to take free kicks."
   ]
  },
  {
   "cell_type": "code",
   "execution_count": 93,
   "id": "ece8c096",
   "metadata": {},
   "outputs": [
    {
     "data": {
      "text/plain": [
       "dtype('int64')"
      ]
     },
     "execution_count": 93,
     "metadata": {},
     "output_type": "execute_result"
    }
   ],
   "source": [
    "fifa[\"FK Accuracy\"].dtype"
   ]
  },
  {
   "cell_type": "markdown",
   "id": "ec18728c",
   "metadata": {},
   "source": [
    "# 33. Long Passing"
   ]
  },
  {
   "cell_type": "markdown",
   "id": "aa08e4a3",
   "metadata": {},
   "source": [
    "Player's ability to make long passes accurately."
   ]
  },
  {
   "cell_type": "code",
   "execution_count": 94,
   "id": "36397310",
   "metadata": {},
   "outputs": [
    {
     "data": {
      "text/plain": [
       "dtype('int64')"
      ]
     },
     "execution_count": 94,
     "metadata": {},
     "output_type": "execute_result"
    }
   ],
   "source": [
    "fifa[\"Long Passing\"].dtype"
   ]
  },
  {
   "cell_type": "markdown",
   "id": "87fae3a1",
   "metadata": {},
   "source": [
    "# 34. Ball Control"
   ]
  },
  {
   "cell_type": "markdown",
   "id": "bceb637c",
   "metadata": {},
   "source": [
    "Player's ability to control the ball."
   ]
  },
  {
   "cell_type": "code",
   "execution_count": 95,
   "id": "ab6fb1bf",
   "metadata": {},
   "outputs": [
    {
     "data": {
      "text/plain": [
       "dtype('int64')"
      ]
     },
     "execution_count": 95,
     "metadata": {},
     "output_type": "execute_result"
    }
   ],
   "source": [
    "fifa[\"Ball Control\"].dtype"
   ]
  },
  {
   "cell_type": "markdown",
   "id": "ffe0d5b5",
   "metadata": {},
   "source": [
    "# 35. Movement"
   ]
  },
  {
   "cell_type": "markdown",
   "id": "4dddb81d",
   "metadata": {},
   "source": [
    "Composite rating of the player's movement abilities."
   ]
  },
  {
   "cell_type": "code",
   "execution_count": 96,
   "id": "c4b38532",
   "metadata": {},
   "outputs": [
    {
     "data": {
      "text/plain": [
       "dtype('int64')"
      ]
     },
     "execution_count": 96,
     "metadata": {},
     "output_type": "execute_result"
    }
   ],
   "source": [
    "fifa[\"Movement\"].dtype"
   ]
  },
  {
   "cell_type": "markdown",
   "id": "92a85d86",
   "metadata": {},
   "source": [
    "# 36. Acceleration"
   ]
  },
  {
   "cell_type": "markdown",
   "id": "0d8b7ee8",
   "metadata": {},
   "source": [
    "Player's ability to accelerate quickly."
   ]
  },
  {
   "cell_type": "code",
   "execution_count": 97,
   "id": "c5959ea1",
   "metadata": {},
   "outputs": [
    {
     "data": {
      "text/plain": [
       "dtype('int64')"
      ]
     },
     "execution_count": 97,
     "metadata": {},
     "output_type": "execute_result"
    }
   ],
   "source": [
    "fifa[\"Acceleration\"].dtype"
   ]
  },
  {
   "cell_type": "markdown",
   "id": "3995626e",
   "metadata": {},
   "source": [
    "# 37. Sprint Speed"
   ]
  },
  {
   "cell_type": "markdown",
   "id": "a8f9f955",
   "metadata": {},
   "source": [
    "Player's top speed"
   ]
  },
  {
   "cell_type": "code",
   "execution_count": 98,
   "id": "ee8aefa1",
   "metadata": {},
   "outputs": [
    {
     "data": {
      "text/plain": [
       "dtype('int64')"
      ]
     },
     "execution_count": 98,
     "metadata": {},
     "output_type": "execute_result"
    }
   ],
   "source": [
    "fifa[\"Sprint Speed\"].dtype"
   ]
  },
  {
   "cell_type": "markdown",
   "id": "9e6f61f0",
   "metadata": {},
   "source": [
    "# 38. Agility"
   ]
  },
  {
   "cell_type": "markdown",
   "id": "b035a0e8",
   "metadata": {},
   "source": [
    "Player's agility"
   ]
  },
  {
   "cell_type": "code",
   "execution_count": 99,
   "id": "8530ea98",
   "metadata": {},
   "outputs": [
    {
     "data": {
      "text/plain": [
       "dtype('int64')"
      ]
     },
     "execution_count": 99,
     "metadata": {},
     "output_type": "execute_result"
    }
   ],
   "source": [
    "fifa[\"Agility\"].dtype"
   ]
  },
  {
   "cell_type": "markdown",
   "id": "eca5ac92",
   "metadata": {},
   "source": [
    "# 39. Reactions"
   ]
  },
  {
   "cell_type": "markdown",
   "id": "3ce23b58",
   "metadata": {},
   "source": [
    "Player's reaction time"
   ]
  },
  {
   "cell_type": "code",
   "execution_count": 100,
   "id": "eceb95e6",
   "metadata": {},
   "outputs": [
    {
     "data": {
      "text/plain": [
       "dtype('int64')"
      ]
     },
     "execution_count": 100,
     "metadata": {},
     "output_type": "execute_result"
    }
   ],
   "source": [
    "fifa[\"Reactions\"].dtype"
   ]
  },
  {
   "cell_type": "markdown",
   "id": "467acdd0",
   "metadata": {},
   "source": [
    "# 40. Balance"
   ]
  },
  {
   "cell_type": "markdown",
   "id": "ec3053b5",
   "metadata": {},
   "source": [
    "Player's balance"
   ]
  },
  {
   "cell_type": "code",
   "execution_count": 101,
   "id": "b2592a85",
   "metadata": {},
   "outputs": [
    {
     "data": {
      "text/plain": [
       "dtype('int64')"
      ]
     },
     "execution_count": 101,
     "metadata": {},
     "output_type": "execute_result"
    }
   ],
   "source": [
    "fifa[\"Balance\"].dtype"
   ]
  },
  {
   "cell_type": "markdown",
   "id": "0d671be3",
   "metadata": {},
   "source": [
    "# 41. Power"
   ]
  },
  {
   "cell_type": "markdown",
   "id": "4f35ec2d",
   "metadata": {},
   "source": [
    "Composite rating of player's physical abilities"
   ]
  },
  {
   "cell_type": "code",
   "execution_count": 102,
   "id": "6b865b3a",
   "metadata": {},
   "outputs": [
    {
     "data": {
      "text/plain": [
       "dtype('int64')"
      ]
     },
     "execution_count": 102,
     "metadata": {},
     "output_type": "execute_result"
    }
   ],
   "source": [
    "fifa[\"Power\"].dtype"
   ]
  },
  {
   "cell_type": "markdown",
   "id": "76c740c9",
   "metadata": {},
   "source": [
    "# 42. Shoot Power"
   ]
  },
  {
   "cell_type": "markdown",
   "id": "c1355447",
   "metadata": {},
   "source": [
    "Player's ability to shoot with power"
   ]
  },
  {
   "cell_type": "code",
   "execution_count": 103,
   "id": "92f06bb1",
   "metadata": {},
   "outputs": [
    {
     "data": {
      "text/plain": [
       "dtype('int64')"
      ]
     },
     "execution_count": 103,
     "metadata": {},
     "output_type": "execute_result"
    }
   ],
   "source": [
    "fifa[\"Shot Power\"].dtype"
   ]
  },
  {
   "cell_type": "markdown",
   "id": "d0948201",
   "metadata": {},
   "source": [
    "# 66. W/F"
   ]
  },
  {
   "cell_type": "markdown",
   "id": "c69e2566",
   "metadata": {},
   "source": [
    "Player's weak foot rating (out of 5)"
   ]
  },
  {
   "cell_type": "code",
   "execution_count": 104,
   "id": "aae184ca",
   "metadata": {},
   "outputs": [
    {
     "data": {
      "text/plain": [
       "dtype('O')"
      ]
     },
     "execution_count": 104,
     "metadata": {},
     "output_type": "execute_result"
    }
   ],
   "source": [
    "fifa[\"W/F\"].dtype"
   ]
  },
  {
   "cell_type": "code",
   "execution_count": 105,
   "id": "b22bfb90",
   "metadata": {},
   "outputs": [
    {
     "data": {
      "text/plain": [
       "array(['4 ★', '3 ★', '5 ★', '2 ★', '1 ★'], dtype=object)"
      ]
     },
     "execution_count": 105,
     "metadata": {},
     "output_type": "execute_result"
    }
   ],
   "source": [
    "fifa[\"W/F\"].unique()"
   ]
  },
  {
   "cell_type": "code",
   "execution_count": 106,
   "id": "6c31aad6",
   "metadata": {},
   "outputs": [
    {
     "data": {
      "text/plain": [
       "array(['4 ', '3 ', '5 ', '2 ', '1 '], dtype=object)"
      ]
     },
     "execution_count": 106,
     "metadata": {},
     "output_type": "execute_result"
    }
   ],
   "source": [
    "fifa[\"W/F\"] = fifa[\"W/F\"].str.replace('★', '')\n",
    "fifa[\"W/F\"].unique()"
   ]
  },
  {
   "cell_type": "code",
   "execution_count": 107,
   "id": "39f31cdc",
   "metadata": {},
   "outputs": [],
   "source": [
    "fifa[\"W/F\"] = fifa[\"W/F\"].str.rstrip(\" \")"
   ]
  },
  {
   "cell_type": "code",
   "execution_count": 108,
   "id": "702f922a",
   "metadata": {},
   "outputs": [
    {
     "data": {
      "text/plain": [
       "array(['4', '3', '5', '2', '1'], dtype=object)"
      ]
     },
     "execution_count": 108,
     "metadata": {},
     "output_type": "execute_result"
    }
   ],
   "source": [
    "fifa[\"W/F\"].unique()"
   ]
  },
  {
   "cell_type": "markdown",
   "id": "3239e57c",
   "metadata": {},
   "source": [
    "# 77. Hits"
   ]
  },
  {
   "cell_type": "markdown",
   "id": "8cb65494",
   "metadata": {},
   "source": [
    "Number of times the player has been searched for in the FIFA database"
   ]
  },
  {
   "cell_type": "code",
   "execution_count": 109,
   "id": "c4a75873",
   "metadata": {},
   "outputs": [
    {
     "data": {
      "text/plain": [
       "dtype('O')"
      ]
     },
     "execution_count": 109,
     "metadata": {},
     "output_type": "execute_result"
    }
   ],
   "source": [
    "fifa['Hits'].dtype"
   ]
  },
  {
   "cell_type": "code",
   "execution_count": 110,
   "id": "fea63eab",
   "metadata": {},
   "outputs": [
    {
     "data": {
      "text/plain": [
       "array(['771', '562', '150', '207', '595', '248', '246', '120', '1.6K',\n",
       "       '130', '321', '189', '175', '96', '118', '216', '212', '154',\n",
       "       '205', '202', '339', '408', '103', '332', '86', '173', '161',\n",
       "       '396', '1.1K', '433', '242', '206', '177', '1.5K', '198', '459',\n",
       "       '117', '119', '209', '84', '187', '165', '203', '65', '336', '126',\n",
       "       '313', '124', '145', '538', '182', '101', '45', '377', '99', '194',\n",
       "       '403', '414', '593', '374', '245', '3.2K', '266', '299', '309',\n",
       "       '215', '265', '211', '112', '337', '70', '159', '688', '116', '63',\n",
       "       '144', '123', '71', '224', '113', '168', '61', '89', '137', '278',\n",
       "       '75', '148', '176', '197', '264', '214', '247', '402', '440',\n",
       "       '1.7K', '2.3K', '171', '320', '657', '87', '259', '200', '255',\n",
       "       '253', '196', '60', '97', '85', '169', '256', '132', '239', '166',\n",
       "       '121', '109', '32', '46', '122', '48', '527', '199', '282', '51',\n",
       "       '1.9K', '642', '155', '323', '288', '497', '509', '79', '49',\n",
       "       '270', '511', '80', '128', '115', '156', '204', '143', '140',\n",
       "       '152', '220', '134', '225', '94', '74', '135', '142', '50', '77',\n",
       "       '40', '107', '193', '179', '34', '64', '453', '57', '81', '28',\n",
       "       '78', '133', '43', '425', '88', '42', '36', '233', '376', '210',\n",
       "       '444', '100', '263', '98', '29', '160', '39', '257', '6', '310',\n",
       "       '138', '62', '293', '285', '362', '66', '69', '58', '21', '20',\n",
       "       '131', '38', '406', '68', '108', '110', '93', '512', '443', '306',\n",
       "       '352', '422', '585', '346', '178', '841', '76', '394', '72', '172',\n",
       "       '44', '407', '230', '367', '295', '157', '243', '56', '111', '326',\n",
       "       '679', '18', '92', '59', '25', '184', '53', '12', '90', '55', '73',\n",
       "       '11', '566', '180', '83', '262', '17', '26', '31', '280', '359',\n",
       "       '213', '297', '387', '480', '381', '677', '486', '8', '244', '129',\n",
       "       '388', '275', '319', '2K', '52', '91', '421', '153', '27', '41',\n",
       "       '222', '35', '102', '23', '30', '33', '146', '13', '19', '14',\n",
       "       '106', '276', '568', '353', '47', '478', '249', '254', '369',\n",
       "       '219', '565', '237', '227', '434', '375', '162', '605', '654', '3',\n",
       "       '7', '9', '104', '114', '186', '446', '756', '22', '139', '500',\n",
       "       '67', '147', '149', '16', '82', '54', '37', '15', '1.3K', '3K',\n",
       "       '952', '5', '749', '541', '330', '393', '517', '770', '409', '170',\n",
       "       '125', '283', '342', '363', '580', '105', '217', '24', '141', '10',\n",
       "       '427', '158', '426', '4', '666', '181', '324', '979', '1.4K',\n",
       "       '302', '751', '298', '411', '944', '2', '947', '292', '349', '621',\n",
       "       '1', '2.8K', '338', '287', '261', '218', '1.8K', '240', '279',\n",
       "       '229', '188', '315', '664', '613', '190', '706', '127', '462',\n",
       "       '386', '695', '491', '167', '281', '250', '307', '95', '231',\n",
       "       '174', '680', '633', '221', '348', '602', '183', '653', '195',\n",
       "       '164', '151', '258', '8.4K', '343', '419', '655', '136', '399',\n",
       "       '531', '357', '228', '385', '312', '340', '238', '487', '355',\n",
       "       '499', '4.3K', '296', '515', '943', '1.2K', '903', '335', '191',\n",
       "       '594', '267', '617', '516', '504', '331', '652', '410', '550',\n",
       "       '473', '442', '344', '208', '1K', '2.5K', '273', '485', '826',\n",
       "       '192', '405', '941', '477', '644', '303', '417', '6K', nan],\n",
       "      dtype=object)"
      ]
     },
     "execution_count": 110,
     "metadata": {},
     "output_type": "execute_result"
    }
   ],
   "source": [
    "fifa['Hits'].unique()"
   ]
  },
  {
   "cell_type": "code",
   "execution_count": null,
   "id": "1e18761d",
   "metadata": {},
   "outputs": [],
   "source": []
  }
 ],
 "metadata": {
  "kernelspec": {
   "display_name": "Python 3 (ipykernel)",
   "language": "python",
   "name": "python3"
  },
  "language_info": {
   "codemirror_mode": {
    "name": "ipython",
    "version": 3
   },
   "file_extension": ".py",
   "mimetype": "text/x-python",
   "name": "python",
   "nbconvert_exporter": "python",
   "pygments_lexer": "ipython3",
   "version": "3.11.4"
  }
 },
 "nbformat": 4,
 "nbformat_minor": 5
}
